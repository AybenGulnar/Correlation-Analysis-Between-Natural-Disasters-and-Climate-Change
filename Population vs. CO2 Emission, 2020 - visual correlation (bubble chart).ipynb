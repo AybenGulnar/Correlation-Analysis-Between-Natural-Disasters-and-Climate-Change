{
 "cells": [
  {
   "cell_type": "code",
   "execution_count": 9,
   "metadata": {},
   "outputs": [
    {
     "data": {
      "text/html": [
       "        <script type=\"text/javascript\">\n",
       "        window.PlotlyConfig = {MathJaxConfig: 'local'};\n",
       "        if (window.MathJax) {MathJax.Hub.Config({SVG: {font: \"STIX-Web\"}});}\n",
       "        if (typeof require !== 'undefined') {\n",
       "        require.undef(\"plotly\");\n",
       "        requirejs.config({\n",
       "            paths: {\n",
       "                'plotly': ['https://cdn.plot.ly/plotly-2.8.3.min']\n",
       "            }\n",
       "        });\n",
       "        require(['plotly'], function(Plotly) {\n",
       "            window._Plotly = Plotly;\n",
       "        });\n",
       "        }\n",
       "        </script>\n",
       "        "
      ]
     },
     "metadata": {},
     "output_type": "display_data"
    },
    {
     "data": {
      "text/html": [
       "        <script type=\"text/javascript\">\n",
       "        window.PlotlyConfig = {MathJaxConfig: 'local'};\n",
       "        if (window.MathJax) {MathJax.Hub.Config({SVG: {font: \"STIX-Web\"}});}\n",
       "        if (typeof require !== 'undefined') {\n",
       "        require.undef(\"plotly\");\n",
       "        requirejs.config({\n",
       "            paths: {\n",
       "                'plotly': ['https://cdn.plot.ly/plotly-2.8.3.min']\n",
       "            }\n",
       "        });\n",
       "        require(['plotly'], function(Plotly) {\n",
       "            window._Plotly = Plotly;\n",
       "        });\n",
       "        }\n",
       "        </script>\n",
       "        "
      ]
     },
     "metadata": {},
     "output_type": "display_data"
    }
   ],
   "source": [
    "import pandas as pd\n",
    "import numpy as np\n",
    "import math\n",
    "import cufflinks as cf\n",
    "import plotly\n",
    "import plotly.express as px\n",
    "import plotly.graph_objects as go\n",
    "%matplotlib inline\n",
    "from plotly.offline import download_plotlyjs, init_notebook_mode, plot, iplot \n",
    "init_notebook_mode(connected=True)\n",
    "cf.go_offline()"
   ]
  },
  {
   "cell_type": "code",
   "execution_count": 11,
   "metadata": {},
   "outputs": [
    {
     "name": "stdout",
     "output_type": "stream",
     "text": [
      "<class 'pandas.core.frame.DataFrame'>\n",
      "RangeIndex: 20853 entries, 0 to 20852\n",
      "Data columns (total 4 columns):\n",
      " #   Column                          Non-Null Count  Dtype         \n",
      "---  ------                          --------------  -----         \n",
      " 0   Entity                          20853 non-null  object        \n",
      " 1   Code                            18646 non-null  object        \n",
      " 2   Year                            20853 non-null  datetime64[ns]\n",
      " 3   Annual CO₂ emissions (tonnes )  20853 non-null  float64       \n",
      "dtypes: datetime64[ns](1), float64(1), object(2)\n",
      "memory usage: 651.8+ KB\n"
     ]
    }
   ],
   "source": [
    "df_co = pd.read_csv('Datasets/co2_emission.csv', parse_dates = ['Year'])\n",
    "df_co.info()"
   ]
  },
  {
   "cell_type": "code",
   "execution_count": 12,
   "metadata": {},
   "outputs": [
    {
     "data": {
      "text/plain": [
       "array(['Africa', 'Americas (other)', 'Antarctic Fisheries',\n",
       "       'Asia and Pacific (other)', 'EU-28', 'Europe (other)',\n",
       "       'International transport', 'Kyrgysztan', 'Middle East',\n",
       "       'Statistical differences', 'Wallis and Futuna Islands'],\n",
       "      dtype=object)"
      ]
     },
     "execution_count": 12,
     "metadata": {},
     "output_type": "execute_result"
    }
   ],
   "source": [
    "df_co_na = df_co[df_co['Code'].isnull()]\n",
    "df_co_na['Entity'].unique()"
   ]
  },
  {
   "cell_type": "code",
   "execution_count": 13,
   "metadata": {},
   "outputs": [],
   "source": [
    "df_kgz = df_co[df_co[\"Entity\"].isin([\"Kyrgysztan\"])]\n",
    "df_kgz.fillna('KGZ', inplace = True)\n",
    "df_wlf = df_co[df_co[\"Entity\"].isin([\"Wallis and Futuna Islands\"])]\n",
    "df_wlf.fillna('WLF', inplace = True)"
   ]
  },
  {
   "cell_type": "code",
   "execution_count": 14,
   "metadata": {},
   "outputs": [
    {
     "name": "stdout",
     "output_type": "stream",
     "text": [
      "<class 'pandas.core.frame.DataFrame'>\n",
      "Int64Index: 18646 entries, 0 to 20852\n",
      "Data columns (total 4 columns):\n",
      " #   Column                          Non-Null Count  Dtype         \n",
      "---  ------                          --------------  -----         \n",
      " 0   Entity                          18646 non-null  object        \n",
      " 1   Code                            18646 non-null  object        \n",
      " 2   Year                            18646 non-null  datetime64[ns]\n",
      " 3   Annual CO₂ emissions (tonnes )  18646 non-null  float64       \n",
      "dtypes: datetime64[ns](1), float64(1), object(2)\n",
      "memory usage: 728.4+ KB\n"
     ]
    }
   ],
   "source": [
    "df_co.dropna(inplace=True)\n",
    "df_co.info()"
   ]
  },
  {
   "cell_type": "code",
   "execution_count": 15,
   "metadata": {},
   "outputs": [
    {
     "data": {
      "text/html": [
       "<div>\n",
       "<style scoped>\n",
       "    .dataframe tbody tr th:only-of-type {\n",
       "        vertical-align: middle;\n",
       "    }\n",
       "\n",
       "    .dataframe tbody tr th {\n",
       "        vertical-align: top;\n",
       "    }\n",
       "\n",
       "    .dataframe thead th {\n",
       "        text-align: right;\n",
       "    }\n",
       "</style>\n",
       "<table border=\"1\" class=\"dataframe\">\n",
       "  <thead>\n",
       "    <tr style=\"text-align: right;\">\n",
       "      <th></th>\n",
       "      <th>Entity</th>\n",
       "      <th>Code</th>\n",
       "      <th>Year</th>\n",
       "      <th>Annual CO₂ emissions (tonnes )</th>\n",
       "    </tr>\n",
       "  </thead>\n",
       "  <tbody>\n",
       "    <tr>\n",
       "      <th>0</th>\n",
       "      <td>Afghanistan</td>\n",
       "      <td>AFG</td>\n",
       "      <td>1949-01-01</td>\n",
       "      <td>14656.0</td>\n",
       "    </tr>\n",
       "    <tr>\n",
       "      <th>1</th>\n",
       "      <td>Afghanistan</td>\n",
       "      <td>AFG</td>\n",
       "      <td>1950-01-01</td>\n",
       "      <td>84272.0</td>\n",
       "    </tr>\n",
       "    <tr>\n",
       "      <th>2</th>\n",
       "      <td>Afghanistan</td>\n",
       "      <td>AFG</td>\n",
       "      <td>1951-01-01</td>\n",
       "      <td>91600.0</td>\n",
       "    </tr>\n",
       "    <tr>\n",
       "      <th>3</th>\n",
       "      <td>Afghanistan</td>\n",
       "      <td>AFG</td>\n",
       "      <td>1952-01-01</td>\n",
       "      <td>91600.0</td>\n",
       "    </tr>\n",
       "    <tr>\n",
       "      <th>4</th>\n",
       "      <td>Afghanistan</td>\n",
       "      <td>AFG</td>\n",
       "      <td>1953-01-01</td>\n",
       "      <td>106256.0</td>\n",
       "    </tr>\n",
       "  </tbody>\n",
       "</table>\n",
       "</div>"
      ],
      "text/plain": [
       "        Entity Code       Year  Annual CO₂ emissions (tonnes )\n",
       "0  Afghanistan  AFG 1949-01-01                         14656.0\n",
       "1  Afghanistan  AFG 1950-01-01                         84272.0\n",
       "2  Afghanistan  AFG 1951-01-01                         91600.0\n",
       "3  Afghanistan  AFG 1952-01-01                         91600.0\n",
       "4  Afghanistan  AFG 1953-01-01                        106256.0"
      ]
     },
     "execution_count": 15,
     "metadata": {},
     "output_type": "execute_result"
    }
   ],
   "source": [
    "df=pd.concat([df_co, df_kgz, df_wlf])\n",
    "df.sort_values(['Entity', 'Year']) \n",
    "df.reset_index(level=0, inplace=True)\n",
    "del df[\"index\"]\n",
    "df.head() "
   ]
  },
  {
   "cell_type": "code",
   "execution_count": 19,
   "metadata": {},
   "outputs": [
    {
     "data": {
      "text/html": [
       "<div>\n",
       "<style scoped>\n",
       "    .dataframe tbody tr th:only-of-type {\n",
       "        vertical-align: middle;\n",
       "    }\n",
       "\n",
       "    .dataframe tbody tr th {\n",
       "        vertical-align: top;\n",
       "    }\n",
       "\n",
       "    .dataframe thead th {\n",
       "        text-align: right;\n",
       "    }\n",
       "</style>\n",
       "<table border=\"1\" class=\"dataframe\">\n",
       "  <thead>\n",
       "    <tr style=\"text-align: right;\">\n",
       "      <th></th>\n",
       "      <th>Code</th>\n",
       "      <th>Region</th>\n",
       "      <th>Sub-Region</th>\n",
       "    </tr>\n",
       "  </thead>\n",
       "  <tbody>\n",
       "    <tr>\n",
       "      <th>244</th>\n",
       "      <td>WLF</td>\n",
       "      <td>Oceania</td>\n",
       "      <td>Polynesia</td>\n",
       "    </tr>\n",
       "    <tr>\n",
       "      <th>245</th>\n",
       "      <td>ESH</td>\n",
       "      <td>Africa</td>\n",
       "      <td>Northern Africa</td>\n",
       "    </tr>\n",
       "    <tr>\n",
       "      <th>246</th>\n",
       "      <td>YEM</td>\n",
       "      <td>Asia</td>\n",
       "      <td>Western Asia</td>\n",
       "    </tr>\n",
       "    <tr>\n",
       "      <th>247</th>\n",
       "      <td>ZMB</td>\n",
       "      <td>Africa</td>\n",
       "      <td>Sub-Saharan Africa</td>\n",
       "    </tr>\n",
       "    <tr>\n",
       "      <th>248</th>\n",
       "      <td>ZWE</td>\n",
       "      <td>Africa</td>\n",
       "      <td>Sub-Saharan Africa</td>\n",
       "    </tr>\n",
       "  </tbody>\n",
       "</table>\n",
       "</div>"
      ],
      "text/plain": [
       "    Code   Region          Sub-Region\n",
       "244  WLF  Oceania           Polynesia\n",
       "245  ESH   Africa     Northern Africa\n",
       "246  YEM     Asia        Western Asia\n",
       "247  ZMB   Africa  Sub-Saharan Africa\n",
       "248  ZWE   Africa  Sub-Saharan Africa"
      ]
     },
     "execution_count": 19,
     "metadata": {},
     "output_type": "execute_result"
    }
   ],
   "source": [
    "df_cc = pd.read_csv('Datasets/continents2.csv', usecols=[\"alpha-3\", \"region\", \"sub-region\"])\n",
    "df_cc.rename(columns={'alpha-3':'Code', 'region':'Region', 'sub-region':'Sub-Region'}, inplace=True)\n",
    "df_cc.tail()"
   ]
  },
  {
   "cell_type": "code",
   "execution_count": 20,
   "metadata": {},
   "outputs": [
    {
     "name": "stdout",
     "output_type": "stream",
     "text": [
      "<class 'pandas.core.frame.DataFrame'>\n",
      "Int64Index: 18696 entries, 0 to 18695\n",
      "Data columns (total 6 columns):\n",
      " #   Column                          Non-Null Count  Dtype         \n",
      "---  ------                          --------------  -----         \n",
      " 0   Entity                          18696 non-null  object        \n",
      " 1   Code                            18696 non-null  object        \n",
      " 2   Year                            18696 non-null  datetime64[ns]\n",
      " 3   Annual CO₂ emissions (tonnes )  18696 non-null  float64       \n",
      " 4   Region                          18297 non-null  object        \n",
      " 5   Sub-Region                      18297 non-null  object        \n",
      "dtypes: datetime64[ns](1), float64(1), object(4)\n",
      "memory usage: 1022.4+ KB\n"
     ]
    }
   ],
   "source": [
    "df_combination = pd.merge(df, df_cc, how='left', on = 'Code')\n",
    "df_combination.info()"
   ]
  },
  {
   "cell_type": "code",
   "execution_count": 21,
   "metadata": {},
   "outputs": [
    {
     "data": {
      "text/plain": [
       "array(['Czechoslovakia', 'World'], dtype=object)"
      ]
     },
     "execution_count": 21,
     "metadata": {},
     "output_type": "execute_result"
    }
   ],
   "source": [
    "df_combination_control = df_combination[df_combination['Region'].isnull()]\n",
    "df_combination_control['Entity'].unique()"
   ]
  },
  {
   "cell_type": "code",
   "execution_count": 22,
   "metadata": {},
   "outputs": [
    {
     "data": {
      "text/plain": [
       "array(['Czechoslovakia'], dtype=object)"
      ]
     },
     "execution_count": 22,
     "metadata": {},
     "output_type": "execute_result"
    }
   ],
   "source": [
    "df_combination = df_combination[df_combination['Entity']!='World']\n",
    "df_combination_control=df_combination[df_combination['Region'].isnull()]\n",
    "df_combination_control['Entity'].unique()"
   ]
  },
  {
   "cell_type": "code",
   "execution_count": 23,
   "metadata": {},
   "outputs": [
    {
     "name": "stdout",
     "output_type": "stream",
     "text": [
      "<class 'pandas.core.frame.DataFrame'>\n",
      "Int64Index: 18429 entries, 0 to 18695\n",
      "Data columns (total 6 columns):\n",
      " #   Column                          Non-Null Count  Dtype         \n",
      "---  ------                          --------------  -----         \n",
      " 0   Entity                          18429 non-null  object        \n",
      " 1   Code                            18429 non-null  object        \n",
      " 2   Year                            18429 non-null  datetime64[ns]\n",
      " 3   Annual CO₂ emissions (tonnes )  18429 non-null  float64       \n",
      " 4   Region                          18429 non-null  object        \n",
      " 5   Sub-Region                      18429 non-null  object        \n",
      "dtypes: datetime64[ns](1), float64(1), object(4)\n",
      "memory usage: 1007.8+ KB\n"
     ]
    }
   ],
   "source": [
    "df_combination['Region'].fillna('Europe', inplace=True)\n",
    "df_combination['Sub-Region'].fillna('Eastern Europe', inplace = True)\n",
    "df_combination.info()"
   ]
  },
  {
   "cell_type": "code",
   "execution_count": 24,
   "metadata": {},
   "outputs": [
    {
     "data": {
      "text/html": [
       "<div>\n",
       "<style scoped>\n",
       "    .dataframe tbody tr th:only-of-type {\n",
       "        vertical-align: middle;\n",
       "    }\n",
       "\n",
       "    .dataframe tbody tr th {\n",
       "        vertical-align: top;\n",
       "    }\n",
       "\n",
       "    .dataframe thead th {\n",
       "        text-align: right;\n",
       "    }\n",
       "</style>\n",
       "<table border=\"1\" class=\"dataframe\">\n",
       "  <thead>\n",
       "    <tr style=\"text-align: right;\">\n",
       "      <th></th>\n",
       "      <th>Entity</th>\n",
       "      <th>Code</th>\n",
       "      <th>Year</th>\n",
       "      <th>Annual CO₂ emissions (tonnes )</th>\n",
       "      <th>Region</th>\n",
       "      <th>Sub-Region</th>\n",
       "    </tr>\n",
       "  </thead>\n",
       "  <tbody>\n",
       "    <tr>\n",
       "      <th>0</th>\n",
       "      <td>Afghanistan</td>\n",
       "      <td>AFG</td>\n",
       "      <td>1949-01-01</td>\n",
       "      <td>14656.0</td>\n",
       "      <td>Asia</td>\n",
       "      <td>Southern Asia</td>\n",
       "    </tr>\n",
       "    <tr>\n",
       "      <th>1</th>\n",
       "      <td>Afghanistan</td>\n",
       "      <td>AFG</td>\n",
       "      <td>1950-01-01</td>\n",
       "      <td>84272.0</td>\n",
       "      <td>Asia</td>\n",
       "      <td>Southern Asia</td>\n",
       "    </tr>\n",
       "    <tr>\n",
       "      <th>2</th>\n",
       "      <td>Afghanistan</td>\n",
       "      <td>AFG</td>\n",
       "      <td>1951-01-01</td>\n",
       "      <td>91600.0</td>\n",
       "      <td>Asia</td>\n",
       "      <td>Southern Asia</td>\n",
       "    </tr>\n",
       "    <tr>\n",
       "      <th>3</th>\n",
       "      <td>Afghanistan</td>\n",
       "      <td>AFG</td>\n",
       "      <td>1952-01-01</td>\n",
       "      <td>91600.0</td>\n",
       "      <td>Asia</td>\n",
       "      <td>Southern Asia</td>\n",
       "    </tr>\n",
       "    <tr>\n",
       "      <th>4</th>\n",
       "      <td>Afghanistan</td>\n",
       "      <td>AFG</td>\n",
       "      <td>1953-01-01</td>\n",
       "      <td>106256.0</td>\n",
       "      <td>Asia</td>\n",
       "      <td>Southern Asia</td>\n",
       "    </tr>\n",
       "  </tbody>\n",
       "</table>\n",
       "</div>"
      ],
      "text/plain": [
       "        Entity Code       Year  Annual CO₂ emissions (tonnes ) Region  \\\n",
       "0  Afghanistan  AFG 1949-01-01                         14656.0   Asia   \n",
       "1  Afghanistan  AFG 1950-01-01                         84272.0   Asia   \n",
       "2  Afghanistan  AFG 1951-01-01                         91600.0   Asia   \n",
       "3  Afghanistan  AFG 1952-01-01                         91600.0   Asia   \n",
       "4  Afghanistan  AFG 1953-01-01                        106256.0   Asia   \n",
       "\n",
       "      Sub-Region  \n",
       "0  Southern Asia  \n",
       "1  Southern Asia  \n",
       "2  Southern Asia  \n",
       "3  Southern Asia  \n",
       "4  Southern Asia  "
      ]
     },
     "execution_count": 24,
     "metadata": {},
     "output_type": "execute_result"
    }
   ],
   "source": [
    "df_combination.head() \n"
   ]
  },
  {
   "cell_type": "code",
   "execution_count": 25,
   "metadata": {},
   "outputs": [
    {
     "data": {
      "text/html": [
       "<div>\n",
       "<style scoped>\n",
       "    .dataframe tbody tr th:only-of-type {\n",
       "        vertical-align: middle;\n",
       "    }\n",
       "\n",
       "    .dataframe tbody tr th {\n",
       "        vertical-align: top;\n",
       "    }\n",
       "\n",
       "    .dataframe thead th {\n",
       "        text-align: right;\n",
       "    }\n",
       "</style>\n",
       "<table border=\"1\" class=\"dataframe\">\n",
       "  <thead>\n",
       "    <tr style=\"text-align: right;\">\n",
       "      <th></th>\n",
       "      <th>Year</th>\n",
       "      <th>Region</th>\n",
       "      <th>Annual CO₂ emissions (tonnes )</th>\n",
       "    </tr>\n",
       "  </thead>\n",
       "  <tbody>\n",
       "    <tr>\n",
       "      <th>0</th>\n",
       "      <td>1884-01-01</td>\n",
       "      <td>Africa</td>\n",
       "      <td>21984.0</td>\n",
       "    </tr>\n",
       "    <tr>\n",
       "      <th>1</th>\n",
       "      <td>1885-01-01</td>\n",
       "      <td>Africa</td>\n",
       "      <td>36640.0</td>\n",
       "    </tr>\n",
       "    <tr>\n",
       "      <th>2</th>\n",
       "      <td>1886-01-01</td>\n",
       "      <td>Africa</td>\n",
       "      <td>47632.0</td>\n",
       "    </tr>\n",
       "    <tr>\n",
       "      <th>3</th>\n",
       "      <td>1887-01-01</td>\n",
       "      <td>Africa</td>\n",
       "      <td>47632.0</td>\n",
       "    </tr>\n",
       "    <tr>\n",
       "      <th>4</th>\n",
       "      <td>1888-01-01</td>\n",
       "      <td>Africa</td>\n",
       "      <td>80608.0</td>\n",
       "    </tr>\n",
       "  </tbody>\n",
       "</table>\n",
       "</div>"
      ],
      "text/plain": [
       "        Year  Region  Annual CO₂ emissions (tonnes )\n",
       "0 1884-01-01  Africa                         21984.0\n",
       "1 1885-01-01  Africa                         36640.0\n",
       "2 1886-01-01  Africa                         47632.0\n",
       "3 1887-01-01  Africa                         47632.0\n",
       "4 1888-01-01  Africa                         80608.0"
      ]
     },
     "execution_count": 25,
     "metadata": {},
     "output_type": "execute_result"
    }
   ],
   "source": [
    "total_reg = df_combination.groupby([\"Region\", \"Year\"])[\"Annual CO₂ emissions (tonnes )\"].sum()\n",
    "df_reg = pd.DataFrame(total_reg)\n",
    "df_reg.reset_index(level=0, inplace=True)\n",
    "df_reg.reset_index(level=0, inplace=True)\n",
    "df_reg.head()"
   ]
  },
  {
   "cell_type": "code",
   "execution_count": 26,
   "metadata": {},
   "outputs": [
    {
     "data": {
      "application/vnd.plotly.v1+json": {
       "config": {
        "plotlyServerURL": "https://plot.ly"
       },
       "data": [
        {
         "hovertemplate": "Region=Africa<br>Year=%{x}<br>CO₂ Emission=%{y}<extra></extra>",
         "legendgroup": "Africa",
         "line": {
          "color": "#636efa"
         },
         "marker": {
          "symbol": "circle"
         },
         "mode": "lines",
         "name": "Africa",
         "orientation": "v",
         "showlegend": true,
         "stackgroup": "1",
         "type": "scatter",
         "x": [
          "1884-01-01T00:00:00",
          "1885-01-01T00:00:00",
          "1886-01-01T00:00:00",
          "1887-01-01T00:00:00",
          "1888-01-01T00:00:00",
          "1889-01-01T00:00:00",
          "1890-01-01T00:00:00",
          "1891-01-01T00:00:00",
          "1892-01-01T00:00:00",
          "1893-01-01T00:00:00",
          "1894-01-01T00:00:00",
          "1895-01-01T00:00:00",
          "1896-01-01T00:00:00",
          "1897-01-01T00:00:00",
          "1898-01-01T00:00:00",
          "1899-01-01T00:00:00",
          "1900-01-01T00:00:00",
          "1901-01-01T00:00:00",
          "1902-01-01T00:00:00",
          "1903-01-01T00:00:00",
          "1904-01-01T00:00:00",
          "1905-01-01T00:00:00",
          "1906-01-01T00:00:00",
          "1907-01-01T00:00:00",
          "1908-01-01T00:00:00",
          "1909-01-01T00:00:00",
          "1910-01-01T00:00:00",
          "1911-01-01T00:00:00",
          "1912-01-01T00:00:00",
          "1913-01-01T00:00:00",
          "1914-01-01T00:00:00",
          "1915-01-01T00:00:00",
          "1916-01-01T00:00:00",
          "1917-01-01T00:00:00",
          "1918-01-01T00:00:00",
          "1919-01-01T00:00:00",
          "1920-01-01T00:00:00",
          "1921-01-01T00:00:00",
          "1922-01-01T00:00:00",
          "1923-01-01T00:00:00",
          "1924-01-01T00:00:00",
          "1925-01-01T00:00:00",
          "1926-01-01T00:00:00",
          "1927-01-01T00:00:00",
          "1928-01-01T00:00:00",
          "1929-01-01T00:00:00",
          "1930-01-01T00:00:00",
          "1931-01-01T00:00:00",
          "1932-01-01T00:00:00",
          "1933-01-01T00:00:00",
          "1934-01-01T00:00:00",
          "1935-01-01T00:00:00",
          "1936-01-01T00:00:00",
          "1937-01-01T00:00:00",
          "1938-01-01T00:00:00",
          "1939-01-01T00:00:00",
          "1940-01-01T00:00:00",
          "1941-01-01T00:00:00",
          "1942-01-01T00:00:00",
          "1943-01-01T00:00:00",
          "1944-01-01T00:00:00",
          "1945-01-01T00:00:00",
          "1946-01-01T00:00:00",
          "1947-01-01T00:00:00",
          "1948-01-01T00:00:00",
          "1949-01-01T00:00:00",
          "1950-01-01T00:00:00",
          "1951-01-01T00:00:00",
          "1952-01-01T00:00:00",
          "1953-01-01T00:00:00",
          "1954-01-01T00:00:00",
          "1955-01-01T00:00:00",
          "1956-01-01T00:00:00",
          "1957-01-01T00:00:00",
          "1958-01-01T00:00:00",
          "1959-01-01T00:00:00",
          "1960-01-01T00:00:00",
          "1961-01-01T00:00:00",
          "1962-01-01T00:00:00",
          "1963-01-01T00:00:00",
          "1964-01-01T00:00:00",
          "1965-01-01T00:00:00",
          "1966-01-01T00:00:00",
          "1967-01-01T00:00:00",
          "1968-01-01T00:00:00",
          "1969-01-01T00:00:00",
          "1970-01-01T00:00:00",
          "1971-01-01T00:00:00",
          "1972-01-01T00:00:00",
          "1973-01-01T00:00:00",
          "1974-01-01T00:00:00",
          "1975-01-01T00:00:00",
          "1976-01-01T00:00:00",
          "1977-01-01T00:00:00",
          "1978-01-01T00:00:00",
          "1979-01-01T00:00:00",
          "1980-01-01T00:00:00",
          "1981-01-01T00:00:00",
          "1982-01-01T00:00:00",
          "1983-01-01T00:00:00",
          "1984-01-01T00:00:00",
          "1985-01-01T00:00:00",
          "1986-01-01T00:00:00",
          "1987-01-01T00:00:00",
          "1988-01-01T00:00:00",
          "1989-01-01T00:00:00",
          "1990-01-01T00:00:00",
          "1991-01-01T00:00:00",
          "1992-01-01T00:00:00",
          "1993-01-01T00:00:00",
          "1994-01-01T00:00:00",
          "1995-01-01T00:00:00",
          "1996-01-01T00:00:00",
          "1997-01-01T00:00:00",
          "1998-01-01T00:00:00",
          "1999-01-01T00:00:00",
          "2000-01-01T00:00:00",
          "2001-01-01T00:00:00",
          "2002-01-01T00:00:00",
          "2003-01-01T00:00:00",
          "2004-01-01T00:00:00",
          "2005-01-01T00:00:00",
          "2006-01-01T00:00:00",
          "2007-01-01T00:00:00",
          "2008-01-01T00:00:00",
          "2009-01-01T00:00:00",
          "2010-01-01T00:00:00",
          "2011-01-01T00:00:00",
          "2012-01-01T00:00:00",
          "2013-01-01T00:00:00",
          "2014-01-01T00:00:00",
          "2015-01-01T00:00:00",
          "2016-01-01T00:00:00",
          "2017-01-01T00:00:00"
         ],
         "xaxis": "x",
         "y": [
          21984,
          36640,
          47632,
          47632,
          80608,
          131904,
          296784,
          296784,
          479984,
          1799024,
          2432896,
          3337904,
          4257568,
          4777856,
          6049264,
          5517984,
          2330304,
          3909488,
          5825760,
          7895920,
          8910848,
          10262864,
          11717472,
          12930256,
          13402912,
          15385136,
          17411328,
          16865392,
          17953600,
          19606064,
          19551104,
          19606064,
          23255408,
          25343888,
          24724672,
          25442816,
          28051584,
          27985632,
          23969888,
          29044528,
          30631040,
          32184576,
          34437936,
          33840704,
          34771360,
          35804608,
          33697808,
          29465888,
          26626288,
          28494928,
          32543648,
          35914528,
          39021600,
          41850208,
          44019296,
          46858896,
          49654528,
          54029344,
          58829184,
          60126240,
          66640832,
          67534848,
          68168720,
          67945216,
          71744784,
          77336048,
          87199536,
          93072928,
          101188688,
          102478416,
          107084064,
          117434864,
          121871968,
          127888256,
          137407328,
          147336232.63,
          155926037.87,
          161490780.97,
          165784686.54,
          175786229.16000003,
          192885718.19,
          212825474.43,
          220111943.95,
          235765268.04,
          256109316.13,
          276693705.36,
          303347407.3,
          332613652.7,
          352674448.62,
          378850020.05,
          389307853.3,
          388144642.46999997,
          421130734.01,
          433986744.45,
          463516929.54,
          500257681.72,
          536794053.56,
          549641247.27,
          572876498.5500001,
          595723369.91,
          650510509.12,
          666993856.21,
          691032206.7800001,
          691049730.1800001,
          726363674.88,
          699467189.01,
          659409986.93,
          688646882.78,
          671490175.94,
          711268200.27,
          722225578.66,
          777677316.58,
          795929824.63,
          815399385.7,
          838267688.21,
          831360200.81,
          887875064.3,
          882715825.61,
          887874329.51,
          965740411.89,
          1037092801.89,
          1048478604.5,
          1088450437.56,
          1131414239.48,
          1183366591.45,
          1193753215.6200001,
          1199505147,
          1204303923.5,
          1222546112.1499999,
          1238227347.97,
          1278208228.8700001,
          1289014732.09,
          1310668086.91,
          1331751655.31
         ],
         "yaxis": "y"
        },
        {
         "hovertemplate": "Region=Americas<br>Year=%{x}<br>CO₂ Emission=%{y}<extra></extra>",
         "legendgroup": "Americas",
         "line": {
          "color": "#EF553B"
         },
         "marker": {
          "symbol": "circle"
         },
         "mode": "lines",
         "name": "Americas",
         "orientation": "v",
         "showlegend": true,
         "stackgroup": "1",
         "type": "scatter",
         "x": [
          "1751-01-01T00:00:00",
          "1752-01-01T00:00:00",
          "1753-01-01T00:00:00",
          "1754-01-01T00:00:00",
          "1755-01-01T00:00:00",
          "1756-01-01T00:00:00",
          "1757-01-01T00:00:00",
          "1758-01-01T00:00:00",
          "1759-01-01T00:00:00",
          "1760-01-01T00:00:00",
          "1761-01-01T00:00:00",
          "1762-01-01T00:00:00",
          "1763-01-01T00:00:00",
          "1764-01-01T00:00:00",
          "1765-01-01T00:00:00",
          "1766-01-01T00:00:00",
          "1767-01-01T00:00:00",
          "1768-01-01T00:00:00",
          "1769-01-01T00:00:00",
          "1770-01-01T00:00:00",
          "1771-01-01T00:00:00",
          "1772-01-01T00:00:00",
          "1773-01-01T00:00:00",
          "1774-01-01T00:00:00",
          "1775-01-01T00:00:00",
          "1776-01-01T00:00:00",
          "1777-01-01T00:00:00",
          "1778-01-01T00:00:00",
          "1779-01-01T00:00:00",
          "1780-01-01T00:00:00",
          "1781-01-01T00:00:00",
          "1782-01-01T00:00:00",
          "1783-01-01T00:00:00",
          "1784-01-01T00:00:00",
          "1785-01-01T00:00:00",
          "1786-01-01T00:00:00",
          "1787-01-01T00:00:00",
          "1788-01-01T00:00:00",
          "1789-01-01T00:00:00",
          "1790-01-01T00:00:00",
          "1791-01-01T00:00:00",
          "1792-01-01T00:00:00",
          "1793-01-01T00:00:00",
          "1794-01-01T00:00:00",
          "1795-01-01T00:00:00",
          "1796-01-01T00:00:00",
          "1797-01-01T00:00:00",
          "1798-01-01T00:00:00",
          "1799-01-01T00:00:00",
          "1800-01-01T00:00:00",
          "1801-01-01T00:00:00",
          "1802-01-01T00:00:00",
          "1803-01-01T00:00:00",
          "1804-01-01T00:00:00",
          "1805-01-01T00:00:00",
          "1806-01-01T00:00:00",
          "1807-01-01T00:00:00",
          "1808-01-01T00:00:00",
          "1809-01-01T00:00:00",
          "1810-01-01T00:00:00",
          "1811-01-01T00:00:00",
          "1812-01-01T00:00:00",
          "1813-01-01T00:00:00",
          "1814-01-01T00:00:00",
          "1815-01-01T00:00:00",
          "1816-01-01T00:00:00",
          "1817-01-01T00:00:00",
          "1818-01-01T00:00:00",
          "1819-01-01T00:00:00",
          "1820-01-01T00:00:00",
          "1821-01-01T00:00:00",
          "1822-01-01T00:00:00",
          "1823-01-01T00:00:00",
          "1824-01-01T00:00:00",
          "1825-01-01T00:00:00",
          "1826-01-01T00:00:00",
          "1827-01-01T00:00:00",
          "1828-01-01T00:00:00",
          "1829-01-01T00:00:00",
          "1830-01-01T00:00:00",
          "1831-01-01T00:00:00",
          "1832-01-01T00:00:00",
          "1833-01-01T00:00:00",
          "1834-01-01T00:00:00",
          "1835-01-01T00:00:00",
          "1836-01-01T00:00:00",
          "1837-01-01T00:00:00",
          "1838-01-01T00:00:00",
          "1839-01-01T00:00:00",
          "1840-01-01T00:00:00",
          "1841-01-01T00:00:00",
          "1842-01-01T00:00:00",
          "1843-01-01T00:00:00",
          "1844-01-01T00:00:00",
          "1845-01-01T00:00:00",
          "1846-01-01T00:00:00",
          "1847-01-01T00:00:00",
          "1848-01-01T00:00:00",
          "1849-01-01T00:00:00",
          "1850-01-01T00:00:00",
          "1851-01-01T00:00:00",
          "1852-01-01T00:00:00",
          "1853-01-01T00:00:00",
          "1854-01-01T00:00:00",
          "1855-01-01T00:00:00",
          "1856-01-01T00:00:00",
          "1857-01-01T00:00:00",
          "1858-01-01T00:00:00",
          "1859-01-01T00:00:00",
          "1860-01-01T00:00:00",
          "1861-01-01T00:00:00",
          "1862-01-01T00:00:00",
          "1863-01-01T00:00:00",
          "1864-01-01T00:00:00",
          "1865-01-01T00:00:00",
          "1866-01-01T00:00:00",
          "1867-01-01T00:00:00",
          "1868-01-01T00:00:00",
          "1869-01-01T00:00:00",
          "1870-01-01T00:00:00",
          "1871-01-01T00:00:00",
          "1872-01-01T00:00:00",
          "1873-01-01T00:00:00",
          "1874-01-01T00:00:00",
          "1875-01-01T00:00:00",
          "1876-01-01T00:00:00",
          "1877-01-01T00:00:00",
          "1878-01-01T00:00:00",
          "1879-01-01T00:00:00",
          "1880-01-01T00:00:00",
          "1881-01-01T00:00:00",
          "1882-01-01T00:00:00",
          "1883-01-01T00:00:00",
          "1884-01-01T00:00:00",
          "1885-01-01T00:00:00",
          "1886-01-01T00:00:00",
          "1887-01-01T00:00:00",
          "1888-01-01T00:00:00",
          "1889-01-01T00:00:00",
          "1890-01-01T00:00:00",
          "1891-01-01T00:00:00",
          "1892-01-01T00:00:00",
          "1893-01-01T00:00:00",
          "1894-01-01T00:00:00",
          "1895-01-01T00:00:00",
          "1896-01-01T00:00:00",
          "1897-01-01T00:00:00",
          "1898-01-01T00:00:00",
          "1899-01-01T00:00:00",
          "1900-01-01T00:00:00",
          "1901-01-01T00:00:00",
          "1902-01-01T00:00:00",
          "1903-01-01T00:00:00",
          "1904-01-01T00:00:00",
          "1905-01-01T00:00:00",
          "1906-01-01T00:00:00",
          "1907-01-01T00:00:00",
          "1908-01-01T00:00:00",
          "1909-01-01T00:00:00",
          "1910-01-01T00:00:00",
          "1911-01-01T00:00:00",
          "1912-01-01T00:00:00",
          "1913-01-01T00:00:00",
          "1914-01-01T00:00:00",
          "1915-01-01T00:00:00",
          "1916-01-01T00:00:00",
          "1917-01-01T00:00:00",
          "1918-01-01T00:00:00",
          "1919-01-01T00:00:00",
          "1920-01-01T00:00:00",
          "1921-01-01T00:00:00",
          "1922-01-01T00:00:00",
          "1923-01-01T00:00:00",
          "1924-01-01T00:00:00",
          "1925-01-01T00:00:00",
          "1926-01-01T00:00:00",
          "1927-01-01T00:00:00",
          "1928-01-01T00:00:00",
          "1929-01-01T00:00:00",
          "1930-01-01T00:00:00",
          "1931-01-01T00:00:00",
          "1932-01-01T00:00:00",
          "1933-01-01T00:00:00",
          "1934-01-01T00:00:00",
          "1935-01-01T00:00:00",
          "1936-01-01T00:00:00",
          "1937-01-01T00:00:00",
          "1938-01-01T00:00:00",
          "1939-01-01T00:00:00",
          "1940-01-01T00:00:00",
          "1941-01-01T00:00:00",
          "1942-01-01T00:00:00",
          "1943-01-01T00:00:00",
          "1944-01-01T00:00:00",
          "1945-01-01T00:00:00",
          "1946-01-01T00:00:00",
          "1947-01-01T00:00:00",
          "1948-01-01T00:00:00",
          "1949-01-01T00:00:00",
          "1950-01-01T00:00:00",
          "1951-01-01T00:00:00",
          "1952-01-01T00:00:00",
          "1953-01-01T00:00:00",
          "1954-01-01T00:00:00",
          "1955-01-01T00:00:00",
          "1956-01-01T00:00:00",
          "1957-01-01T00:00:00",
          "1958-01-01T00:00:00",
          "1959-01-01T00:00:00",
          "1960-01-01T00:00:00",
          "1961-01-01T00:00:00",
          "1962-01-01T00:00:00",
          "1963-01-01T00:00:00",
          "1964-01-01T00:00:00",
          "1965-01-01T00:00:00",
          "1966-01-01T00:00:00",
          "1967-01-01T00:00:00",
          "1968-01-01T00:00:00",
          "1969-01-01T00:00:00",
          "1970-01-01T00:00:00",
          "1971-01-01T00:00:00",
          "1972-01-01T00:00:00",
          "1973-01-01T00:00:00",
          "1974-01-01T00:00:00",
          "1975-01-01T00:00:00",
          "1976-01-01T00:00:00",
          "1977-01-01T00:00:00",
          "1978-01-01T00:00:00",
          "1979-01-01T00:00:00",
          "1980-01-01T00:00:00",
          "1981-01-01T00:00:00",
          "1982-01-01T00:00:00",
          "1983-01-01T00:00:00",
          "1984-01-01T00:00:00",
          "1985-01-01T00:00:00",
          "1986-01-01T00:00:00",
          "1987-01-01T00:00:00",
          "1988-01-01T00:00:00",
          "1989-01-01T00:00:00",
          "1990-01-01T00:00:00",
          "1991-01-01T00:00:00",
          "1992-01-01T00:00:00",
          "1993-01-01T00:00:00",
          "1994-01-01T00:00:00",
          "1995-01-01T00:00:00",
          "1996-01-01T00:00:00",
          "1997-01-01T00:00:00",
          "1998-01-01T00:00:00",
          "1999-01-01T00:00:00",
          "2000-01-01T00:00:00",
          "2001-01-01T00:00:00",
          "2002-01-01T00:00:00",
          "2003-01-01T00:00:00",
          "2004-01-01T00:00:00",
          "2005-01-01T00:00:00",
          "2006-01-01T00:00:00",
          "2007-01-01T00:00:00",
          "2008-01-01T00:00:00",
          "2009-01-01T00:00:00",
          "2010-01-01T00:00:00",
          "2011-01-01T00:00:00",
          "2012-01-01T00:00:00",
          "2013-01-01T00:00:00",
          "2014-01-01T00:00:00",
          "2015-01-01T00:00:00",
          "2016-01-01T00:00:00",
          "2017-01-01T00:00:00"
         ],
         "xaxis": "x2",
         "y": [
          0,
          0,
          0,
          0,
          0,
          0,
          0,
          0,
          0,
          0,
          0,
          0,
          0,
          0,
          0,
          0,
          0,
          0,
          0,
          0,
          0,
          0,
          0,
          0,
          0,
          0,
          0,
          0,
          0,
          0,
          0,
          0,
          0,
          0,
          3664,
          3664,
          3664,
          3664,
          3664,
          3664,
          3664,
          3664,
          3664,
          3664,
          3664,
          3664,
          3664,
          3664,
          3664,
          256480,
          271136,
          293120,
          300448,
          337088,
          344416,
          337088,
          381056,
          395712,
          406704,
          421360,
          450672,
          487312,
          523952,
          564256,
          604560,
          666848,
          721808,
          784096,
          765776,
          795088,
          831728,
          868368,
          905008,
          1018592,
          1139504,
          1319040,
          1450944,
          1597504,
          1799024,
          2092144,
          2268016,
          3026464,
          3532096,
          3385536,
          4319856,
          4733888,
          5309136,
          5034336,
          5521648,
          5877056,
          6217808,
          6921296,
          7767680,
          9310224,
          11208176,
          12736064,
          15103008,
          16825088,
          18268704,
          19851552,
          24702688,
          26875440,
          30264640,
          33283776,
          38310784,
          40216064,
          41271296,
          41912496,
          45635120,
          47818864,
          46137088,
          48009392,
          55513264,
          59499696,
          59840448,
          60474320,
          74459808,
          83297376,
          94380976,
          99844000,
          104801392,
          128152064,
          141115296,
          135919744,
          137623504,
          134677648,
          149198080,
          145838192,
          177652704,
          203916256,
          215783952,
          242010864,
          261312816,
          276192320,
          280409584,
          296267376,
          318621440,
          388083552,
          348596624,
          415541568,
          442871344,
          466368576,
          471080480,
          441801456,
          496801760,
          498989168,
          518532944,
          564941168,
          649172864,
          687531280,
          753083904,
          798946192,
          931597648,
          923701728,
          1030804112,
          1084976352,
          1263742912,
          1117040016,
          1225864480,
          1342317392,
          1344343584,
          1437302928,
          1552484432,
          1411706224,
          1456121232,
          1623932432,
          1791238000,
          1877514208,
          1607675264,
          1912014432,
          1608173568,
          1606231648,
          2079997840,
          1866837312,
          1901561040,
          2047318624,
          2000815136,
          1980318720,
          2119550720,
          1889697008,
          1604311712,
          1375025920,
          1470381520,
          1575241536,
          1636664832,
          1864169920,
          1965373264,
          1677855520,
          1842065008,
          2064792240,
          2242672112,
          2402898832,
          2483268672,
          2665669920,
          2573787792,
          2547003952,
          2728023872,
          2848496192,
          2418844560,
          2844780896,
          2954547008,
          2897260368,
          2957892240,
          2847701104,
          3117100368,
          3284944544,
          3278140496,
          3185862656,
          3303253764.75,
          3379162333.4300003,
          3376978969.65,
          3515389141.92,
          3651140592.57,
          3839914941.19,
          4000493103.35,
          4196358798.65,
          4382484382.62,
          4564730184.17,
          4799664638.54,
          5186466809.4,
          5248878490.89,
          5510547469.61,
          5767666187.16,
          5640175525.58,
          5462945292.88,
          5713852367.8,
          5872175539.9800005,
          6080428758.73,
          6172692038.95,
          6038444329.4800005,
          5829663407.14,
          5609914974.170001,
          5596835825.84,
          5760963336.190001,
          5800108638.47,
          5805944610.49,
          6070543973.86,
          6323242064.969999,
          6452734770.53,
          6588212731.509999,
          6545480084.15,
          6681954515.349999,
          6831362828.94,
          6978802711.200001,
          7062876874.280001,
          7318494552.639999,
          7474978446.64,
          7605940031.2300005,
          7727035158.17,
          7912238116.53,
          7837853225.160001,
          7901380190.86,
          8000651910.349999,
          8123993929.37,
          8214444790.459999,
          8172386152.9800005,
          8304444160.54,
          8164701311.44,
          7658543369.43,
          7960538326,
          7871403257.79,
          7747053095.6,
          7931323059.92,
          8017056550.03,
          7856346414.51,
          7725907782.0199995,
          7668150135.01
         ],
         "yaxis": "y2"
        },
        {
         "hovertemplate": "Region=Asia<br>Year=%{x}<br>CO₂ Emission=%{y}<extra></extra>",
         "legendgroup": "Asia",
         "line": {
          "color": "#00cc96"
         },
         "marker": {
          "symbol": "circle"
         },
         "mode": "lines",
         "name": "Asia",
         "orientation": "v",
         "showlegend": true,
         "stackgroup": "1",
         "type": "scatter",
         "x": [
          "1751-01-01T00:00:00",
          "1752-01-01T00:00:00",
          "1753-01-01T00:00:00",
          "1754-01-01T00:00:00",
          "1755-01-01T00:00:00",
          "1756-01-01T00:00:00",
          "1757-01-01T00:00:00",
          "1758-01-01T00:00:00",
          "1759-01-01T00:00:00",
          "1760-01-01T00:00:00",
          "1761-01-01T00:00:00",
          "1762-01-01T00:00:00",
          "1763-01-01T00:00:00",
          "1764-01-01T00:00:00",
          "1765-01-01T00:00:00",
          "1766-01-01T00:00:00",
          "1767-01-01T00:00:00",
          "1768-01-01T00:00:00",
          "1769-01-01T00:00:00",
          "1770-01-01T00:00:00",
          "1771-01-01T00:00:00",
          "1772-01-01T00:00:00",
          "1773-01-01T00:00:00",
          "1774-01-01T00:00:00",
          "1775-01-01T00:00:00",
          "1776-01-01T00:00:00",
          "1777-01-01T00:00:00",
          "1778-01-01T00:00:00",
          "1779-01-01T00:00:00",
          "1780-01-01T00:00:00",
          "1781-01-01T00:00:00",
          "1782-01-01T00:00:00",
          "1783-01-01T00:00:00",
          "1784-01-01T00:00:00",
          "1785-01-01T00:00:00",
          "1786-01-01T00:00:00",
          "1787-01-01T00:00:00",
          "1788-01-01T00:00:00",
          "1789-01-01T00:00:00",
          "1790-01-01T00:00:00",
          "1791-01-01T00:00:00",
          "1792-01-01T00:00:00",
          "1793-01-01T00:00:00",
          "1794-01-01T00:00:00",
          "1795-01-01T00:00:00",
          "1796-01-01T00:00:00",
          "1797-01-01T00:00:00",
          "1798-01-01T00:00:00",
          "1799-01-01T00:00:00",
          "1800-01-01T00:00:00",
          "1801-01-01T00:00:00",
          "1802-01-01T00:00:00",
          "1803-01-01T00:00:00",
          "1804-01-01T00:00:00",
          "1805-01-01T00:00:00",
          "1806-01-01T00:00:00",
          "1807-01-01T00:00:00",
          "1808-01-01T00:00:00",
          "1809-01-01T00:00:00",
          "1810-01-01T00:00:00",
          "1811-01-01T00:00:00",
          "1812-01-01T00:00:00",
          "1813-01-01T00:00:00",
          "1814-01-01T00:00:00",
          "1815-01-01T00:00:00",
          "1816-01-01T00:00:00",
          "1817-01-01T00:00:00",
          "1818-01-01T00:00:00",
          "1819-01-01T00:00:00",
          "1820-01-01T00:00:00",
          "1821-01-01T00:00:00",
          "1822-01-01T00:00:00",
          "1823-01-01T00:00:00",
          "1824-01-01T00:00:00",
          "1825-01-01T00:00:00",
          "1826-01-01T00:00:00",
          "1827-01-01T00:00:00",
          "1828-01-01T00:00:00",
          "1829-01-01T00:00:00",
          "1830-01-01T00:00:00",
          "1831-01-01T00:00:00",
          "1832-01-01T00:00:00",
          "1833-01-01T00:00:00",
          "1834-01-01T00:00:00",
          "1835-01-01T00:00:00",
          "1836-01-01T00:00:00",
          "1837-01-01T00:00:00",
          "1838-01-01T00:00:00",
          "1839-01-01T00:00:00",
          "1840-01-01T00:00:00",
          "1841-01-01T00:00:00",
          "1842-01-01T00:00:00",
          "1843-01-01T00:00:00",
          "1844-01-01T00:00:00",
          "1845-01-01T00:00:00",
          "1846-01-01T00:00:00",
          "1847-01-01T00:00:00",
          "1848-01-01T00:00:00",
          "1849-01-01T00:00:00",
          "1850-01-01T00:00:00",
          "1851-01-01T00:00:00",
          "1852-01-01T00:00:00",
          "1853-01-01T00:00:00",
          "1854-01-01T00:00:00",
          "1855-01-01T00:00:00",
          "1856-01-01T00:00:00",
          "1857-01-01T00:00:00",
          "1858-01-01T00:00:00",
          "1859-01-01T00:00:00",
          "1860-01-01T00:00:00",
          "1861-01-01T00:00:00",
          "1862-01-01T00:00:00",
          "1863-01-01T00:00:00",
          "1864-01-01T00:00:00",
          "1865-01-01T00:00:00",
          "1866-01-01T00:00:00",
          "1867-01-01T00:00:00",
          "1868-01-01T00:00:00",
          "1869-01-01T00:00:00",
          "1870-01-01T00:00:00",
          "1871-01-01T00:00:00",
          "1872-01-01T00:00:00",
          "1873-01-01T00:00:00",
          "1874-01-01T00:00:00",
          "1875-01-01T00:00:00",
          "1876-01-01T00:00:00",
          "1877-01-01T00:00:00",
          "1878-01-01T00:00:00",
          "1879-01-01T00:00:00",
          "1880-01-01T00:00:00",
          "1881-01-01T00:00:00",
          "1882-01-01T00:00:00",
          "1883-01-01T00:00:00",
          "1884-01-01T00:00:00",
          "1885-01-01T00:00:00",
          "1886-01-01T00:00:00",
          "1887-01-01T00:00:00",
          "1888-01-01T00:00:00",
          "1889-01-01T00:00:00",
          "1890-01-01T00:00:00",
          "1891-01-01T00:00:00",
          "1892-01-01T00:00:00",
          "1893-01-01T00:00:00",
          "1894-01-01T00:00:00",
          "1895-01-01T00:00:00",
          "1896-01-01T00:00:00",
          "1897-01-01T00:00:00",
          "1898-01-01T00:00:00",
          "1899-01-01T00:00:00",
          "1900-01-01T00:00:00",
          "1901-01-01T00:00:00",
          "1902-01-01T00:00:00",
          "1903-01-01T00:00:00",
          "1904-01-01T00:00:00",
          "1905-01-01T00:00:00",
          "1906-01-01T00:00:00",
          "1907-01-01T00:00:00",
          "1908-01-01T00:00:00",
          "1909-01-01T00:00:00",
          "1910-01-01T00:00:00",
          "1911-01-01T00:00:00",
          "1912-01-01T00:00:00",
          "1913-01-01T00:00:00",
          "1914-01-01T00:00:00",
          "1915-01-01T00:00:00",
          "1916-01-01T00:00:00",
          "1917-01-01T00:00:00",
          "1918-01-01T00:00:00",
          "1919-01-01T00:00:00",
          "1920-01-01T00:00:00",
          "1921-01-01T00:00:00",
          "1922-01-01T00:00:00",
          "1923-01-01T00:00:00",
          "1924-01-01T00:00:00",
          "1925-01-01T00:00:00",
          "1926-01-01T00:00:00",
          "1927-01-01T00:00:00",
          "1928-01-01T00:00:00",
          "1929-01-01T00:00:00",
          "1930-01-01T00:00:00",
          "1931-01-01T00:00:00",
          "1932-01-01T00:00:00",
          "1933-01-01T00:00:00",
          "1934-01-01T00:00:00",
          "1935-01-01T00:00:00",
          "1936-01-01T00:00:00",
          "1937-01-01T00:00:00",
          "1938-01-01T00:00:00",
          "1939-01-01T00:00:00",
          "1940-01-01T00:00:00",
          "1941-01-01T00:00:00",
          "1942-01-01T00:00:00",
          "1943-01-01T00:00:00",
          "1944-01-01T00:00:00",
          "1945-01-01T00:00:00",
          "1946-01-01T00:00:00",
          "1947-01-01T00:00:00",
          "1948-01-01T00:00:00",
          "1949-01-01T00:00:00",
          "1950-01-01T00:00:00",
          "1951-01-01T00:00:00",
          "1952-01-01T00:00:00",
          "1953-01-01T00:00:00",
          "1954-01-01T00:00:00",
          "1955-01-01T00:00:00",
          "1956-01-01T00:00:00",
          "1957-01-01T00:00:00",
          "1958-01-01T00:00:00",
          "1959-01-01T00:00:00",
          "1960-01-01T00:00:00",
          "1961-01-01T00:00:00",
          "1962-01-01T00:00:00",
          "1963-01-01T00:00:00",
          "1964-01-01T00:00:00",
          "1965-01-01T00:00:00",
          "1966-01-01T00:00:00",
          "1967-01-01T00:00:00",
          "1968-01-01T00:00:00",
          "1969-01-01T00:00:00",
          "1970-01-01T00:00:00",
          "1971-01-01T00:00:00",
          "1972-01-01T00:00:00",
          "1973-01-01T00:00:00",
          "1974-01-01T00:00:00",
          "1975-01-01T00:00:00",
          "1976-01-01T00:00:00",
          "1977-01-01T00:00:00",
          "1978-01-01T00:00:00",
          "1979-01-01T00:00:00",
          "1980-01-01T00:00:00",
          "1981-01-01T00:00:00",
          "1982-01-01T00:00:00",
          "1983-01-01T00:00:00",
          "1984-01-01T00:00:00",
          "1985-01-01T00:00:00",
          "1986-01-01T00:00:00",
          "1987-01-01T00:00:00",
          "1988-01-01T00:00:00",
          "1989-01-01T00:00:00",
          "1990-01-01T00:00:00",
          "1991-01-01T00:00:00",
          "1992-01-01T00:00:00",
          "1993-01-01T00:00:00",
          "1994-01-01T00:00:00",
          "1995-01-01T00:00:00",
          "1996-01-01T00:00:00",
          "1997-01-01T00:00:00",
          "1998-01-01T00:00:00",
          "1999-01-01T00:00:00",
          "2000-01-01T00:00:00",
          "2001-01-01T00:00:00",
          "2002-01-01T00:00:00",
          "2003-01-01T00:00:00",
          "2004-01-01T00:00:00",
          "2005-01-01T00:00:00",
          "2006-01-01T00:00:00",
          "2007-01-01T00:00:00",
          "2008-01-01T00:00:00",
          "2009-01-01T00:00:00",
          "2010-01-01T00:00:00",
          "2011-01-01T00:00:00",
          "2012-01-01T00:00:00",
          "2013-01-01T00:00:00",
          "2014-01-01T00:00:00",
          "2015-01-01T00:00:00",
          "2016-01-01T00:00:00",
          "2017-01-01T00:00:00"
         ],
         "xaxis": "x3",
         "y": [
          0,
          0,
          0,
          0,
          0,
          0,
          0,
          0,
          0,
          0,
          0,
          0,
          0,
          0,
          0,
          0,
          0,
          0,
          0,
          0,
          0,
          0,
          0,
          0,
          0,
          0,
          0,
          0,
          0,
          0,
          0,
          0,
          0,
          0,
          0,
          0,
          0,
          0,
          0,
          0,
          0,
          0,
          0,
          0,
          0,
          0,
          0,
          0,
          0,
          0,
          0,
          0,
          0,
          0,
          0,
          0,
          0,
          0,
          0,
          0,
          0,
          0,
          0,
          0,
          0,
          0,
          0,
          0,
          0,
          0,
          0,
          0,
          0,
          0,
          0,
          0,
          0,
          0,
          0,
          0,
          0,
          0,
          0,
          0,
          0,
          0,
          0,
          0,
          0,
          0,
          0,
          0,
          0,
          0,
          0,
          0,
          0,
          0,
          0,
          0,
          0,
          0,
          0,
          0,
          0,
          0,
          0,
          436016,
          703488,
          710816,
          549600,
          608224,
          674176,
          637536,
          776768,
          916000,
          227168,
          186864,
          285792,
          175872,
          223504,
          278464,
          278464,
          842720,
          1791696,
          1678112,
          1736736,
          4136656,
          4294208,
          4561680,
          4620304,
          5070976,
          5554624,
          6118880,
          6239792,
          6767408,
          8071792,
          9160000,
          11039632,
          11973952,
          13765648,
          14637680,
          16088624,
          18382288,
          21342800,
          23024576,
          24629408,
          29927552,
          31085376,
          35390576,
          41586400,
          44209824,
          48947376,
          54996640,
          57451520,
          78490208,
          84206048,
          96267936,
          95084464,
          94047552,
          110132512,
          100276352,
          110575856,
          119420752,
          116661760,
          126331056,
          140221280,
          151312208,
          168969024,
          160428240,
          156679968,
          165268384,
          181569520,
          195686912,
          197951264,
          196778784,
          214248736,
          223111952,
          232850864,
          228116976,
          214281712,
          210562752,
          230842992,
          259081440,
          279380000,
          303752928,
          323981872,
          333145536,
          352524432,
          394587152,
          405355648,
          390157376,
          383492560,
          375527024,
          279863648,
          260730240,
          311260464,
          304060704,
          380891120,
          296003568,
          348985008,
          390186688,
          419956688,
          460388928,
          526000176,
          586958144,
          679214000,
          961063536,
          1398953895.61,
          1544769224.48,
          1400503212.84,
          1349561887.39,
          1431724202.46,
          1510637684.11,
          1653052970.3600001,
          1793424428.54,
          1819808599.06,
          2010881243.51,
          2281335404.85,
          2711149748.78,
          2970841336.03,
          3139961937.87,
          3370796835.59,
          3432066763.89,
          3603723467.95,
          3837569684.61,
          4084221926.39,
          4265889863.57,
          4440510537.69,
          4441995229.69,
          4416342468.86,
          4566438439.95,
          4750328287.150001,
          5022795794.9800005,
          5322995125.53,
          5538419619.01,
          5792316489.66,
          6241935737.35,
          6459102052.4,
          6581854549.97,
          6891097191.93,
          7173474041.16,
          7503692770.09,
          7834540651.139999,
          8171687558.64,
          8493563945.64,
          8598264412.55,
          8358147481.26,
          8607372032.08,
          9035574811.130001,
          9195603155.94,
          9697243012.49,
          10595710987.71,
          11568706527.93,
          12377537180.63,
          13212970498.06,
          13935560532.24,
          14786713992.2,
          15381163423.61,
          16394083122.67,
          17711981129.23,
          18359651989.11,
          18430661602.760002,
          18828842011.19,
          18929631588.74,
          19153872276.41,
          19590121842.66
         ],
         "yaxis": "y3"
        },
        {
         "hovertemplate": "Region=Europe<br>Year=%{x}<br>CO₂ Emission=%{y}<extra></extra>",
         "legendgroup": "Europe",
         "line": {
          "color": "#ab63fa"
         },
         "marker": {
          "symbol": "circle"
         },
         "mode": "lines",
         "name": "Europe",
         "orientation": "v",
         "showlegend": true,
         "stackgroup": "1",
         "type": "scatter",
         "x": [
          "1751-01-01T00:00:00",
          "1752-01-01T00:00:00",
          "1753-01-01T00:00:00",
          "1754-01-01T00:00:00",
          "1755-01-01T00:00:00",
          "1756-01-01T00:00:00",
          "1757-01-01T00:00:00",
          "1758-01-01T00:00:00",
          "1759-01-01T00:00:00",
          "1760-01-01T00:00:00",
          "1761-01-01T00:00:00",
          "1762-01-01T00:00:00",
          "1763-01-01T00:00:00",
          "1764-01-01T00:00:00",
          "1765-01-01T00:00:00",
          "1766-01-01T00:00:00",
          "1767-01-01T00:00:00",
          "1768-01-01T00:00:00",
          "1769-01-01T00:00:00",
          "1770-01-01T00:00:00",
          "1771-01-01T00:00:00",
          "1772-01-01T00:00:00",
          "1773-01-01T00:00:00",
          "1774-01-01T00:00:00",
          "1775-01-01T00:00:00",
          "1776-01-01T00:00:00",
          "1777-01-01T00:00:00",
          "1778-01-01T00:00:00",
          "1779-01-01T00:00:00",
          "1780-01-01T00:00:00",
          "1781-01-01T00:00:00",
          "1782-01-01T00:00:00",
          "1783-01-01T00:00:00",
          "1784-01-01T00:00:00",
          "1785-01-01T00:00:00",
          "1786-01-01T00:00:00",
          "1787-01-01T00:00:00",
          "1788-01-01T00:00:00",
          "1789-01-01T00:00:00",
          "1790-01-01T00:00:00",
          "1791-01-01T00:00:00",
          "1792-01-01T00:00:00",
          "1793-01-01T00:00:00",
          "1794-01-01T00:00:00",
          "1795-01-01T00:00:00",
          "1796-01-01T00:00:00",
          "1797-01-01T00:00:00",
          "1798-01-01T00:00:00",
          "1799-01-01T00:00:00",
          "1800-01-01T00:00:00",
          "1801-01-01T00:00:00",
          "1802-01-01T00:00:00",
          "1803-01-01T00:00:00",
          "1804-01-01T00:00:00",
          "1805-01-01T00:00:00",
          "1806-01-01T00:00:00",
          "1807-01-01T00:00:00",
          "1808-01-01T00:00:00",
          "1809-01-01T00:00:00",
          "1810-01-01T00:00:00",
          "1811-01-01T00:00:00",
          "1812-01-01T00:00:00",
          "1813-01-01T00:00:00",
          "1814-01-01T00:00:00",
          "1815-01-01T00:00:00",
          "1816-01-01T00:00:00",
          "1817-01-01T00:00:00",
          "1818-01-01T00:00:00",
          "1819-01-01T00:00:00",
          "1820-01-01T00:00:00",
          "1821-01-01T00:00:00",
          "1822-01-01T00:00:00",
          "1823-01-01T00:00:00",
          "1824-01-01T00:00:00",
          "1825-01-01T00:00:00",
          "1826-01-01T00:00:00",
          "1827-01-01T00:00:00",
          "1828-01-01T00:00:00",
          "1829-01-01T00:00:00",
          "1830-01-01T00:00:00",
          "1831-01-01T00:00:00",
          "1832-01-01T00:00:00",
          "1833-01-01T00:00:00",
          "1834-01-01T00:00:00",
          "1835-01-01T00:00:00",
          "1836-01-01T00:00:00",
          "1837-01-01T00:00:00",
          "1838-01-01T00:00:00",
          "1839-01-01T00:00:00",
          "1840-01-01T00:00:00",
          "1841-01-01T00:00:00",
          "1842-01-01T00:00:00",
          "1843-01-01T00:00:00",
          "1844-01-01T00:00:00",
          "1845-01-01T00:00:00",
          "1846-01-01T00:00:00",
          "1847-01-01T00:00:00",
          "1848-01-01T00:00:00",
          "1849-01-01T00:00:00",
          "1850-01-01T00:00:00",
          "1851-01-01T00:00:00",
          "1852-01-01T00:00:00",
          "1853-01-01T00:00:00",
          "1854-01-01T00:00:00",
          "1855-01-01T00:00:00",
          "1856-01-01T00:00:00",
          "1857-01-01T00:00:00",
          "1858-01-01T00:00:00",
          "1859-01-01T00:00:00",
          "1860-01-01T00:00:00",
          "1861-01-01T00:00:00",
          "1862-01-01T00:00:00",
          "1863-01-01T00:00:00",
          "1864-01-01T00:00:00",
          "1865-01-01T00:00:00",
          "1866-01-01T00:00:00",
          "1867-01-01T00:00:00",
          "1868-01-01T00:00:00",
          "1869-01-01T00:00:00",
          "1870-01-01T00:00:00",
          "1871-01-01T00:00:00",
          "1872-01-01T00:00:00",
          "1873-01-01T00:00:00",
          "1874-01-01T00:00:00",
          "1875-01-01T00:00:00",
          "1876-01-01T00:00:00",
          "1877-01-01T00:00:00",
          "1878-01-01T00:00:00",
          "1879-01-01T00:00:00",
          "1880-01-01T00:00:00",
          "1881-01-01T00:00:00",
          "1882-01-01T00:00:00",
          "1883-01-01T00:00:00",
          "1884-01-01T00:00:00",
          "1885-01-01T00:00:00",
          "1886-01-01T00:00:00",
          "1887-01-01T00:00:00",
          "1888-01-01T00:00:00",
          "1889-01-01T00:00:00",
          "1890-01-01T00:00:00",
          "1891-01-01T00:00:00",
          "1892-01-01T00:00:00",
          "1893-01-01T00:00:00",
          "1894-01-01T00:00:00",
          "1895-01-01T00:00:00",
          "1896-01-01T00:00:00",
          "1897-01-01T00:00:00",
          "1898-01-01T00:00:00",
          "1899-01-01T00:00:00",
          "1900-01-01T00:00:00",
          "1901-01-01T00:00:00",
          "1902-01-01T00:00:00",
          "1903-01-01T00:00:00",
          "1904-01-01T00:00:00",
          "1905-01-01T00:00:00",
          "1906-01-01T00:00:00",
          "1907-01-01T00:00:00",
          "1908-01-01T00:00:00",
          "1909-01-01T00:00:00",
          "1910-01-01T00:00:00",
          "1911-01-01T00:00:00",
          "1912-01-01T00:00:00",
          "1913-01-01T00:00:00",
          "1914-01-01T00:00:00",
          "1915-01-01T00:00:00",
          "1916-01-01T00:00:00",
          "1917-01-01T00:00:00",
          "1918-01-01T00:00:00",
          "1919-01-01T00:00:00",
          "1920-01-01T00:00:00",
          "1921-01-01T00:00:00",
          "1922-01-01T00:00:00",
          "1923-01-01T00:00:00",
          "1924-01-01T00:00:00",
          "1925-01-01T00:00:00",
          "1926-01-01T00:00:00",
          "1927-01-01T00:00:00",
          "1928-01-01T00:00:00",
          "1929-01-01T00:00:00",
          "1930-01-01T00:00:00",
          "1931-01-01T00:00:00",
          "1932-01-01T00:00:00",
          "1933-01-01T00:00:00",
          "1934-01-01T00:00:00",
          "1935-01-01T00:00:00",
          "1936-01-01T00:00:00",
          "1937-01-01T00:00:00",
          "1938-01-01T00:00:00",
          "1939-01-01T00:00:00",
          "1940-01-01T00:00:00",
          "1941-01-01T00:00:00",
          "1942-01-01T00:00:00",
          "1943-01-01T00:00:00",
          "1944-01-01T00:00:00",
          "1945-01-01T00:00:00",
          "1946-01-01T00:00:00",
          "1947-01-01T00:00:00",
          "1948-01-01T00:00:00",
          "1949-01-01T00:00:00",
          "1950-01-01T00:00:00",
          "1951-01-01T00:00:00",
          "1952-01-01T00:00:00",
          "1953-01-01T00:00:00",
          "1954-01-01T00:00:00",
          "1955-01-01T00:00:00",
          "1956-01-01T00:00:00",
          "1957-01-01T00:00:00",
          "1958-01-01T00:00:00",
          "1959-01-01T00:00:00",
          "1960-01-01T00:00:00",
          "1961-01-01T00:00:00",
          "1962-01-01T00:00:00",
          "1963-01-01T00:00:00",
          "1964-01-01T00:00:00",
          "1965-01-01T00:00:00",
          "1966-01-01T00:00:00",
          "1967-01-01T00:00:00",
          "1968-01-01T00:00:00",
          "1969-01-01T00:00:00",
          "1970-01-01T00:00:00",
          "1971-01-01T00:00:00",
          "1972-01-01T00:00:00",
          "1973-01-01T00:00:00",
          "1974-01-01T00:00:00",
          "1975-01-01T00:00:00",
          "1976-01-01T00:00:00",
          "1977-01-01T00:00:00",
          "1978-01-01T00:00:00",
          "1979-01-01T00:00:00",
          "1980-01-01T00:00:00",
          "1981-01-01T00:00:00",
          "1982-01-01T00:00:00",
          "1983-01-01T00:00:00",
          "1984-01-01T00:00:00",
          "1985-01-01T00:00:00",
          "1986-01-01T00:00:00",
          "1987-01-01T00:00:00",
          "1988-01-01T00:00:00",
          "1989-01-01T00:00:00",
          "1990-01-01T00:00:00",
          "1991-01-01T00:00:00",
          "1992-01-01T00:00:00",
          "1993-01-01T00:00:00",
          "1994-01-01T00:00:00",
          "1995-01-01T00:00:00",
          "1996-01-01T00:00:00",
          "1997-01-01T00:00:00",
          "1998-01-01T00:00:00",
          "1999-01-01T00:00:00",
          "2000-01-01T00:00:00",
          "2001-01-01T00:00:00",
          "2002-01-01T00:00:00",
          "2003-01-01T00:00:00",
          "2004-01-01T00:00:00",
          "2005-01-01T00:00:00",
          "2006-01-01T00:00:00",
          "2007-01-01T00:00:00",
          "2008-01-01T00:00:00",
          "2009-01-01T00:00:00",
          "2010-01-01T00:00:00",
          "2011-01-01T00:00:00",
          "2012-01-01T00:00:00",
          "2013-01-01T00:00:00",
          "2014-01-01T00:00:00",
          "2015-01-01T00:00:00",
          "2016-01-01T00:00:00",
          "2017-01-01T00:00:00"
         ],
         "xaxis": "x4",
         "y": [
          9350528,
          9354192,
          9354192,
          9357856,
          9361520,
          10006384,
          10010048,
          10013712,
          10017376,
          10017376,
          10973680,
          10977344,
          10981008,
          10984672,
          10988336,
          12259744,
          12263408,
          12267072,
          12270736,
          12274400,
          13611760,
          13615424,
          13619088,
          13622752,
          13626416,
          15037056,
          15040720,
          15044384,
          15048048,
          15055376,
          16843408,
          16847072,
          16854400,
          16858064,
          16865392,
          19148064,
          19155392,
          19159056,
          19166384,
          19173712,
          21416080,
          21892400,
          21910720,
          21877744,
          21888736,
          22947632,
          24090800,
          25091072,
          26424768,
          27835408,
          27688848,
          36489776,
          31187968,
          33972608,
          33074928,
          34709072,
          36493440,
          34668768,
          34683424,
          36958768,
          39131520,
          40520176,
          40696048,
          41564416,
          42883456,
          46998128,
          48709216,
          48859440,
          49181872,
          49892688,
          50603504,
          52596720,
          55645168,
          57506480,
          59616944,
          60100592,
          64464416,
          65039664,
          64596320,
          87012672,
          82238480,
          82069936,
          83257072,
          85100064,
          86125984,
          100041856,
          99382336,
          103009696,
          106091120,
          113052720,
          116401616,
          122582784,
          125085296,
          132112848,
          144002528,
          145057760,
          157299184,
          156991408,
          165242736,
          176930896,
          174102288,
          180675504,
          186944608,
          221855200,
          221510784,
          237075456,
          238618000,
          241380656,
          254527088,
          281222992,
          299729856,
          304364816,
          320523056,
          345833968,
          370456048,
          381195232,
          399071888,
          403904704,
          422254016,
          428043136,
          455197040,
          491866352,
          518118912,
          479229216,
          528517344,
          539527664,
          538179312,
          541612480,
          559170368,
          628522560,
          644904304,
          666642816,
          703337776,
          698479312,
          699567520,
          698486640,
          724768512,
          768190576,
          803698400,
          838861808,
          866898736,
          851674816,
          822406784,
          894664528,
          914475776,
          957289616,
          1000880224,
          1028807232,
          1091091568,
          1139423392,
          1127108688,
          1130270720,
          1180588432,
          1196512176,
          1241059088,
          1273580752,
          1410390848,
          1433594960,
          1430275376,
          1451907632,
          1484356016,
          1530478448,
          1654559808,
          1476317200,
          1403520848,
          1465365504,
          1446228432,
          1359285376,
          1151056592,
          1341837408,
          1219500112,
          1355848544,
          1289350608,
          1487444768,
          1472638544,
          1233628496,
          1577795344,
          1574607664,
          1709930176,
          1575457712,
          1434228832,
          1300800608,
          1324151280,
          1425918880,
          1477445712,
          1546028464,
          1697941568,
          1689536352,
          1732987728,
          1795004592,
          1771675904,
          1794586896,
          1792022096,
          1583709040,
          904769840,
          1282945936,
          1455410416,
          1573904176,
          1694632976,
          1774434896,
          1972686608,
          2011110976,
          2049143296,
          2157341216,
          2312024304,
          2433441936,
          2486137584,
          2452384816,
          3800399532.84,
          4033186016.82,
          4178509390,
          4413208764.72,
          4721340811.3,
          4935342512.02,
          5082453436.7,
          5228874615.42,
          5340526792.57,
          5590683702.940001,
          5902285169.4,
          6216080148.95,
          6441731187.47,
          6666991859.849999,
          6968994282.19,
          6988166356.26,
          7019568644.11,
          7414575440.5,
          7468773884.08,
          7708333209.87,
          7898558694.64,
          7905419910.17,
          7626480923.06,
          7565498802.69,
          7569730578.1,
          7623724525.97,
          7941037720.49,
          7962952200.45,
          8126546075.92,
          8174931466.91,
          8160732754.77,
          8216736608.059999,
          7939866091.78,
          7124720706.51,
          6832387486.3,
          6472833840.72,
          6457517528.02,
          6503041991.45,
          6302038803.64,
          6263356500.43,
          6177747755.41,
          6178612183.45,
          6317057000.5,
          6278269176.37,
          6422936771.94,
          6452923359.3,
          6453511916.66,
          6545993556.54,
          6499376726.71,
          6425816013.99,
          5913110100.51,
          6141921658.190001,
          6066541486.99,
          6012399807.53,
          5858431598.01,
          5638855131.75,
          5645916526.55,
          5638050062.47,
          5685241708.29
         ],
         "yaxis": "y4"
        },
        {
         "hovertemplate": "Region=Oceania<br>Year=%{x}<br>CO₂ Emission=%{y}<extra></extra>",
         "legendgroup": "Oceania",
         "line": {
          "color": "#FFA15A"
         },
         "marker": {
          "symbol": "circle"
         },
         "mode": "lines",
         "name": "Oceania",
         "orientation": "v",
         "showlegend": true,
         "stackgroup": "1",
         "type": "scatter",
         "x": [
          "1860-01-01T00:00:00",
          "1861-01-01T00:00:00",
          "1862-01-01T00:00:00",
          "1863-01-01T00:00:00",
          "1864-01-01T00:00:00",
          "1865-01-01T00:00:00",
          "1866-01-01T00:00:00",
          "1867-01-01T00:00:00",
          "1868-01-01T00:00:00",
          "1869-01-01T00:00:00",
          "1870-01-01T00:00:00",
          "1871-01-01T00:00:00",
          "1872-01-01T00:00:00",
          "1873-01-01T00:00:00",
          "1874-01-01T00:00:00",
          "1875-01-01T00:00:00",
          "1876-01-01T00:00:00",
          "1877-01-01T00:00:00",
          "1878-01-01T00:00:00",
          "1879-01-01T00:00:00",
          "1880-01-01T00:00:00",
          "1881-01-01T00:00:00",
          "1882-01-01T00:00:00",
          "1883-01-01T00:00:00",
          "1884-01-01T00:00:00",
          "1885-01-01T00:00:00",
          "1886-01-01T00:00:00",
          "1887-01-01T00:00:00",
          "1888-01-01T00:00:00",
          "1889-01-01T00:00:00",
          "1890-01-01T00:00:00",
          "1891-01-01T00:00:00",
          "1892-01-01T00:00:00",
          "1893-01-01T00:00:00",
          "1894-01-01T00:00:00",
          "1895-01-01T00:00:00",
          "1896-01-01T00:00:00",
          "1897-01-01T00:00:00",
          "1898-01-01T00:00:00",
          "1899-01-01T00:00:00",
          "1900-01-01T00:00:00",
          "1901-01-01T00:00:00",
          "1902-01-01T00:00:00",
          "1903-01-01T00:00:00",
          "1904-01-01T00:00:00",
          "1905-01-01T00:00:00",
          "1906-01-01T00:00:00",
          "1907-01-01T00:00:00",
          "1908-01-01T00:00:00",
          "1909-01-01T00:00:00",
          "1910-01-01T00:00:00",
          "1911-01-01T00:00:00",
          "1912-01-01T00:00:00",
          "1913-01-01T00:00:00",
          "1914-01-01T00:00:00",
          "1915-01-01T00:00:00",
          "1916-01-01T00:00:00",
          "1917-01-01T00:00:00",
          "1918-01-01T00:00:00",
          "1919-01-01T00:00:00",
          "1920-01-01T00:00:00",
          "1921-01-01T00:00:00",
          "1922-01-01T00:00:00",
          "1923-01-01T00:00:00",
          "1924-01-01T00:00:00",
          "1925-01-01T00:00:00",
          "1926-01-01T00:00:00",
          "1927-01-01T00:00:00",
          "1928-01-01T00:00:00",
          "1929-01-01T00:00:00",
          "1930-01-01T00:00:00",
          "1931-01-01T00:00:00",
          "1932-01-01T00:00:00",
          "1933-01-01T00:00:00",
          "1934-01-01T00:00:00",
          "1935-01-01T00:00:00",
          "1936-01-01T00:00:00",
          "1937-01-01T00:00:00",
          "1938-01-01T00:00:00",
          "1939-01-01T00:00:00",
          "1940-01-01T00:00:00",
          "1941-01-01T00:00:00",
          "1942-01-01T00:00:00",
          "1943-01-01T00:00:00",
          "1944-01-01T00:00:00",
          "1945-01-01T00:00:00",
          "1946-01-01T00:00:00",
          "1947-01-01T00:00:00",
          "1948-01-01T00:00:00",
          "1949-01-01T00:00:00",
          "1950-01-01T00:00:00",
          "1951-01-01T00:00:00",
          "1952-01-01T00:00:00",
          "1953-01-01T00:00:00",
          "1954-01-01T00:00:00",
          "1955-01-01T00:00:00",
          "1956-01-01T00:00:00",
          "1957-01-01T00:00:00",
          "1958-01-01T00:00:00",
          "1959-01-01T00:00:00",
          "1960-01-01T00:00:00",
          "1961-01-01T00:00:00",
          "1962-01-01T00:00:00",
          "1963-01-01T00:00:00",
          "1964-01-01T00:00:00",
          "1965-01-01T00:00:00",
          "1966-01-01T00:00:00",
          "1967-01-01T00:00:00",
          "1968-01-01T00:00:00",
          "1969-01-01T00:00:00",
          "1970-01-01T00:00:00",
          "1971-01-01T00:00:00",
          "1972-01-01T00:00:00",
          "1973-01-01T00:00:00",
          "1974-01-01T00:00:00",
          "1975-01-01T00:00:00",
          "1976-01-01T00:00:00",
          "1977-01-01T00:00:00",
          "1978-01-01T00:00:00",
          "1979-01-01T00:00:00",
          "1980-01-01T00:00:00",
          "1981-01-01T00:00:00",
          "1982-01-01T00:00:00",
          "1983-01-01T00:00:00",
          "1984-01-01T00:00:00",
          "1985-01-01T00:00:00",
          "1986-01-01T00:00:00",
          "1987-01-01T00:00:00",
          "1988-01-01T00:00:00",
          "1989-01-01T00:00:00",
          "1990-01-01T00:00:00",
          "1991-01-01T00:00:00",
          "1992-01-01T00:00:00",
          "1993-01-01T00:00:00",
          "1994-01-01T00:00:00",
          "1995-01-01T00:00:00",
          "1996-01-01T00:00:00",
          "1997-01-01T00:00:00",
          "1998-01-01T00:00:00",
          "1999-01-01T00:00:00",
          "2000-01-01T00:00:00",
          "2001-01-01T00:00:00",
          "2002-01-01T00:00:00",
          "2003-01-01T00:00:00",
          "2004-01-01T00:00:00",
          "2005-01-01T00:00:00",
          "2006-01-01T00:00:00",
          "2007-01-01T00:00:00",
          "2008-01-01T00:00:00",
          "2009-01-01T00:00:00",
          "2010-01-01T00:00:00",
          "2011-01-01T00:00:00",
          "2012-01-01T00:00:00",
          "2013-01-01T00:00:00",
          "2014-01-01T00:00:00",
          "2015-01-01T00:00:00",
          "2016-01-01T00:00:00",
          "2017-01-01T00:00:00"
         ],
         "xaxis": "x5",
         "y": [
          278464,
          509296,
          355408,
          399376,
          267472,
          421360,
          696160,
          894016,
          732800,
          641200,
          600896,
          692496,
          707152,
          868368,
          890352,
          828064,
          930656,
          1066224,
          1322704,
          1960240,
          2861584,
          2502512,
          2839600,
          3352560,
          3631024,
          4034064,
          4067040,
          4272224,
          4891440,
          4737552,
          4968384,
          5499664,
          5653552,
          5506992,
          5968656,
          6214144,
          6272768,
          6851680,
          7635776,
          7961872,
          12607824,
          14179680,
          14436160,
          14388528,
          14978432,
          15586656,
          18221072,
          19562096,
          20906784,
          18818304,
          22339408,
          23848976,
          25648000,
          26604304,
          29561152,
          26725216,
          24310640,
          25376864,
          27483664,
          25867840,
          29290016,
          26651936,
          27905024,
          28685456,
          31059728,
          32323808,
          32125952,
          33390032,
          31004768,
          28549888,
          26897424,
          23786688,
          23881952,
          25127712,
          26681248,
          29381616,
          31228272,
          33239808,
          32283504,
          36607024,
          33800400,
          39549216,
          41601056,
          40362624,
          39681120,
          38318112,
          40956192,
          43469696,
          43927696,
          43260848,
          63720624,
          67692400,
          70260864,
          68674352,
          77709776,
          81161264,
          84286656,
          86309184,
          88958256,
          95053306.73,
          100973379.82,
          103676995.79,
          107208883.78,
          114488152.34,
          124048755.64,
          136725214.99,
          136762211.60999998,
          145474846.93,
          151161137.23999998,
          159429091.46,
          165902428.57,
          172239894.27999997,
          177840978.83,
          194372951.17000002,
          196851477.88,
          199567638.54999998,
          198605551.07000002,
          213361047.26,
          224714335.26,
          226617658.66,
          243669821.89,
          252242540.81,
          257304256.68,
          247871226.51999998,
          260668529.91,
          268347040.74,
          268074639.28,
          285627976.28000003,
          291944221.62,
          308625707.86,
          309661027.34999996,
          311753117.42999995,
          318776306.06,
          322924195.43,
          328236042.81,
          339887814.77000004,
          348387716.72,
          358837238.81,
          371557147.6,
          382441837.34,
          389939750.12,
          400209375.87,
          405600115.18,
          415869706.84999996,
          429541637.46999997,
          434446515.5,
          440440711.9,
          449326957.32,
          453326664.59999996,
          454486139.71,
          453387079.81,
          450725694.67,
          454955300.3,
          447049279.82,
          442998969.51,
          453824324.27,
          463709148.08,
          466011112.76
         ],
         "yaxis": "y5"
        }
       ],
       "layout": {
        "annotations": [
         {
          "font": {},
          "showarrow": false,
          "text": "Region=Africa",
          "x": 0.09200000000000001,
          "xanchor": "center",
          "xref": "paper",
          "y": 1,
          "yanchor": "bottom",
          "yref": "paper"
         },
         {
          "font": {},
          "showarrow": false,
          "text": "Region=Americas",
          "x": 0.29600000000000004,
          "xanchor": "center",
          "xref": "paper",
          "y": 1,
          "yanchor": "bottom",
          "yref": "paper"
         },
         {
          "font": {},
          "showarrow": false,
          "text": "Region=Asia",
          "x": 0.5,
          "xanchor": "center",
          "xref": "paper",
          "y": 1,
          "yanchor": "bottom",
          "yref": "paper"
         },
         {
          "font": {},
          "showarrow": false,
          "text": "Region=Europe",
          "x": 0.7040000000000002,
          "xanchor": "center",
          "xref": "paper",
          "y": 1,
          "yanchor": "bottom",
          "yref": "paper"
         },
         {
          "font": {},
          "showarrow": false,
          "text": "Region=Oceania",
          "x": 0.908,
          "xanchor": "center",
          "xref": "paper",
          "y": 1,
          "yanchor": "bottom",
          "yref": "paper"
         }
        ],
        "height": 350,
        "legend": {
         "title": {
          "text": "Region"
         },
         "tracegroupgap": 0
        },
        "margin": {
         "t": 60
        },
        "showlegend": false,
        "template": {
         "data": {
          "bar": [
           {
            "error_x": {
             "color": "#2a3f5f"
            },
            "error_y": {
             "color": "#2a3f5f"
            },
            "marker": {
             "line": {
              "color": "#E5ECF6",
              "width": 0.5
             },
             "pattern": {
              "fillmode": "overlay",
              "size": 10,
              "solidity": 0.2
             }
            },
            "type": "bar"
           }
          ],
          "barpolar": [
           {
            "marker": {
             "line": {
              "color": "#E5ECF6",
              "width": 0.5
             },
             "pattern": {
              "fillmode": "overlay",
              "size": 10,
              "solidity": 0.2
             }
            },
            "type": "barpolar"
           }
          ],
          "carpet": [
           {
            "aaxis": {
             "endlinecolor": "#2a3f5f",
             "gridcolor": "white",
             "linecolor": "white",
             "minorgridcolor": "white",
             "startlinecolor": "#2a3f5f"
            },
            "baxis": {
             "endlinecolor": "#2a3f5f",
             "gridcolor": "white",
             "linecolor": "white",
             "minorgridcolor": "white",
             "startlinecolor": "#2a3f5f"
            },
            "type": "carpet"
           }
          ],
          "choropleth": [
           {
            "colorbar": {
             "outlinewidth": 0,
             "ticks": ""
            },
            "type": "choropleth"
           }
          ],
          "contour": [
           {
            "colorbar": {
             "outlinewidth": 0,
             "ticks": ""
            },
            "colorscale": [
             [
              0,
              "#0d0887"
             ],
             [
              0.1111111111111111,
              "#46039f"
             ],
             [
              0.2222222222222222,
              "#7201a8"
             ],
             [
              0.3333333333333333,
              "#9c179e"
             ],
             [
              0.4444444444444444,
              "#bd3786"
             ],
             [
              0.5555555555555556,
              "#d8576b"
             ],
             [
              0.6666666666666666,
              "#ed7953"
             ],
             [
              0.7777777777777778,
              "#fb9f3a"
             ],
             [
              0.8888888888888888,
              "#fdca26"
             ],
             [
              1,
              "#f0f921"
             ]
            ],
            "type": "contour"
           }
          ],
          "contourcarpet": [
           {
            "colorbar": {
             "outlinewidth": 0,
             "ticks": ""
            },
            "type": "contourcarpet"
           }
          ],
          "heatmap": [
           {
            "colorbar": {
             "outlinewidth": 0,
             "ticks": ""
            },
            "colorscale": [
             [
              0,
              "#0d0887"
             ],
             [
              0.1111111111111111,
              "#46039f"
             ],
             [
              0.2222222222222222,
              "#7201a8"
             ],
             [
              0.3333333333333333,
              "#9c179e"
             ],
             [
              0.4444444444444444,
              "#bd3786"
             ],
             [
              0.5555555555555556,
              "#d8576b"
             ],
             [
              0.6666666666666666,
              "#ed7953"
             ],
             [
              0.7777777777777778,
              "#fb9f3a"
             ],
             [
              0.8888888888888888,
              "#fdca26"
             ],
             [
              1,
              "#f0f921"
             ]
            ],
            "type": "heatmap"
           }
          ],
          "heatmapgl": [
           {
            "colorbar": {
             "outlinewidth": 0,
             "ticks": ""
            },
            "colorscale": [
             [
              0,
              "#0d0887"
             ],
             [
              0.1111111111111111,
              "#46039f"
             ],
             [
              0.2222222222222222,
              "#7201a8"
             ],
             [
              0.3333333333333333,
              "#9c179e"
             ],
             [
              0.4444444444444444,
              "#bd3786"
             ],
             [
              0.5555555555555556,
              "#d8576b"
             ],
             [
              0.6666666666666666,
              "#ed7953"
             ],
             [
              0.7777777777777778,
              "#fb9f3a"
             ],
             [
              0.8888888888888888,
              "#fdca26"
             ],
             [
              1,
              "#f0f921"
             ]
            ],
            "type": "heatmapgl"
           }
          ],
          "histogram": [
           {
            "marker": {
             "pattern": {
              "fillmode": "overlay",
              "size": 10,
              "solidity": 0.2
             }
            },
            "type": "histogram"
           }
          ],
          "histogram2d": [
           {
            "colorbar": {
             "outlinewidth": 0,
             "ticks": ""
            },
            "colorscale": [
             [
              0,
              "#0d0887"
             ],
             [
              0.1111111111111111,
              "#46039f"
             ],
             [
              0.2222222222222222,
              "#7201a8"
             ],
             [
              0.3333333333333333,
              "#9c179e"
             ],
             [
              0.4444444444444444,
              "#bd3786"
             ],
             [
              0.5555555555555556,
              "#d8576b"
             ],
             [
              0.6666666666666666,
              "#ed7953"
             ],
             [
              0.7777777777777778,
              "#fb9f3a"
             ],
             [
              0.8888888888888888,
              "#fdca26"
             ],
             [
              1,
              "#f0f921"
             ]
            ],
            "type": "histogram2d"
           }
          ],
          "histogram2dcontour": [
           {
            "colorbar": {
             "outlinewidth": 0,
             "ticks": ""
            },
            "colorscale": [
             [
              0,
              "#0d0887"
             ],
             [
              0.1111111111111111,
              "#46039f"
             ],
             [
              0.2222222222222222,
              "#7201a8"
             ],
             [
              0.3333333333333333,
              "#9c179e"
             ],
             [
              0.4444444444444444,
              "#bd3786"
             ],
             [
              0.5555555555555556,
              "#d8576b"
             ],
             [
              0.6666666666666666,
              "#ed7953"
             ],
             [
              0.7777777777777778,
              "#fb9f3a"
             ],
             [
              0.8888888888888888,
              "#fdca26"
             ],
             [
              1,
              "#f0f921"
             ]
            ],
            "type": "histogram2dcontour"
           }
          ],
          "mesh3d": [
           {
            "colorbar": {
             "outlinewidth": 0,
             "ticks": ""
            },
            "type": "mesh3d"
           }
          ],
          "parcoords": [
           {
            "line": {
             "colorbar": {
              "outlinewidth": 0,
              "ticks": ""
             }
            },
            "type": "parcoords"
           }
          ],
          "pie": [
           {
            "automargin": true,
            "type": "pie"
           }
          ],
          "scatter": [
           {
            "marker": {
             "colorbar": {
              "outlinewidth": 0,
              "ticks": ""
             }
            },
            "type": "scatter"
           }
          ],
          "scatter3d": [
           {
            "line": {
             "colorbar": {
              "outlinewidth": 0,
              "ticks": ""
             }
            },
            "marker": {
             "colorbar": {
              "outlinewidth": 0,
              "ticks": ""
             }
            },
            "type": "scatter3d"
           }
          ],
          "scattercarpet": [
           {
            "marker": {
             "colorbar": {
              "outlinewidth": 0,
              "ticks": ""
             }
            },
            "type": "scattercarpet"
           }
          ],
          "scattergeo": [
           {
            "marker": {
             "colorbar": {
              "outlinewidth": 0,
              "ticks": ""
             }
            },
            "type": "scattergeo"
           }
          ],
          "scattergl": [
           {
            "marker": {
             "colorbar": {
              "outlinewidth": 0,
              "ticks": ""
             }
            },
            "type": "scattergl"
           }
          ],
          "scattermapbox": [
           {
            "marker": {
             "colorbar": {
              "outlinewidth": 0,
              "ticks": ""
             }
            },
            "type": "scattermapbox"
           }
          ],
          "scatterpolar": [
           {
            "marker": {
             "colorbar": {
              "outlinewidth": 0,
              "ticks": ""
             }
            },
            "type": "scatterpolar"
           }
          ],
          "scatterpolargl": [
           {
            "marker": {
             "colorbar": {
              "outlinewidth": 0,
              "ticks": ""
             }
            },
            "type": "scatterpolargl"
           }
          ],
          "scatterternary": [
           {
            "marker": {
             "colorbar": {
              "outlinewidth": 0,
              "ticks": ""
             }
            },
            "type": "scatterternary"
           }
          ],
          "surface": [
           {
            "colorbar": {
             "outlinewidth": 0,
             "ticks": ""
            },
            "colorscale": [
             [
              0,
              "#0d0887"
             ],
             [
              0.1111111111111111,
              "#46039f"
             ],
             [
              0.2222222222222222,
              "#7201a8"
             ],
             [
              0.3333333333333333,
              "#9c179e"
             ],
             [
              0.4444444444444444,
              "#bd3786"
             ],
             [
              0.5555555555555556,
              "#d8576b"
             ],
             [
              0.6666666666666666,
              "#ed7953"
             ],
             [
              0.7777777777777778,
              "#fb9f3a"
             ],
             [
              0.8888888888888888,
              "#fdca26"
             ],
             [
              1,
              "#f0f921"
             ]
            ],
            "type": "surface"
           }
          ],
          "table": [
           {
            "cells": {
             "fill": {
              "color": "#EBF0F8"
             },
             "line": {
              "color": "white"
             }
            },
            "header": {
             "fill": {
              "color": "#C8D4E3"
             },
             "line": {
              "color": "white"
             }
            },
            "type": "table"
           }
          ]
         },
         "layout": {
          "annotationdefaults": {
           "arrowcolor": "#2a3f5f",
           "arrowhead": 0,
           "arrowwidth": 1
          },
          "autotypenumbers": "strict",
          "coloraxis": {
           "colorbar": {
            "outlinewidth": 0,
            "ticks": ""
           }
          },
          "colorscale": {
           "diverging": [
            [
             0,
             "#8e0152"
            ],
            [
             0.1,
             "#c51b7d"
            ],
            [
             0.2,
             "#de77ae"
            ],
            [
             0.3,
             "#f1b6da"
            ],
            [
             0.4,
             "#fde0ef"
            ],
            [
             0.5,
             "#f7f7f7"
            ],
            [
             0.6,
             "#e6f5d0"
            ],
            [
             0.7,
             "#b8e186"
            ],
            [
             0.8,
             "#7fbc41"
            ],
            [
             0.9,
             "#4d9221"
            ],
            [
             1,
             "#276419"
            ]
           ],
           "sequential": [
            [
             0,
             "#0d0887"
            ],
            [
             0.1111111111111111,
             "#46039f"
            ],
            [
             0.2222222222222222,
             "#7201a8"
            ],
            [
             0.3333333333333333,
             "#9c179e"
            ],
            [
             0.4444444444444444,
             "#bd3786"
            ],
            [
             0.5555555555555556,
             "#d8576b"
            ],
            [
             0.6666666666666666,
             "#ed7953"
            ],
            [
             0.7777777777777778,
             "#fb9f3a"
            ],
            [
             0.8888888888888888,
             "#fdca26"
            ],
            [
             1,
             "#f0f921"
            ]
           ],
           "sequentialminus": [
            [
             0,
             "#0d0887"
            ],
            [
             0.1111111111111111,
             "#46039f"
            ],
            [
             0.2222222222222222,
             "#7201a8"
            ],
            [
             0.3333333333333333,
             "#9c179e"
            ],
            [
             0.4444444444444444,
             "#bd3786"
            ],
            [
             0.5555555555555556,
             "#d8576b"
            ],
            [
             0.6666666666666666,
             "#ed7953"
            ],
            [
             0.7777777777777778,
             "#fb9f3a"
            ],
            [
             0.8888888888888888,
             "#fdca26"
            ],
            [
             1,
             "#f0f921"
            ]
           ]
          },
          "colorway": [
           "#636efa",
           "#EF553B",
           "#00cc96",
           "#ab63fa",
           "#FFA15A",
           "#19d3f3",
           "#FF6692",
           "#B6E880",
           "#FF97FF",
           "#FECB52"
          ],
          "font": {
           "color": "#2a3f5f"
          },
          "geo": {
           "bgcolor": "white",
           "lakecolor": "white",
           "landcolor": "#E5ECF6",
           "showlakes": true,
           "showland": true,
           "subunitcolor": "white"
          },
          "hoverlabel": {
           "align": "left"
          },
          "hovermode": "closest",
          "mapbox": {
           "style": "light"
          },
          "paper_bgcolor": "white",
          "plot_bgcolor": "#E5ECF6",
          "polar": {
           "angularaxis": {
            "gridcolor": "white",
            "linecolor": "white",
            "ticks": ""
           },
           "bgcolor": "#E5ECF6",
           "radialaxis": {
            "gridcolor": "white",
            "linecolor": "white",
            "ticks": ""
           }
          },
          "scene": {
           "xaxis": {
            "backgroundcolor": "#E5ECF6",
            "gridcolor": "white",
            "gridwidth": 2,
            "linecolor": "white",
            "showbackground": true,
            "ticks": "",
            "zerolinecolor": "white"
           },
           "yaxis": {
            "backgroundcolor": "#E5ECF6",
            "gridcolor": "white",
            "gridwidth": 2,
            "linecolor": "white",
            "showbackground": true,
            "ticks": "",
            "zerolinecolor": "white"
           },
           "zaxis": {
            "backgroundcolor": "#E5ECF6",
            "gridcolor": "white",
            "gridwidth": 2,
            "linecolor": "white",
            "showbackground": true,
            "ticks": "",
            "zerolinecolor": "white"
           }
          },
          "shapedefaults": {
           "line": {
            "color": "#2a3f5f"
           }
          },
          "ternary": {
           "aaxis": {
            "gridcolor": "white",
            "linecolor": "white",
            "ticks": ""
           },
           "baxis": {
            "gridcolor": "white",
            "linecolor": "white",
            "ticks": ""
           },
           "bgcolor": "#E5ECF6",
           "caxis": {
            "gridcolor": "white",
            "linecolor": "white",
            "ticks": ""
           }
          },
          "title": {
           "x": 0.05
          },
          "xaxis": {
           "automargin": true,
           "gridcolor": "white",
           "linecolor": "white",
           "ticks": "",
           "title": {
            "standoff": 15
           },
           "zerolinecolor": "white",
           "zerolinewidth": 2
          },
          "yaxis": {
           "automargin": true,
           "gridcolor": "white",
           "linecolor": "white",
           "ticks": "",
           "title": {
            "standoff": 15
           },
           "zerolinecolor": "white",
           "zerolinewidth": 2
          }
         }
        },
        "title": {
         "text": "Change in CO₂ Emission Between Years 1750 and 2020 - Regions",
         "x": 0.5
        },
        "xaxis": {
         "anchor": "y",
         "domain": [
          0,
          0.18400000000000002
         ],
         "title": {
          "text": "Year"
         }
        },
        "xaxis2": {
         "anchor": "y2",
         "domain": [
          0.20400000000000001,
          0.388
         ],
         "matches": "x",
         "title": {
          "text": "Year"
         }
        },
        "xaxis3": {
         "anchor": "y3",
         "domain": [
          0.40800000000000003,
          0.5920000000000001
         ],
         "matches": "x",
         "title": {
          "text": "Year"
         }
        },
        "xaxis4": {
         "anchor": "y4",
         "domain": [
          0.6120000000000001,
          0.7960000000000002
         ],
         "matches": "x",
         "title": {
          "text": "Year"
         }
        },
        "xaxis5": {
         "anchor": "y5",
         "domain": [
          0.8160000000000001,
          1
         ],
         "matches": "x",
         "title": {
          "text": "Year"
         }
        },
        "yaxis": {
         "anchor": "x",
         "domain": [
          0,
          1
         ],
         "title": {
          "text": "CO₂ Emission"
         }
        },
        "yaxis2": {
         "anchor": "x2",
         "domain": [
          0,
          1
         ],
         "matches": "y",
         "showticklabels": false
        },
        "yaxis3": {
         "anchor": "x3",
         "domain": [
          0,
          1
         ],
         "matches": "y",
         "showticklabels": false
        },
        "yaxis4": {
         "anchor": "x4",
         "domain": [
          0,
          1
         ],
         "matches": "y",
         "showticklabels": false
        },
        "yaxis5": {
         "anchor": "x5",
         "domain": [
          0,
          1
         ],
         "matches": "y",
         "showticklabels": false
        }
       }
      },
      "text/html": [
       "<div>                            <div id=\"06de9d1b-0386-4918-9987-2dbefc7858cb\" class=\"plotly-graph-div\" style=\"height:350px; width:100%;\"></div>            <script type=\"text/javascript\">                require([\"plotly\"], function(Plotly) {                    window.PLOTLYENV=window.PLOTLYENV || {};                                    if (document.getElementById(\"06de9d1b-0386-4918-9987-2dbefc7858cb\")) {                    Plotly.newPlot(                        \"06de9d1b-0386-4918-9987-2dbefc7858cb\",                        [{\"hovertemplate\":\"Region=Africa<br>Year=%{x}<br>CO\\u2082 Emission=%{y}<extra></extra>\",\"legendgroup\":\"Africa\",\"line\":{\"color\":\"#636efa\"},\"marker\":{\"symbol\":\"circle\"},\"mode\":\"lines\",\"name\":\"Africa\",\"orientation\":\"v\",\"showlegend\":true,\"stackgroup\":\"1\",\"x\":[\"1884-01-01T00:00:00\",\"1885-01-01T00:00:00\",\"1886-01-01T00:00:00\",\"1887-01-01T00:00:00\",\"1888-01-01T00:00:00\",\"1889-01-01T00:00:00\",\"1890-01-01T00:00:00\",\"1891-01-01T00:00:00\",\"1892-01-01T00:00:00\",\"1893-01-01T00:00:00\",\"1894-01-01T00:00:00\",\"1895-01-01T00:00:00\",\"1896-01-01T00:00:00\",\"1897-01-01T00:00:00\",\"1898-01-01T00:00:00\",\"1899-01-01T00:00:00\",\"1900-01-01T00:00:00\",\"1901-01-01T00:00:00\",\"1902-01-01T00:00:00\",\"1903-01-01T00:00:00\",\"1904-01-01T00:00:00\",\"1905-01-01T00:00:00\",\"1906-01-01T00:00:00\",\"1907-01-01T00:00:00\",\"1908-01-01T00:00:00\",\"1909-01-01T00:00:00\",\"1910-01-01T00:00:00\",\"1911-01-01T00:00:00\",\"1912-01-01T00:00:00\",\"1913-01-01T00:00:00\",\"1914-01-01T00:00:00\",\"1915-01-01T00:00:00\",\"1916-01-01T00:00:00\",\"1917-01-01T00:00:00\",\"1918-01-01T00:00:00\",\"1919-01-01T00:00:00\",\"1920-01-01T00:00:00\",\"1921-01-01T00:00:00\",\"1922-01-01T00:00:00\",\"1923-01-01T00:00:00\",\"1924-01-01T00:00:00\",\"1925-01-01T00:00:00\",\"1926-01-01T00:00:00\",\"1927-01-01T00:00:00\",\"1928-01-01T00:00:00\",\"1929-01-01T00:00:00\",\"1930-01-01T00:00:00\",\"1931-01-01T00:00:00\",\"1932-01-01T00:00:00\",\"1933-01-01T00:00:00\",\"1934-01-01T00:00:00\",\"1935-01-01T00:00:00\",\"1936-01-01T00:00:00\",\"1937-01-01T00:00:00\",\"1938-01-01T00:00:00\",\"1939-01-01T00:00:00\",\"1940-01-01T00:00:00\",\"1941-01-01T00:00:00\",\"1942-01-01T00:00:00\",\"1943-01-01T00:00:00\",\"1944-01-01T00:00:00\",\"1945-01-01T00:00:00\",\"1946-01-01T00:00:00\",\"1947-01-01T00:00:00\",\"1948-01-01T00:00:00\",\"1949-01-01T00:00:00\",\"1950-01-01T00:00:00\",\"1951-01-01T00:00:00\",\"1952-01-01T00:00:00\",\"1953-01-01T00:00:00\",\"1954-01-01T00:00:00\",\"1955-01-01T00:00:00\",\"1956-01-01T00:00:00\",\"1957-01-01T00:00:00\",\"1958-01-01T00:00:00\",\"1959-01-01T00:00:00\",\"1960-01-01T00:00:00\",\"1961-01-01T00:00:00\",\"1962-01-01T00:00:00\",\"1963-01-01T00:00:00\",\"1964-01-01T00:00:00\",\"1965-01-01T00:00:00\",\"1966-01-01T00:00:00\",\"1967-01-01T00:00:00\",\"1968-01-01T00:00:00\",\"1969-01-01T00:00:00\",\"1970-01-01T00:00:00\",\"1971-01-01T00:00:00\",\"1972-01-01T00:00:00\",\"1973-01-01T00:00:00\",\"1974-01-01T00:00:00\",\"1975-01-01T00:00:00\",\"1976-01-01T00:00:00\",\"1977-01-01T00:00:00\",\"1978-01-01T00:00:00\",\"1979-01-01T00:00:00\",\"1980-01-01T00:00:00\",\"1981-01-01T00:00:00\",\"1982-01-01T00:00:00\",\"1983-01-01T00:00:00\",\"1984-01-01T00:00:00\",\"1985-01-01T00:00:00\",\"1986-01-01T00:00:00\",\"1987-01-01T00:00:00\",\"1988-01-01T00:00:00\",\"1989-01-01T00:00:00\",\"1990-01-01T00:00:00\",\"1991-01-01T00:00:00\",\"1992-01-01T00:00:00\",\"1993-01-01T00:00:00\",\"1994-01-01T00:00:00\",\"1995-01-01T00:00:00\",\"1996-01-01T00:00:00\",\"1997-01-01T00:00:00\",\"1998-01-01T00:00:00\",\"1999-01-01T00:00:00\",\"2000-01-01T00:00:00\",\"2001-01-01T00:00:00\",\"2002-01-01T00:00:00\",\"2003-01-01T00:00:00\",\"2004-01-01T00:00:00\",\"2005-01-01T00:00:00\",\"2006-01-01T00:00:00\",\"2007-01-01T00:00:00\",\"2008-01-01T00:00:00\",\"2009-01-01T00:00:00\",\"2010-01-01T00:00:00\",\"2011-01-01T00:00:00\",\"2012-01-01T00:00:00\",\"2013-01-01T00:00:00\",\"2014-01-01T00:00:00\",\"2015-01-01T00:00:00\",\"2016-01-01T00:00:00\",\"2017-01-01T00:00:00\"],\"xaxis\":\"x\",\"y\":[21984.0,36640.0,47632.0,47632.0,80608.0,131904.0,296784.0,296784.0,479984.0,1799024.0,2432896.0,3337904.0,4257568.0,4777856.0,6049264.0,5517984.0,2330304.0,3909488.0,5825760.0,7895920.0,8910848.0,10262864.0,11717472.0,12930256.0,13402912.0,15385136.0,17411328.0,16865392.0,17953600.0,19606064.0,19551104.0,19606064.0,23255408.0,25343888.0,24724672.0,25442816.0,28051584.0,27985632.0,23969888.0,29044528.0,30631040.0,32184576.0,34437936.0,33840704.0,34771360.0,35804608.0,33697808.0,29465888.0,26626288.0,28494928.0,32543648.0,35914528.0,39021600.0,41850208.0,44019296.0,46858896.0,49654528.0,54029344.0,58829184.0,60126240.0,66640832.0,67534848.0,68168720.0,67945216.0,71744784.0,77336048.0,87199536.0,93072928.0,101188688.0,102478416.0,107084064.0,117434864.0,121871968.0,127888256.0,137407328.0,147336232.63,155926037.87,161490780.97,165784686.54,175786229.16000003,192885718.19,212825474.43,220111943.95,235765268.04,256109316.13,276693705.36,303347407.3,332613652.7,352674448.62,378850020.05,389307853.3,388144642.46999997,421130734.01,433986744.45,463516929.54,500257681.72,536794053.56,549641247.27,572876498.5500001,595723369.91,650510509.12,666993856.21,691032206.7800001,691049730.1800001,726363674.88,699467189.01,659409986.93,688646882.78,671490175.94,711268200.27,722225578.66,777677316.58,795929824.63,815399385.7,838267688.21,831360200.81,887875064.3,882715825.61,887874329.51,965740411.89,1037092801.89,1048478604.5,1088450437.56,1131414239.48,1183366591.45,1193753215.6200001,1199505147.0,1204303923.5,1222546112.1499999,1238227347.97,1278208228.8700001,1289014732.09,1310668086.91,1331751655.31],\"yaxis\":\"y\",\"type\":\"scatter\"},{\"hovertemplate\":\"Region=Americas<br>Year=%{x}<br>CO\\u2082 Emission=%{y}<extra></extra>\",\"legendgroup\":\"Americas\",\"line\":{\"color\":\"#EF553B\"},\"marker\":{\"symbol\":\"circle\"},\"mode\":\"lines\",\"name\":\"Americas\",\"orientation\":\"v\",\"showlegend\":true,\"stackgroup\":\"1\",\"x\":[\"1751-01-01T00:00:00\",\"1752-01-01T00:00:00\",\"1753-01-01T00:00:00\",\"1754-01-01T00:00:00\",\"1755-01-01T00:00:00\",\"1756-01-01T00:00:00\",\"1757-01-01T00:00:00\",\"1758-01-01T00:00:00\",\"1759-01-01T00:00:00\",\"1760-01-01T00:00:00\",\"1761-01-01T00:00:00\",\"1762-01-01T00:00:00\",\"1763-01-01T00:00:00\",\"1764-01-01T00:00:00\",\"1765-01-01T00:00:00\",\"1766-01-01T00:00:00\",\"1767-01-01T00:00:00\",\"1768-01-01T00:00:00\",\"1769-01-01T00:00:00\",\"1770-01-01T00:00:00\",\"1771-01-01T00:00:00\",\"1772-01-01T00:00:00\",\"1773-01-01T00:00:00\",\"1774-01-01T00:00:00\",\"1775-01-01T00:00:00\",\"1776-01-01T00:00:00\",\"1777-01-01T00:00:00\",\"1778-01-01T00:00:00\",\"1779-01-01T00:00:00\",\"1780-01-01T00:00:00\",\"1781-01-01T00:00:00\",\"1782-01-01T00:00:00\",\"1783-01-01T00:00:00\",\"1784-01-01T00:00:00\",\"1785-01-01T00:00:00\",\"1786-01-01T00:00:00\",\"1787-01-01T00:00:00\",\"1788-01-01T00:00:00\",\"1789-01-01T00:00:00\",\"1790-01-01T00:00:00\",\"1791-01-01T00:00:00\",\"1792-01-01T00:00:00\",\"1793-01-01T00:00:00\",\"1794-01-01T00:00:00\",\"1795-01-01T00:00:00\",\"1796-01-01T00:00:00\",\"1797-01-01T00:00:00\",\"1798-01-01T00:00:00\",\"1799-01-01T00:00:00\",\"1800-01-01T00:00:00\",\"1801-01-01T00:00:00\",\"1802-01-01T00:00:00\",\"1803-01-01T00:00:00\",\"1804-01-01T00:00:00\",\"1805-01-01T00:00:00\",\"1806-01-01T00:00:00\",\"1807-01-01T00:00:00\",\"1808-01-01T00:00:00\",\"1809-01-01T00:00:00\",\"1810-01-01T00:00:00\",\"1811-01-01T00:00:00\",\"1812-01-01T00:00:00\",\"1813-01-01T00:00:00\",\"1814-01-01T00:00:00\",\"1815-01-01T00:00:00\",\"1816-01-01T00:00:00\",\"1817-01-01T00:00:00\",\"1818-01-01T00:00:00\",\"1819-01-01T00:00:00\",\"1820-01-01T00:00:00\",\"1821-01-01T00:00:00\",\"1822-01-01T00:00:00\",\"1823-01-01T00:00:00\",\"1824-01-01T00:00:00\",\"1825-01-01T00:00:00\",\"1826-01-01T00:00:00\",\"1827-01-01T00:00:00\",\"1828-01-01T00:00:00\",\"1829-01-01T00:00:00\",\"1830-01-01T00:00:00\",\"1831-01-01T00:00:00\",\"1832-01-01T00:00:00\",\"1833-01-01T00:00:00\",\"1834-01-01T00:00:00\",\"1835-01-01T00:00:00\",\"1836-01-01T00:00:00\",\"1837-01-01T00:00:00\",\"1838-01-01T00:00:00\",\"1839-01-01T00:00:00\",\"1840-01-01T00:00:00\",\"1841-01-01T00:00:00\",\"1842-01-01T00:00:00\",\"1843-01-01T00:00:00\",\"1844-01-01T00:00:00\",\"1845-01-01T00:00:00\",\"1846-01-01T00:00:00\",\"1847-01-01T00:00:00\",\"1848-01-01T00:00:00\",\"1849-01-01T00:00:00\",\"1850-01-01T00:00:00\",\"1851-01-01T00:00:00\",\"1852-01-01T00:00:00\",\"1853-01-01T00:00:00\",\"1854-01-01T00:00:00\",\"1855-01-01T00:00:00\",\"1856-01-01T00:00:00\",\"1857-01-01T00:00:00\",\"1858-01-01T00:00:00\",\"1859-01-01T00:00:00\",\"1860-01-01T00:00:00\",\"1861-01-01T00:00:00\",\"1862-01-01T00:00:00\",\"1863-01-01T00:00:00\",\"1864-01-01T00:00:00\",\"1865-01-01T00:00:00\",\"1866-01-01T00:00:00\",\"1867-01-01T00:00:00\",\"1868-01-01T00:00:00\",\"1869-01-01T00:00:00\",\"1870-01-01T00:00:00\",\"1871-01-01T00:00:00\",\"1872-01-01T00:00:00\",\"1873-01-01T00:00:00\",\"1874-01-01T00:00:00\",\"1875-01-01T00:00:00\",\"1876-01-01T00:00:00\",\"1877-01-01T00:00:00\",\"1878-01-01T00:00:00\",\"1879-01-01T00:00:00\",\"1880-01-01T00:00:00\",\"1881-01-01T00:00:00\",\"1882-01-01T00:00:00\",\"1883-01-01T00:00:00\",\"1884-01-01T00:00:00\",\"1885-01-01T00:00:00\",\"1886-01-01T00:00:00\",\"1887-01-01T00:00:00\",\"1888-01-01T00:00:00\",\"1889-01-01T00:00:00\",\"1890-01-01T00:00:00\",\"1891-01-01T00:00:00\",\"1892-01-01T00:00:00\",\"1893-01-01T00:00:00\",\"1894-01-01T00:00:00\",\"1895-01-01T00:00:00\",\"1896-01-01T00:00:00\",\"1897-01-01T00:00:00\",\"1898-01-01T00:00:00\",\"1899-01-01T00:00:00\",\"1900-01-01T00:00:00\",\"1901-01-01T00:00:00\",\"1902-01-01T00:00:00\",\"1903-01-01T00:00:00\",\"1904-01-01T00:00:00\",\"1905-01-01T00:00:00\",\"1906-01-01T00:00:00\",\"1907-01-01T00:00:00\",\"1908-01-01T00:00:00\",\"1909-01-01T00:00:00\",\"1910-01-01T00:00:00\",\"1911-01-01T00:00:00\",\"1912-01-01T00:00:00\",\"1913-01-01T00:00:00\",\"1914-01-01T00:00:00\",\"1915-01-01T00:00:00\",\"1916-01-01T00:00:00\",\"1917-01-01T00:00:00\",\"1918-01-01T00:00:00\",\"1919-01-01T00:00:00\",\"1920-01-01T00:00:00\",\"1921-01-01T00:00:00\",\"1922-01-01T00:00:00\",\"1923-01-01T00:00:00\",\"1924-01-01T00:00:00\",\"1925-01-01T00:00:00\",\"1926-01-01T00:00:00\",\"1927-01-01T00:00:00\",\"1928-01-01T00:00:00\",\"1929-01-01T00:00:00\",\"1930-01-01T00:00:00\",\"1931-01-01T00:00:00\",\"1932-01-01T00:00:00\",\"1933-01-01T00:00:00\",\"1934-01-01T00:00:00\",\"1935-01-01T00:00:00\",\"1936-01-01T00:00:00\",\"1937-01-01T00:00:00\",\"1938-01-01T00:00:00\",\"1939-01-01T00:00:00\",\"1940-01-01T00:00:00\",\"1941-01-01T00:00:00\",\"1942-01-01T00:00:00\",\"1943-01-01T00:00:00\",\"1944-01-01T00:00:00\",\"1945-01-01T00:00:00\",\"1946-01-01T00:00:00\",\"1947-01-01T00:00:00\",\"1948-01-01T00:00:00\",\"1949-01-01T00:00:00\",\"1950-01-01T00:00:00\",\"1951-01-01T00:00:00\",\"1952-01-01T00:00:00\",\"1953-01-01T00:00:00\",\"1954-01-01T00:00:00\",\"1955-01-01T00:00:00\",\"1956-01-01T00:00:00\",\"1957-01-01T00:00:00\",\"1958-01-01T00:00:00\",\"1959-01-01T00:00:00\",\"1960-01-01T00:00:00\",\"1961-01-01T00:00:00\",\"1962-01-01T00:00:00\",\"1963-01-01T00:00:00\",\"1964-01-01T00:00:00\",\"1965-01-01T00:00:00\",\"1966-01-01T00:00:00\",\"1967-01-01T00:00:00\",\"1968-01-01T00:00:00\",\"1969-01-01T00:00:00\",\"1970-01-01T00:00:00\",\"1971-01-01T00:00:00\",\"1972-01-01T00:00:00\",\"1973-01-01T00:00:00\",\"1974-01-01T00:00:00\",\"1975-01-01T00:00:00\",\"1976-01-01T00:00:00\",\"1977-01-01T00:00:00\",\"1978-01-01T00:00:00\",\"1979-01-01T00:00:00\",\"1980-01-01T00:00:00\",\"1981-01-01T00:00:00\",\"1982-01-01T00:00:00\",\"1983-01-01T00:00:00\",\"1984-01-01T00:00:00\",\"1985-01-01T00:00:00\",\"1986-01-01T00:00:00\",\"1987-01-01T00:00:00\",\"1988-01-01T00:00:00\",\"1989-01-01T00:00:00\",\"1990-01-01T00:00:00\",\"1991-01-01T00:00:00\",\"1992-01-01T00:00:00\",\"1993-01-01T00:00:00\",\"1994-01-01T00:00:00\",\"1995-01-01T00:00:00\",\"1996-01-01T00:00:00\",\"1997-01-01T00:00:00\",\"1998-01-01T00:00:00\",\"1999-01-01T00:00:00\",\"2000-01-01T00:00:00\",\"2001-01-01T00:00:00\",\"2002-01-01T00:00:00\",\"2003-01-01T00:00:00\",\"2004-01-01T00:00:00\",\"2005-01-01T00:00:00\",\"2006-01-01T00:00:00\",\"2007-01-01T00:00:00\",\"2008-01-01T00:00:00\",\"2009-01-01T00:00:00\",\"2010-01-01T00:00:00\",\"2011-01-01T00:00:00\",\"2012-01-01T00:00:00\",\"2013-01-01T00:00:00\",\"2014-01-01T00:00:00\",\"2015-01-01T00:00:00\",\"2016-01-01T00:00:00\",\"2017-01-01T00:00:00\"],\"xaxis\":\"x2\",\"y\":[0.0,0.0,0.0,0.0,0.0,0.0,0.0,0.0,0.0,0.0,0.0,0.0,0.0,0.0,0.0,0.0,0.0,0.0,0.0,0.0,0.0,0.0,0.0,0.0,0.0,0.0,0.0,0.0,0.0,0.0,0.0,0.0,0.0,0.0,3664.0,3664.0,3664.0,3664.0,3664.0,3664.0,3664.0,3664.0,3664.0,3664.0,3664.0,3664.0,3664.0,3664.0,3664.0,256480.0,271136.0,293120.0,300448.0,337088.0,344416.0,337088.0,381056.0,395712.0,406704.0,421360.0,450672.0,487312.0,523952.0,564256.0,604560.0,666848.0,721808.0,784096.0,765776.0,795088.0,831728.0,868368.0,905008.0,1018592.0,1139504.0,1319040.0,1450944.0,1597504.0,1799024.0,2092144.0,2268016.0,3026464.0,3532096.0,3385536.0,4319856.0,4733888.0,5309136.0,5034336.0,5521648.0,5877056.0,6217808.0,6921296.0,7767680.0,9310224.0,11208176.0,12736064.0,15103008.0,16825088.0,18268704.0,19851552.0,24702688.0,26875440.0,30264640.0,33283776.0,38310784.0,40216064.0,41271296.0,41912496.0,45635120.0,47818864.0,46137088.0,48009392.0,55513264.0,59499696.0,59840448.0,60474320.0,74459808.0,83297376.0,94380976.0,99844000.0,104801392.0,128152064.0,141115296.0,135919744.0,137623504.0,134677648.0,149198080.0,145838192.0,177652704.0,203916256.0,215783952.0,242010864.0,261312816.0,276192320.0,280409584.0,296267376.0,318621440.0,388083552.0,348596624.0,415541568.0,442871344.0,466368576.0,471080480.0,441801456.0,496801760.0,498989168.0,518532944.0,564941168.0,649172864.0,687531280.0,753083904.0,798946192.0,931597648.0,923701728.0,1030804112.0,1084976352.0,1263742912.0,1117040016.0,1225864480.0,1342317392.0,1344343584.0,1437302928.0,1552484432.0,1411706224.0,1456121232.0,1623932432.0,1791238000.0,1877514208.0,1607675264.0,1912014432.0,1608173568.0,1606231648.0,2079997840.0,1866837312.0,1901561040.0,2047318624.0,2000815136.0,1980318720.0,2119550720.0,1889697008.0,1604311712.0,1375025920.0,1470381520.0,1575241536.0,1636664832.0,1864169920.0,1965373264.0,1677855520.0,1842065008.0,2064792240.0,2242672112.0,2402898832.0,2483268672.0,2665669920.0,2573787792.0,2547003952.0,2728023872.0,2848496192.0,2418844560.0,2844780896.0,2954547008.0,2897260368.0,2957892240.0,2847701104.0,3117100368.0,3284944544.0,3278140496.0,3185862656.0,3303253764.75,3379162333.4300003,3376978969.65,3515389141.92,3651140592.57,3839914941.19,4000493103.35,4196358798.65,4382484382.62,4564730184.17,4799664638.54,5186466809.4,5248878490.89,5510547469.61,5767666187.16,5640175525.58,5462945292.88,5713852367.8,5872175539.9800005,6080428758.73,6172692038.95,6038444329.4800005,5829663407.14,5609914974.170001,5596835825.84,5760963336.190001,5800108638.47,5805944610.49,6070543973.86,6323242064.969999,6452734770.53,6588212731.509999,6545480084.15,6681954515.349999,6831362828.94,6978802711.200001,7062876874.280001,7318494552.639999,7474978446.64,7605940031.2300005,7727035158.17,7912238116.53,7837853225.160001,7901380190.86,8000651910.349999,8123993929.37,8214444790.459999,8172386152.9800005,8304444160.54,8164701311.44,7658543369.43,7960538326.0,7871403257.79,7747053095.6,7931323059.92,8017056550.03,7856346414.51,7725907782.0199995,7668150135.01],\"yaxis\":\"y2\",\"type\":\"scatter\"},{\"hovertemplate\":\"Region=Asia<br>Year=%{x}<br>CO\\u2082 Emission=%{y}<extra></extra>\",\"legendgroup\":\"Asia\",\"line\":{\"color\":\"#00cc96\"},\"marker\":{\"symbol\":\"circle\"},\"mode\":\"lines\",\"name\":\"Asia\",\"orientation\":\"v\",\"showlegend\":true,\"stackgroup\":\"1\",\"x\":[\"1751-01-01T00:00:00\",\"1752-01-01T00:00:00\",\"1753-01-01T00:00:00\",\"1754-01-01T00:00:00\",\"1755-01-01T00:00:00\",\"1756-01-01T00:00:00\",\"1757-01-01T00:00:00\",\"1758-01-01T00:00:00\",\"1759-01-01T00:00:00\",\"1760-01-01T00:00:00\",\"1761-01-01T00:00:00\",\"1762-01-01T00:00:00\",\"1763-01-01T00:00:00\",\"1764-01-01T00:00:00\",\"1765-01-01T00:00:00\",\"1766-01-01T00:00:00\",\"1767-01-01T00:00:00\",\"1768-01-01T00:00:00\",\"1769-01-01T00:00:00\",\"1770-01-01T00:00:00\",\"1771-01-01T00:00:00\",\"1772-01-01T00:00:00\",\"1773-01-01T00:00:00\",\"1774-01-01T00:00:00\",\"1775-01-01T00:00:00\",\"1776-01-01T00:00:00\",\"1777-01-01T00:00:00\",\"1778-01-01T00:00:00\",\"1779-01-01T00:00:00\",\"1780-01-01T00:00:00\",\"1781-01-01T00:00:00\",\"1782-01-01T00:00:00\",\"1783-01-01T00:00:00\",\"1784-01-01T00:00:00\",\"1785-01-01T00:00:00\",\"1786-01-01T00:00:00\",\"1787-01-01T00:00:00\",\"1788-01-01T00:00:00\",\"1789-01-01T00:00:00\",\"1790-01-01T00:00:00\",\"1791-01-01T00:00:00\",\"1792-01-01T00:00:00\",\"1793-01-01T00:00:00\",\"1794-01-01T00:00:00\",\"1795-01-01T00:00:00\",\"1796-01-01T00:00:00\",\"1797-01-01T00:00:00\",\"1798-01-01T00:00:00\",\"1799-01-01T00:00:00\",\"1800-01-01T00:00:00\",\"1801-01-01T00:00:00\",\"1802-01-01T00:00:00\",\"1803-01-01T00:00:00\",\"1804-01-01T00:00:00\",\"1805-01-01T00:00:00\",\"1806-01-01T00:00:00\",\"1807-01-01T00:00:00\",\"1808-01-01T00:00:00\",\"1809-01-01T00:00:00\",\"1810-01-01T00:00:00\",\"1811-01-01T00:00:00\",\"1812-01-01T00:00:00\",\"1813-01-01T00:00:00\",\"1814-01-01T00:00:00\",\"1815-01-01T00:00:00\",\"1816-01-01T00:00:00\",\"1817-01-01T00:00:00\",\"1818-01-01T00:00:00\",\"1819-01-01T00:00:00\",\"1820-01-01T00:00:00\",\"1821-01-01T00:00:00\",\"1822-01-01T00:00:00\",\"1823-01-01T00:00:00\",\"1824-01-01T00:00:00\",\"1825-01-01T00:00:00\",\"1826-01-01T00:00:00\",\"1827-01-01T00:00:00\",\"1828-01-01T00:00:00\",\"1829-01-01T00:00:00\",\"1830-01-01T00:00:00\",\"1831-01-01T00:00:00\",\"1832-01-01T00:00:00\",\"1833-01-01T00:00:00\",\"1834-01-01T00:00:00\",\"1835-01-01T00:00:00\",\"1836-01-01T00:00:00\",\"1837-01-01T00:00:00\",\"1838-01-01T00:00:00\",\"1839-01-01T00:00:00\",\"1840-01-01T00:00:00\",\"1841-01-01T00:00:00\",\"1842-01-01T00:00:00\",\"1843-01-01T00:00:00\",\"1844-01-01T00:00:00\",\"1845-01-01T00:00:00\",\"1846-01-01T00:00:00\",\"1847-01-01T00:00:00\",\"1848-01-01T00:00:00\",\"1849-01-01T00:00:00\",\"1850-01-01T00:00:00\",\"1851-01-01T00:00:00\",\"1852-01-01T00:00:00\",\"1853-01-01T00:00:00\",\"1854-01-01T00:00:00\",\"1855-01-01T00:00:00\",\"1856-01-01T00:00:00\",\"1857-01-01T00:00:00\",\"1858-01-01T00:00:00\",\"1859-01-01T00:00:00\",\"1860-01-01T00:00:00\",\"1861-01-01T00:00:00\",\"1862-01-01T00:00:00\",\"1863-01-01T00:00:00\",\"1864-01-01T00:00:00\",\"1865-01-01T00:00:00\",\"1866-01-01T00:00:00\",\"1867-01-01T00:00:00\",\"1868-01-01T00:00:00\",\"1869-01-01T00:00:00\",\"1870-01-01T00:00:00\",\"1871-01-01T00:00:00\",\"1872-01-01T00:00:00\",\"1873-01-01T00:00:00\",\"1874-01-01T00:00:00\",\"1875-01-01T00:00:00\",\"1876-01-01T00:00:00\",\"1877-01-01T00:00:00\",\"1878-01-01T00:00:00\",\"1879-01-01T00:00:00\",\"1880-01-01T00:00:00\",\"1881-01-01T00:00:00\",\"1882-01-01T00:00:00\",\"1883-01-01T00:00:00\",\"1884-01-01T00:00:00\",\"1885-01-01T00:00:00\",\"1886-01-01T00:00:00\",\"1887-01-01T00:00:00\",\"1888-01-01T00:00:00\",\"1889-01-01T00:00:00\",\"1890-01-01T00:00:00\",\"1891-01-01T00:00:00\",\"1892-01-01T00:00:00\",\"1893-01-01T00:00:00\",\"1894-01-01T00:00:00\",\"1895-01-01T00:00:00\",\"1896-01-01T00:00:00\",\"1897-01-01T00:00:00\",\"1898-01-01T00:00:00\",\"1899-01-01T00:00:00\",\"1900-01-01T00:00:00\",\"1901-01-01T00:00:00\",\"1902-01-01T00:00:00\",\"1903-01-01T00:00:00\",\"1904-01-01T00:00:00\",\"1905-01-01T00:00:00\",\"1906-01-01T00:00:00\",\"1907-01-01T00:00:00\",\"1908-01-01T00:00:00\",\"1909-01-01T00:00:00\",\"1910-01-01T00:00:00\",\"1911-01-01T00:00:00\",\"1912-01-01T00:00:00\",\"1913-01-01T00:00:00\",\"1914-01-01T00:00:00\",\"1915-01-01T00:00:00\",\"1916-01-01T00:00:00\",\"1917-01-01T00:00:00\",\"1918-01-01T00:00:00\",\"1919-01-01T00:00:00\",\"1920-01-01T00:00:00\",\"1921-01-01T00:00:00\",\"1922-01-01T00:00:00\",\"1923-01-01T00:00:00\",\"1924-01-01T00:00:00\",\"1925-01-01T00:00:00\",\"1926-01-01T00:00:00\",\"1927-01-01T00:00:00\",\"1928-01-01T00:00:00\",\"1929-01-01T00:00:00\",\"1930-01-01T00:00:00\",\"1931-01-01T00:00:00\",\"1932-01-01T00:00:00\",\"1933-01-01T00:00:00\",\"1934-01-01T00:00:00\",\"1935-01-01T00:00:00\",\"1936-01-01T00:00:00\",\"1937-01-01T00:00:00\",\"1938-01-01T00:00:00\",\"1939-01-01T00:00:00\",\"1940-01-01T00:00:00\",\"1941-01-01T00:00:00\",\"1942-01-01T00:00:00\",\"1943-01-01T00:00:00\",\"1944-01-01T00:00:00\",\"1945-01-01T00:00:00\",\"1946-01-01T00:00:00\",\"1947-01-01T00:00:00\",\"1948-01-01T00:00:00\",\"1949-01-01T00:00:00\",\"1950-01-01T00:00:00\",\"1951-01-01T00:00:00\",\"1952-01-01T00:00:00\",\"1953-01-01T00:00:00\",\"1954-01-01T00:00:00\",\"1955-01-01T00:00:00\",\"1956-01-01T00:00:00\",\"1957-01-01T00:00:00\",\"1958-01-01T00:00:00\",\"1959-01-01T00:00:00\",\"1960-01-01T00:00:00\",\"1961-01-01T00:00:00\",\"1962-01-01T00:00:00\",\"1963-01-01T00:00:00\",\"1964-01-01T00:00:00\",\"1965-01-01T00:00:00\",\"1966-01-01T00:00:00\",\"1967-01-01T00:00:00\",\"1968-01-01T00:00:00\",\"1969-01-01T00:00:00\",\"1970-01-01T00:00:00\",\"1971-01-01T00:00:00\",\"1972-01-01T00:00:00\",\"1973-01-01T00:00:00\",\"1974-01-01T00:00:00\",\"1975-01-01T00:00:00\",\"1976-01-01T00:00:00\",\"1977-01-01T00:00:00\",\"1978-01-01T00:00:00\",\"1979-01-01T00:00:00\",\"1980-01-01T00:00:00\",\"1981-01-01T00:00:00\",\"1982-01-01T00:00:00\",\"1983-01-01T00:00:00\",\"1984-01-01T00:00:00\",\"1985-01-01T00:00:00\",\"1986-01-01T00:00:00\",\"1987-01-01T00:00:00\",\"1988-01-01T00:00:00\",\"1989-01-01T00:00:00\",\"1990-01-01T00:00:00\",\"1991-01-01T00:00:00\",\"1992-01-01T00:00:00\",\"1993-01-01T00:00:00\",\"1994-01-01T00:00:00\",\"1995-01-01T00:00:00\",\"1996-01-01T00:00:00\",\"1997-01-01T00:00:00\",\"1998-01-01T00:00:00\",\"1999-01-01T00:00:00\",\"2000-01-01T00:00:00\",\"2001-01-01T00:00:00\",\"2002-01-01T00:00:00\",\"2003-01-01T00:00:00\",\"2004-01-01T00:00:00\",\"2005-01-01T00:00:00\",\"2006-01-01T00:00:00\",\"2007-01-01T00:00:00\",\"2008-01-01T00:00:00\",\"2009-01-01T00:00:00\",\"2010-01-01T00:00:00\",\"2011-01-01T00:00:00\",\"2012-01-01T00:00:00\",\"2013-01-01T00:00:00\",\"2014-01-01T00:00:00\",\"2015-01-01T00:00:00\",\"2016-01-01T00:00:00\",\"2017-01-01T00:00:00\"],\"xaxis\":\"x3\",\"y\":[0.0,0.0,0.0,0.0,0.0,0.0,0.0,0.0,0.0,0.0,0.0,0.0,0.0,0.0,0.0,0.0,0.0,0.0,0.0,0.0,0.0,0.0,0.0,0.0,0.0,0.0,0.0,0.0,0.0,0.0,0.0,0.0,0.0,0.0,0.0,0.0,0.0,0.0,0.0,0.0,0.0,0.0,0.0,0.0,0.0,0.0,0.0,0.0,0.0,0.0,0.0,0.0,0.0,0.0,0.0,0.0,0.0,0.0,0.0,0.0,0.0,0.0,0.0,0.0,0.0,0.0,0.0,0.0,0.0,0.0,0.0,0.0,0.0,0.0,0.0,0.0,0.0,0.0,0.0,0.0,0.0,0.0,0.0,0.0,0.0,0.0,0.0,0.0,0.0,0.0,0.0,0.0,0.0,0.0,0.0,0.0,0.0,0.0,0.0,0.0,0.0,0.0,0.0,0.0,0.0,0.0,0.0,436016.0,703488.0,710816.0,549600.0,608224.0,674176.0,637536.0,776768.0,916000.0,227168.0,186864.0,285792.0,175872.0,223504.0,278464.0,278464.0,842720.0,1791696.0,1678112.0,1736736.0,4136656.0,4294208.0,4561680.0,4620304.0,5070976.0,5554624.0,6118880.0,6239792.0,6767408.0,8071792.0,9160000.0,11039632.0,11973952.0,13765648.0,14637680.0,16088624.0,18382288.0,21342800.0,23024576.0,24629408.0,29927552.0,31085376.0,35390576.0,41586400.0,44209824.0,48947376.0,54996640.0,57451520.0,78490208.0,84206048.0,96267936.0,95084464.0,94047552.0,110132512.0,100276352.0,110575856.0,119420752.0,116661760.0,126331056.0,140221280.0,151312208.0,168969024.0,160428240.0,156679968.0,165268384.0,181569520.0,195686912.0,197951264.0,196778784.0,214248736.0,223111952.0,232850864.0,228116976.0,214281712.0,210562752.0,230842992.0,259081440.0,279380000.0,303752928.0,323981872.0,333145536.0,352524432.0,394587152.0,405355648.0,390157376.0,383492560.0,375527024.0,279863648.0,260730240.0,311260464.0,304060704.0,380891120.0,296003568.0,348985008.0,390186688.0,419956688.0,460388928.0,526000176.0,586958144.0,679214000.0,961063536.0,1398953895.61,1544769224.48,1400503212.84,1349561887.39,1431724202.46,1510637684.11,1653052970.3600001,1793424428.54,1819808599.06,2010881243.51,2281335404.85,2711149748.78,2970841336.03,3139961937.87,3370796835.59,3432066763.89,3603723467.95,3837569684.61,4084221926.39,4265889863.57,4440510537.69,4441995229.69,4416342468.86,4566438439.95,4750328287.150001,5022795794.9800005,5322995125.53,5538419619.01,5792316489.66,6241935737.35,6459102052.4,6581854549.97,6891097191.93,7173474041.16,7503692770.09,7834540651.139999,8171687558.64,8493563945.64,8598264412.55,8358147481.26,8607372032.08,9035574811.130001,9195603155.94,9697243012.49,10595710987.71,11568706527.93,12377537180.63,13212970498.06,13935560532.24,14786713992.2,15381163423.61,16394083122.67,17711981129.23,18359651989.11,18430661602.760002,18828842011.19,18929631588.74,19153872276.41,19590121842.66],\"yaxis\":\"y3\",\"type\":\"scatter\"},{\"hovertemplate\":\"Region=Europe<br>Year=%{x}<br>CO\\u2082 Emission=%{y}<extra></extra>\",\"legendgroup\":\"Europe\",\"line\":{\"color\":\"#ab63fa\"},\"marker\":{\"symbol\":\"circle\"},\"mode\":\"lines\",\"name\":\"Europe\",\"orientation\":\"v\",\"showlegend\":true,\"stackgroup\":\"1\",\"x\":[\"1751-01-01T00:00:00\",\"1752-01-01T00:00:00\",\"1753-01-01T00:00:00\",\"1754-01-01T00:00:00\",\"1755-01-01T00:00:00\",\"1756-01-01T00:00:00\",\"1757-01-01T00:00:00\",\"1758-01-01T00:00:00\",\"1759-01-01T00:00:00\",\"1760-01-01T00:00:00\",\"1761-01-01T00:00:00\",\"1762-01-01T00:00:00\",\"1763-01-01T00:00:00\",\"1764-01-01T00:00:00\",\"1765-01-01T00:00:00\",\"1766-01-01T00:00:00\",\"1767-01-01T00:00:00\",\"1768-01-01T00:00:00\",\"1769-01-01T00:00:00\",\"1770-01-01T00:00:00\",\"1771-01-01T00:00:00\",\"1772-01-01T00:00:00\",\"1773-01-01T00:00:00\",\"1774-01-01T00:00:00\",\"1775-01-01T00:00:00\",\"1776-01-01T00:00:00\",\"1777-01-01T00:00:00\",\"1778-01-01T00:00:00\",\"1779-01-01T00:00:00\",\"1780-01-01T00:00:00\",\"1781-01-01T00:00:00\",\"1782-01-01T00:00:00\",\"1783-01-01T00:00:00\",\"1784-01-01T00:00:00\",\"1785-01-01T00:00:00\",\"1786-01-01T00:00:00\",\"1787-01-01T00:00:00\",\"1788-01-01T00:00:00\",\"1789-01-01T00:00:00\",\"1790-01-01T00:00:00\",\"1791-01-01T00:00:00\",\"1792-01-01T00:00:00\",\"1793-01-01T00:00:00\",\"1794-01-01T00:00:00\",\"1795-01-01T00:00:00\",\"1796-01-01T00:00:00\",\"1797-01-01T00:00:00\",\"1798-01-01T00:00:00\",\"1799-01-01T00:00:00\",\"1800-01-01T00:00:00\",\"1801-01-01T00:00:00\",\"1802-01-01T00:00:00\",\"1803-01-01T00:00:00\",\"1804-01-01T00:00:00\",\"1805-01-01T00:00:00\",\"1806-01-01T00:00:00\",\"1807-01-01T00:00:00\",\"1808-01-01T00:00:00\",\"1809-01-01T00:00:00\",\"1810-01-01T00:00:00\",\"1811-01-01T00:00:00\",\"1812-01-01T00:00:00\",\"1813-01-01T00:00:00\",\"1814-01-01T00:00:00\",\"1815-01-01T00:00:00\",\"1816-01-01T00:00:00\",\"1817-01-01T00:00:00\",\"1818-01-01T00:00:00\",\"1819-01-01T00:00:00\",\"1820-01-01T00:00:00\",\"1821-01-01T00:00:00\",\"1822-01-01T00:00:00\",\"1823-01-01T00:00:00\",\"1824-01-01T00:00:00\",\"1825-01-01T00:00:00\",\"1826-01-01T00:00:00\",\"1827-01-01T00:00:00\",\"1828-01-01T00:00:00\",\"1829-01-01T00:00:00\",\"1830-01-01T00:00:00\",\"1831-01-01T00:00:00\",\"1832-01-01T00:00:00\",\"1833-01-01T00:00:00\",\"1834-01-01T00:00:00\",\"1835-01-01T00:00:00\",\"1836-01-01T00:00:00\",\"1837-01-01T00:00:00\",\"1838-01-01T00:00:00\",\"1839-01-01T00:00:00\",\"1840-01-01T00:00:00\",\"1841-01-01T00:00:00\",\"1842-01-01T00:00:00\",\"1843-01-01T00:00:00\",\"1844-01-01T00:00:00\",\"1845-01-01T00:00:00\",\"1846-01-01T00:00:00\",\"1847-01-01T00:00:00\",\"1848-01-01T00:00:00\",\"1849-01-01T00:00:00\",\"1850-01-01T00:00:00\",\"1851-01-01T00:00:00\",\"1852-01-01T00:00:00\",\"1853-01-01T00:00:00\",\"1854-01-01T00:00:00\",\"1855-01-01T00:00:00\",\"1856-01-01T00:00:00\",\"1857-01-01T00:00:00\",\"1858-01-01T00:00:00\",\"1859-01-01T00:00:00\",\"1860-01-01T00:00:00\",\"1861-01-01T00:00:00\",\"1862-01-01T00:00:00\",\"1863-01-01T00:00:00\",\"1864-01-01T00:00:00\",\"1865-01-01T00:00:00\",\"1866-01-01T00:00:00\",\"1867-01-01T00:00:00\",\"1868-01-01T00:00:00\",\"1869-01-01T00:00:00\",\"1870-01-01T00:00:00\",\"1871-01-01T00:00:00\",\"1872-01-01T00:00:00\",\"1873-01-01T00:00:00\",\"1874-01-01T00:00:00\",\"1875-01-01T00:00:00\",\"1876-01-01T00:00:00\",\"1877-01-01T00:00:00\",\"1878-01-01T00:00:00\",\"1879-01-01T00:00:00\",\"1880-01-01T00:00:00\",\"1881-01-01T00:00:00\",\"1882-01-01T00:00:00\",\"1883-01-01T00:00:00\",\"1884-01-01T00:00:00\",\"1885-01-01T00:00:00\",\"1886-01-01T00:00:00\",\"1887-01-01T00:00:00\",\"1888-01-01T00:00:00\",\"1889-01-01T00:00:00\",\"1890-01-01T00:00:00\",\"1891-01-01T00:00:00\",\"1892-01-01T00:00:00\",\"1893-01-01T00:00:00\",\"1894-01-01T00:00:00\",\"1895-01-01T00:00:00\",\"1896-01-01T00:00:00\",\"1897-01-01T00:00:00\",\"1898-01-01T00:00:00\",\"1899-01-01T00:00:00\",\"1900-01-01T00:00:00\",\"1901-01-01T00:00:00\",\"1902-01-01T00:00:00\",\"1903-01-01T00:00:00\",\"1904-01-01T00:00:00\",\"1905-01-01T00:00:00\",\"1906-01-01T00:00:00\",\"1907-01-01T00:00:00\",\"1908-01-01T00:00:00\",\"1909-01-01T00:00:00\",\"1910-01-01T00:00:00\",\"1911-01-01T00:00:00\",\"1912-01-01T00:00:00\",\"1913-01-01T00:00:00\",\"1914-01-01T00:00:00\",\"1915-01-01T00:00:00\",\"1916-01-01T00:00:00\",\"1917-01-01T00:00:00\",\"1918-01-01T00:00:00\",\"1919-01-01T00:00:00\",\"1920-01-01T00:00:00\",\"1921-01-01T00:00:00\",\"1922-01-01T00:00:00\",\"1923-01-01T00:00:00\",\"1924-01-01T00:00:00\",\"1925-01-01T00:00:00\",\"1926-01-01T00:00:00\",\"1927-01-01T00:00:00\",\"1928-01-01T00:00:00\",\"1929-01-01T00:00:00\",\"1930-01-01T00:00:00\",\"1931-01-01T00:00:00\",\"1932-01-01T00:00:00\",\"1933-01-01T00:00:00\",\"1934-01-01T00:00:00\",\"1935-01-01T00:00:00\",\"1936-01-01T00:00:00\",\"1937-01-01T00:00:00\",\"1938-01-01T00:00:00\",\"1939-01-01T00:00:00\",\"1940-01-01T00:00:00\",\"1941-01-01T00:00:00\",\"1942-01-01T00:00:00\",\"1943-01-01T00:00:00\",\"1944-01-01T00:00:00\",\"1945-01-01T00:00:00\",\"1946-01-01T00:00:00\",\"1947-01-01T00:00:00\",\"1948-01-01T00:00:00\",\"1949-01-01T00:00:00\",\"1950-01-01T00:00:00\",\"1951-01-01T00:00:00\",\"1952-01-01T00:00:00\",\"1953-01-01T00:00:00\",\"1954-01-01T00:00:00\",\"1955-01-01T00:00:00\",\"1956-01-01T00:00:00\",\"1957-01-01T00:00:00\",\"1958-01-01T00:00:00\",\"1959-01-01T00:00:00\",\"1960-01-01T00:00:00\",\"1961-01-01T00:00:00\",\"1962-01-01T00:00:00\",\"1963-01-01T00:00:00\",\"1964-01-01T00:00:00\",\"1965-01-01T00:00:00\",\"1966-01-01T00:00:00\",\"1967-01-01T00:00:00\",\"1968-01-01T00:00:00\",\"1969-01-01T00:00:00\",\"1970-01-01T00:00:00\",\"1971-01-01T00:00:00\",\"1972-01-01T00:00:00\",\"1973-01-01T00:00:00\",\"1974-01-01T00:00:00\",\"1975-01-01T00:00:00\",\"1976-01-01T00:00:00\",\"1977-01-01T00:00:00\",\"1978-01-01T00:00:00\",\"1979-01-01T00:00:00\",\"1980-01-01T00:00:00\",\"1981-01-01T00:00:00\",\"1982-01-01T00:00:00\",\"1983-01-01T00:00:00\",\"1984-01-01T00:00:00\",\"1985-01-01T00:00:00\",\"1986-01-01T00:00:00\",\"1987-01-01T00:00:00\",\"1988-01-01T00:00:00\",\"1989-01-01T00:00:00\",\"1990-01-01T00:00:00\",\"1991-01-01T00:00:00\",\"1992-01-01T00:00:00\",\"1993-01-01T00:00:00\",\"1994-01-01T00:00:00\",\"1995-01-01T00:00:00\",\"1996-01-01T00:00:00\",\"1997-01-01T00:00:00\",\"1998-01-01T00:00:00\",\"1999-01-01T00:00:00\",\"2000-01-01T00:00:00\",\"2001-01-01T00:00:00\",\"2002-01-01T00:00:00\",\"2003-01-01T00:00:00\",\"2004-01-01T00:00:00\",\"2005-01-01T00:00:00\",\"2006-01-01T00:00:00\",\"2007-01-01T00:00:00\",\"2008-01-01T00:00:00\",\"2009-01-01T00:00:00\",\"2010-01-01T00:00:00\",\"2011-01-01T00:00:00\",\"2012-01-01T00:00:00\",\"2013-01-01T00:00:00\",\"2014-01-01T00:00:00\",\"2015-01-01T00:00:00\",\"2016-01-01T00:00:00\",\"2017-01-01T00:00:00\"],\"xaxis\":\"x4\",\"y\":[9350528.0,9354192.0,9354192.0,9357856.0,9361520.0,10006384.0,10010048.0,10013712.0,10017376.0,10017376.0,10973680.0,10977344.0,10981008.0,10984672.0,10988336.0,12259744.0,12263408.0,12267072.0,12270736.0,12274400.0,13611760.0,13615424.0,13619088.0,13622752.0,13626416.0,15037056.0,15040720.0,15044384.0,15048048.0,15055376.0,16843408.0,16847072.0,16854400.0,16858064.0,16865392.0,19148064.0,19155392.0,19159056.0,19166384.0,19173712.0,21416080.0,21892400.0,21910720.0,21877744.0,21888736.0,22947632.0,24090800.0,25091072.0,26424768.0,27835408.0,27688848.0,36489776.0,31187968.0,33972608.0,33074928.0,34709072.0,36493440.0,34668768.0,34683424.0,36958768.0,39131520.0,40520176.0,40696048.0,41564416.0,42883456.0,46998128.0,48709216.0,48859440.0,49181872.0,49892688.0,50603504.0,52596720.0,55645168.0,57506480.0,59616944.0,60100592.0,64464416.0,65039664.0,64596320.0,87012672.0,82238480.0,82069936.0,83257072.0,85100064.0,86125984.0,100041856.0,99382336.0,103009696.0,106091120.0,113052720.0,116401616.0,122582784.0,125085296.0,132112848.0,144002528.0,145057760.0,157299184.0,156991408.0,165242736.0,176930896.0,174102288.0,180675504.0,186944608.0,221855200.0,221510784.0,237075456.0,238618000.0,241380656.0,254527088.0,281222992.0,299729856.0,304364816.0,320523056.0,345833968.0,370456048.0,381195232.0,399071888.0,403904704.0,422254016.0,428043136.0,455197040.0,491866352.0,518118912.0,479229216.0,528517344.0,539527664.0,538179312.0,541612480.0,559170368.0,628522560.0,644904304.0,666642816.0,703337776.0,698479312.0,699567520.0,698486640.0,724768512.0,768190576.0,803698400.0,838861808.0,866898736.0,851674816.0,822406784.0,894664528.0,914475776.0,957289616.0,1000880224.0,1028807232.0,1091091568.0,1139423392.0,1127108688.0,1130270720.0,1180588432.0,1196512176.0,1241059088.0,1273580752.0,1410390848.0,1433594960.0,1430275376.0,1451907632.0,1484356016.0,1530478448.0,1654559808.0,1476317200.0,1403520848.0,1465365504.0,1446228432.0,1359285376.0,1151056592.0,1341837408.0,1219500112.0,1355848544.0,1289350608.0,1487444768.0,1472638544.0,1233628496.0,1577795344.0,1574607664.0,1709930176.0,1575457712.0,1434228832.0,1300800608.0,1324151280.0,1425918880.0,1477445712.0,1546028464.0,1697941568.0,1689536352.0,1732987728.0,1795004592.0,1771675904.0,1794586896.0,1792022096.0,1583709040.0,904769840.0,1282945936.0,1455410416.0,1573904176.0,1694632976.0,1774434896.0,1972686608.0,2011110976.0,2049143296.0,2157341216.0,2312024304.0,2433441936.0,2486137584.0,2452384816.0,3800399532.84,4033186016.82,4178509390.0,4413208764.72,4721340811.3,4935342512.02,5082453436.7,5228874615.42,5340526792.57,5590683702.940001,5902285169.4,6216080148.95,6441731187.47,6666991859.849999,6968994282.19,6988166356.26,7019568644.11,7414575440.5,7468773884.08,7708333209.87,7898558694.64,7905419910.17,7626480923.06,7565498802.69,7569730578.1,7623724525.97,7941037720.49,7962952200.45,8126546075.92,8174931466.91,8160732754.77,8216736608.059999,7939866091.78,7124720706.51,6832387486.3,6472833840.72,6457517528.02,6503041991.45,6302038803.64,6263356500.43,6177747755.41,6178612183.45,6317057000.5,6278269176.37,6422936771.94,6452923359.3,6453511916.66,6545993556.54,6499376726.71,6425816013.99,5913110100.51,6141921658.190001,6066541486.99,6012399807.53,5858431598.01,5638855131.75,5645916526.55,5638050062.47,5685241708.29],\"yaxis\":\"y4\",\"type\":\"scatter\"},{\"hovertemplate\":\"Region=Oceania<br>Year=%{x}<br>CO\\u2082 Emission=%{y}<extra></extra>\",\"legendgroup\":\"Oceania\",\"line\":{\"color\":\"#FFA15A\"},\"marker\":{\"symbol\":\"circle\"},\"mode\":\"lines\",\"name\":\"Oceania\",\"orientation\":\"v\",\"showlegend\":true,\"stackgroup\":\"1\",\"x\":[\"1860-01-01T00:00:00\",\"1861-01-01T00:00:00\",\"1862-01-01T00:00:00\",\"1863-01-01T00:00:00\",\"1864-01-01T00:00:00\",\"1865-01-01T00:00:00\",\"1866-01-01T00:00:00\",\"1867-01-01T00:00:00\",\"1868-01-01T00:00:00\",\"1869-01-01T00:00:00\",\"1870-01-01T00:00:00\",\"1871-01-01T00:00:00\",\"1872-01-01T00:00:00\",\"1873-01-01T00:00:00\",\"1874-01-01T00:00:00\",\"1875-01-01T00:00:00\",\"1876-01-01T00:00:00\",\"1877-01-01T00:00:00\",\"1878-01-01T00:00:00\",\"1879-01-01T00:00:00\",\"1880-01-01T00:00:00\",\"1881-01-01T00:00:00\",\"1882-01-01T00:00:00\",\"1883-01-01T00:00:00\",\"1884-01-01T00:00:00\",\"1885-01-01T00:00:00\",\"1886-01-01T00:00:00\",\"1887-01-01T00:00:00\",\"1888-01-01T00:00:00\",\"1889-01-01T00:00:00\",\"1890-01-01T00:00:00\",\"1891-01-01T00:00:00\",\"1892-01-01T00:00:00\",\"1893-01-01T00:00:00\",\"1894-01-01T00:00:00\",\"1895-01-01T00:00:00\",\"1896-01-01T00:00:00\",\"1897-01-01T00:00:00\",\"1898-01-01T00:00:00\",\"1899-01-01T00:00:00\",\"1900-01-01T00:00:00\",\"1901-01-01T00:00:00\",\"1902-01-01T00:00:00\",\"1903-01-01T00:00:00\",\"1904-01-01T00:00:00\",\"1905-01-01T00:00:00\",\"1906-01-01T00:00:00\",\"1907-01-01T00:00:00\",\"1908-01-01T00:00:00\",\"1909-01-01T00:00:00\",\"1910-01-01T00:00:00\",\"1911-01-01T00:00:00\",\"1912-01-01T00:00:00\",\"1913-01-01T00:00:00\",\"1914-01-01T00:00:00\",\"1915-01-01T00:00:00\",\"1916-01-01T00:00:00\",\"1917-01-01T00:00:00\",\"1918-01-01T00:00:00\",\"1919-01-01T00:00:00\",\"1920-01-01T00:00:00\",\"1921-01-01T00:00:00\",\"1922-01-01T00:00:00\",\"1923-01-01T00:00:00\",\"1924-01-01T00:00:00\",\"1925-01-01T00:00:00\",\"1926-01-01T00:00:00\",\"1927-01-01T00:00:00\",\"1928-01-01T00:00:00\",\"1929-01-01T00:00:00\",\"1930-01-01T00:00:00\",\"1931-01-01T00:00:00\",\"1932-01-01T00:00:00\",\"1933-01-01T00:00:00\",\"1934-01-01T00:00:00\",\"1935-01-01T00:00:00\",\"1936-01-01T00:00:00\",\"1937-01-01T00:00:00\",\"1938-01-01T00:00:00\",\"1939-01-01T00:00:00\",\"1940-01-01T00:00:00\",\"1941-01-01T00:00:00\",\"1942-01-01T00:00:00\",\"1943-01-01T00:00:00\",\"1944-01-01T00:00:00\",\"1945-01-01T00:00:00\",\"1946-01-01T00:00:00\",\"1947-01-01T00:00:00\",\"1948-01-01T00:00:00\",\"1949-01-01T00:00:00\",\"1950-01-01T00:00:00\",\"1951-01-01T00:00:00\",\"1952-01-01T00:00:00\",\"1953-01-01T00:00:00\",\"1954-01-01T00:00:00\",\"1955-01-01T00:00:00\",\"1956-01-01T00:00:00\",\"1957-01-01T00:00:00\",\"1958-01-01T00:00:00\",\"1959-01-01T00:00:00\",\"1960-01-01T00:00:00\",\"1961-01-01T00:00:00\",\"1962-01-01T00:00:00\",\"1963-01-01T00:00:00\",\"1964-01-01T00:00:00\",\"1965-01-01T00:00:00\",\"1966-01-01T00:00:00\",\"1967-01-01T00:00:00\",\"1968-01-01T00:00:00\",\"1969-01-01T00:00:00\",\"1970-01-01T00:00:00\",\"1971-01-01T00:00:00\",\"1972-01-01T00:00:00\",\"1973-01-01T00:00:00\",\"1974-01-01T00:00:00\",\"1975-01-01T00:00:00\",\"1976-01-01T00:00:00\",\"1977-01-01T00:00:00\",\"1978-01-01T00:00:00\",\"1979-01-01T00:00:00\",\"1980-01-01T00:00:00\",\"1981-01-01T00:00:00\",\"1982-01-01T00:00:00\",\"1983-01-01T00:00:00\",\"1984-01-01T00:00:00\",\"1985-01-01T00:00:00\",\"1986-01-01T00:00:00\",\"1987-01-01T00:00:00\",\"1988-01-01T00:00:00\",\"1989-01-01T00:00:00\",\"1990-01-01T00:00:00\",\"1991-01-01T00:00:00\",\"1992-01-01T00:00:00\",\"1993-01-01T00:00:00\",\"1994-01-01T00:00:00\",\"1995-01-01T00:00:00\",\"1996-01-01T00:00:00\",\"1997-01-01T00:00:00\",\"1998-01-01T00:00:00\",\"1999-01-01T00:00:00\",\"2000-01-01T00:00:00\",\"2001-01-01T00:00:00\",\"2002-01-01T00:00:00\",\"2003-01-01T00:00:00\",\"2004-01-01T00:00:00\",\"2005-01-01T00:00:00\",\"2006-01-01T00:00:00\",\"2007-01-01T00:00:00\",\"2008-01-01T00:00:00\",\"2009-01-01T00:00:00\",\"2010-01-01T00:00:00\",\"2011-01-01T00:00:00\",\"2012-01-01T00:00:00\",\"2013-01-01T00:00:00\",\"2014-01-01T00:00:00\",\"2015-01-01T00:00:00\",\"2016-01-01T00:00:00\",\"2017-01-01T00:00:00\"],\"xaxis\":\"x5\",\"y\":[278464.0,509296.0,355408.0,399376.0,267472.0,421360.0,696160.0,894016.0,732800.0,641200.0,600896.0,692496.0,707152.0,868368.0,890352.0,828064.0,930656.0,1066224.0,1322704.0,1960240.0,2861584.0,2502512.0,2839600.0,3352560.0,3631024.0,4034064.0,4067040.0,4272224.0,4891440.0,4737552.0,4968384.0,5499664.0,5653552.0,5506992.0,5968656.0,6214144.0,6272768.0,6851680.0,7635776.0,7961872.0,12607824.0,14179680.0,14436160.0,14388528.0,14978432.0,15586656.0,18221072.0,19562096.0,20906784.0,18818304.0,22339408.0,23848976.0,25648000.0,26604304.0,29561152.0,26725216.0,24310640.0,25376864.0,27483664.0,25867840.0,29290016.0,26651936.0,27905024.0,28685456.0,31059728.0,32323808.0,32125952.0,33390032.0,31004768.0,28549888.0,26897424.0,23786688.0,23881952.0,25127712.0,26681248.0,29381616.0,31228272.0,33239808.0,32283504.0,36607024.0,33800400.0,39549216.0,41601056.0,40362624.0,39681120.0,38318112.0,40956192.0,43469696.0,43927696.0,43260848.0,63720624.0,67692400.0,70260864.0,68674352.0,77709776.0,81161264.0,84286656.0,86309184.0,88958256.0,95053306.73,100973379.82,103676995.79,107208883.78,114488152.34,124048755.64,136725214.99,136762211.60999998,145474846.93,151161137.23999998,159429091.46,165902428.57,172239894.27999997,177840978.83,194372951.17000002,196851477.88,199567638.54999998,198605551.07000002,213361047.26,224714335.26,226617658.66,243669821.89,252242540.81,257304256.68,247871226.51999998,260668529.91,268347040.74,268074639.28,285627976.28000003,291944221.62,308625707.86,309661027.34999996,311753117.42999995,318776306.06,322924195.43,328236042.81,339887814.77000004,348387716.72,358837238.81,371557147.6,382441837.34,389939750.12,400209375.87,405600115.18,415869706.84999996,429541637.46999997,434446515.5,440440711.9,449326957.32,453326664.59999996,454486139.71,453387079.81,450725694.67,454955300.3,447049279.82,442998969.51,453824324.27,463709148.08,466011112.76],\"yaxis\":\"y5\",\"type\":\"scatter\"}],                        {\"template\":{\"data\":{\"bar\":[{\"error_x\":{\"color\":\"#2a3f5f\"},\"error_y\":{\"color\":\"#2a3f5f\"},\"marker\":{\"line\":{\"color\":\"#E5ECF6\",\"width\":0.5},\"pattern\":{\"fillmode\":\"overlay\",\"size\":10,\"solidity\":0.2}},\"type\":\"bar\"}],\"barpolar\":[{\"marker\":{\"line\":{\"color\":\"#E5ECF6\",\"width\":0.5},\"pattern\":{\"fillmode\":\"overlay\",\"size\":10,\"solidity\":0.2}},\"type\":\"barpolar\"}],\"carpet\":[{\"aaxis\":{\"endlinecolor\":\"#2a3f5f\",\"gridcolor\":\"white\",\"linecolor\":\"white\",\"minorgridcolor\":\"white\",\"startlinecolor\":\"#2a3f5f\"},\"baxis\":{\"endlinecolor\":\"#2a3f5f\",\"gridcolor\":\"white\",\"linecolor\":\"white\",\"minorgridcolor\":\"white\",\"startlinecolor\":\"#2a3f5f\"},\"type\":\"carpet\"}],\"choropleth\":[{\"colorbar\":{\"outlinewidth\":0,\"ticks\":\"\"},\"type\":\"choropleth\"}],\"contour\":[{\"colorbar\":{\"outlinewidth\":0,\"ticks\":\"\"},\"colorscale\":[[0.0,\"#0d0887\"],[0.1111111111111111,\"#46039f\"],[0.2222222222222222,\"#7201a8\"],[0.3333333333333333,\"#9c179e\"],[0.4444444444444444,\"#bd3786\"],[0.5555555555555556,\"#d8576b\"],[0.6666666666666666,\"#ed7953\"],[0.7777777777777778,\"#fb9f3a\"],[0.8888888888888888,\"#fdca26\"],[1.0,\"#f0f921\"]],\"type\":\"contour\"}],\"contourcarpet\":[{\"colorbar\":{\"outlinewidth\":0,\"ticks\":\"\"},\"type\":\"contourcarpet\"}],\"heatmap\":[{\"colorbar\":{\"outlinewidth\":0,\"ticks\":\"\"},\"colorscale\":[[0.0,\"#0d0887\"],[0.1111111111111111,\"#46039f\"],[0.2222222222222222,\"#7201a8\"],[0.3333333333333333,\"#9c179e\"],[0.4444444444444444,\"#bd3786\"],[0.5555555555555556,\"#d8576b\"],[0.6666666666666666,\"#ed7953\"],[0.7777777777777778,\"#fb9f3a\"],[0.8888888888888888,\"#fdca26\"],[1.0,\"#f0f921\"]],\"type\":\"heatmap\"}],\"heatmapgl\":[{\"colorbar\":{\"outlinewidth\":0,\"ticks\":\"\"},\"colorscale\":[[0.0,\"#0d0887\"],[0.1111111111111111,\"#46039f\"],[0.2222222222222222,\"#7201a8\"],[0.3333333333333333,\"#9c179e\"],[0.4444444444444444,\"#bd3786\"],[0.5555555555555556,\"#d8576b\"],[0.6666666666666666,\"#ed7953\"],[0.7777777777777778,\"#fb9f3a\"],[0.8888888888888888,\"#fdca26\"],[1.0,\"#f0f921\"]],\"type\":\"heatmapgl\"}],\"histogram\":[{\"marker\":{\"pattern\":{\"fillmode\":\"overlay\",\"size\":10,\"solidity\":0.2}},\"type\":\"histogram\"}],\"histogram2d\":[{\"colorbar\":{\"outlinewidth\":0,\"ticks\":\"\"},\"colorscale\":[[0.0,\"#0d0887\"],[0.1111111111111111,\"#46039f\"],[0.2222222222222222,\"#7201a8\"],[0.3333333333333333,\"#9c179e\"],[0.4444444444444444,\"#bd3786\"],[0.5555555555555556,\"#d8576b\"],[0.6666666666666666,\"#ed7953\"],[0.7777777777777778,\"#fb9f3a\"],[0.8888888888888888,\"#fdca26\"],[1.0,\"#f0f921\"]],\"type\":\"histogram2d\"}],\"histogram2dcontour\":[{\"colorbar\":{\"outlinewidth\":0,\"ticks\":\"\"},\"colorscale\":[[0.0,\"#0d0887\"],[0.1111111111111111,\"#46039f\"],[0.2222222222222222,\"#7201a8\"],[0.3333333333333333,\"#9c179e\"],[0.4444444444444444,\"#bd3786\"],[0.5555555555555556,\"#d8576b\"],[0.6666666666666666,\"#ed7953\"],[0.7777777777777778,\"#fb9f3a\"],[0.8888888888888888,\"#fdca26\"],[1.0,\"#f0f921\"]],\"type\":\"histogram2dcontour\"}],\"mesh3d\":[{\"colorbar\":{\"outlinewidth\":0,\"ticks\":\"\"},\"type\":\"mesh3d\"}],\"parcoords\":[{\"line\":{\"colorbar\":{\"outlinewidth\":0,\"ticks\":\"\"}},\"type\":\"parcoords\"}],\"pie\":[{\"automargin\":true,\"type\":\"pie\"}],\"scatter\":[{\"marker\":{\"colorbar\":{\"outlinewidth\":0,\"ticks\":\"\"}},\"type\":\"scatter\"}],\"scatter3d\":[{\"line\":{\"colorbar\":{\"outlinewidth\":0,\"ticks\":\"\"}},\"marker\":{\"colorbar\":{\"outlinewidth\":0,\"ticks\":\"\"}},\"type\":\"scatter3d\"}],\"scattercarpet\":[{\"marker\":{\"colorbar\":{\"outlinewidth\":0,\"ticks\":\"\"}},\"type\":\"scattercarpet\"}],\"scattergeo\":[{\"marker\":{\"colorbar\":{\"outlinewidth\":0,\"ticks\":\"\"}},\"type\":\"scattergeo\"}],\"scattergl\":[{\"marker\":{\"colorbar\":{\"outlinewidth\":0,\"ticks\":\"\"}},\"type\":\"scattergl\"}],\"scattermapbox\":[{\"marker\":{\"colorbar\":{\"outlinewidth\":0,\"ticks\":\"\"}},\"type\":\"scattermapbox\"}],\"scatterpolar\":[{\"marker\":{\"colorbar\":{\"outlinewidth\":0,\"ticks\":\"\"}},\"type\":\"scatterpolar\"}],\"scatterpolargl\":[{\"marker\":{\"colorbar\":{\"outlinewidth\":0,\"ticks\":\"\"}},\"type\":\"scatterpolargl\"}],\"scatterternary\":[{\"marker\":{\"colorbar\":{\"outlinewidth\":0,\"ticks\":\"\"}},\"type\":\"scatterternary\"}],\"surface\":[{\"colorbar\":{\"outlinewidth\":0,\"ticks\":\"\"},\"colorscale\":[[0.0,\"#0d0887\"],[0.1111111111111111,\"#46039f\"],[0.2222222222222222,\"#7201a8\"],[0.3333333333333333,\"#9c179e\"],[0.4444444444444444,\"#bd3786\"],[0.5555555555555556,\"#d8576b\"],[0.6666666666666666,\"#ed7953\"],[0.7777777777777778,\"#fb9f3a\"],[0.8888888888888888,\"#fdca26\"],[1.0,\"#f0f921\"]],\"type\":\"surface\"}],\"table\":[{\"cells\":{\"fill\":{\"color\":\"#EBF0F8\"},\"line\":{\"color\":\"white\"}},\"header\":{\"fill\":{\"color\":\"#C8D4E3\"},\"line\":{\"color\":\"white\"}},\"type\":\"table\"}]},\"layout\":{\"annotationdefaults\":{\"arrowcolor\":\"#2a3f5f\",\"arrowhead\":0,\"arrowwidth\":1},\"autotypenumbers\":\"strict\",\"coloraxis\":{\"colorbar\":{\"outlinewidth\":0,\"ticks\":\"\"}},\"colorscale\":{\"diverging\":[[0,\"#8e0152\"],[0.1,\"#c51b7d\"],[0.2,\"#de77ae\"],[0.3,\"#f1b6da\"],[0.4,\"#fde0ef\"],[0.5,\"#f7f7f7\"],[0.6,\"#e6f5d0\"],[0.7,\"#b8e186\"],[0.8,\"#7fbc41\"],[0.9,\"#4d9221\"],[1,\"#276419\"]],\"sequential\":[[0.0,\"#0d0887\"],[0.1111111111111111,\"#46039f\"],[0.2222222222222222,\"#7201a8\"],[0.3333333333333333,\"#9c179e\"],[0.4444444444444444,\"#bd3786\"],[0.5555555555555556,\"#d8576b\"],[0.6666666666666666,\"#ed7953\"],[0.7777777777777778,\"#fb9f3a\"],[0.8888888888888888,\"#fdca26\"],[1.0,\"#f0f921\"]],\"sequentialminus\":[[0.0,\"#0d0887\"],[0.1111111111111111,\"#46039f\"],[0.2222222222222222,\"#7201a8\"],[0.3333333333333333,\"#9c179e\"],[0.4444444444444444,\"#bd3786\"],[0.5555555555555556,\"#d8576b\"],[0.6666666666666666,\"#ed7953\"],[0.7777777777777778,\"#fb9f3a\"],[0.8888888888888888,\"#fdca26\"],[1.0,\"#f0f921\"]]},\"colorway\":[\"#636efa\",\"#EF553B\",\"#00cc96\",\"#ab63fa\",\"#FFA15A\",\"#19d3f3\",\"#FF6692\",\"#B6E880\",\"#FF97FF\",\"#FECB52\"],\"font\":{\"color\":\"#2a3f5f\"},\"geo\":{\"bgcolor\":\"white\",\"lakecolor\":\"white\",\"landcolor\":\"#E5ECF6\",\"showlakes\":true,\"showland\":true,\"subunitcolor\":\"white\"},\"hoverlabel\":{\"align\":\"left\"},\"hovermode\":\"closest\",\"mapbox\":{\"style\":\"light\"},\"paper_bgcolor\":\"white\",\"plot_bgcolor\":\"#E5ECF6\",\"polar\":{\"angularaxis\":{\"gridcolor\":\"white\",\"linecolor\":\"white\",\"ticks\":\"\"},\"bgcolor\":\"#E5ECF6\",\"radialaxis\":{\"gridcolor\":\"white\",\"linecolor\":\"white\",\"ticks\":\"\"}},\"scene\":{\"xaxis\":{\"backgroundcolor\":\"#E5ECF6\",\"gridcolor\":\"white\",\"gridwidth\":2,\"linecolor\":\"white\",\"showbackground\":true,\"ticks\":\"\",\"zerolinecolor\":\"white\"},\"yaxis\":{\"backgroundcolor\":\"#E5ECF6\",\"gridcolor\":\"white\",\"gridwidth\":2,\"linecolor\":\"white\",\"showbackground\":true,\"ticks\":\"\",\"zerolinecolor\":\"white\"},\"zaxis\":{\"backgroundcolor\":\"#E5ECF6\",\"gridcolor\":\"white\",\"gridwidth\":2,\"linecolor\":\"white\",\"showbackground\":true,\"ticks\":\"\",\"zerolinecolor\":\"white\"}},\"shapedefaults\":{\"line\":{\"color\":\"#2a3f5f\"}},\"ternary\":{\"aaxis\":{\"gridcolor\":\"white\",\"linecolor\":\"white\",\"ticks\":\"\"},\"baxis\":{\"gridcolor\":\"white\",\"linecolor\":\"white\",\"ticks\":\"\"},\"bgcolor\":\"#E5ECF6\",\"caxis\":{\"gridcolor\":\"white\",\"linecolor\":\"white\",\"ticks\":\"\"}},\"title\":{\"x\":0.05},\"xaxis\":{\"automargin\":true,\"gridcolor\":\"white\",\"linecolor\":\"white\",\"ticks\":\"\",\"title\":{\"standoff\":15},\"zerolinecolor\":\"white\",\"zerolinewidth\":2},\"yaxis\":{\"automargin\":true,\"gridcolor\":\"white\",\"linecolor\":\"white\",\"ticks\":\"\",\"title\":{\"standoff\":15},\"zerolinecolor\":\"white\",\"zerolinewidth\":2}}},\"xaxis\":{\"anchor\":\"y\",\"domain\":[0.0,0.18400000000000002],\"title\":{\"text\":\"Year\"}},\"yaxis\":{\"anchor\":\"x\",\"domain\":[0.0,1.0],\"title\":{\"text\":\"CO\\u2082 Emission\"}},\"xaxis2\":{\"anchor\":\"y2\",\"domain\":[0.20400000000000001,0.388],\"matches\":\"x\",\"title\":{\"text\":\"Year\"}},\"yaxis2\":{\"anchor\":\"x2\",\"domain\":[0.0,1.0],\"matches\":\"y\",\"showticklabels\":false},\"xaxis3\":{\"anchor\":\"y3\",\"domain\":[0.40800000000000003,0.5920000000000001],\"matches\":\"x\",\"title\":{\"text\":\"Year\"}},\"yaxis3\":{\"anchor\":\"x3\",\"domain\":[0.0,1.0],\"matches\":\"y\",\"showticklabels\":false},\"xaxis4\":{\"anchor\":\"y4\",\"domain\":[0.6120000000000001,0.7960000000000002],\"matches\":\"x\",\"title\":{\"text\":\"Year\"}},\"yaxis4\":{\"anchor\":\"x4\",\"domain\":[0.0,1.0],\"matches\":\"y\",\"showticklabels\":false},\"xaxis5\":{\"anchor\":\"y5\",\"domain\":[0.8160000000000001,1.0],\"matches\":\"x\",\"title\":{\"text\":\"Year\"}},\"yaxis5\":{\"anchor\":\"x5\",\"domain\":[0.0,1.0],\"matches\":\"y\",\"showticklabels\":false},\"annotations\":[{\"font\":{},\"showarrow\":false,\"text\":\"Region=Africa\",\"x\":0.09200000000000001,\"xanchor\":\"center\",\"xref\":\"paper\",\"y\":1.0,\"yanchor\":\"bottom\",\"yref\":\"paper\"},{\"font\":{},\"showarrow\":false,\"text\":\"Region=Americas\",\"x\":0.29600000000000004,\"xanchor\":\"center\",\"xref\":\"paper\",\"y\":1.0,\"yanchor\":\"bottom\",\"yref\":\"paper\"},{\"font\":{},\"showarrow\":false,\"text\":\"Region=Asia\",\"x\":0.5,\"xanchor\":\"center\",\"xref\":\"paper\",\"y\":1.0,\"yanchor\":\"bottom\",\"yref\":\"paper\"},{\"font\":{},\"showarrow\":false,\"text\":\"Region=Europe\",\"x\":0.7040000000000002,\"xanchor\":\"center\",\"xref\":\"paper\",\"y\":1.0,\"yanchor\":\"bottom\",\"yref\":\"paper\"},{\"font\":{},\"showarrow\":false,\"text\":\"Region=Oceania\",\"x\":0.908,\"xanchor\":\"center\",\"xref\":\"paper\",\"y\":1.0,\"yanchor\":\"bottom\",\"yref\":\"paper\"}],\"legend\":{\"title\":{\"text\":\"Region\"},\"tracegroupgap\":0},\"margin\":{\"t\":60},\"height\":350,\"title\":{\"text\":\"Change in CO\\u2082 Emission Between Years 1750 and 2020 - Regions\",\"x\":0.5},\"showlegend\":false},                        {\"responsive\": true}                    ).then(function(){\n",
       "                            \n",
       "var gd = document.getElementById('06de9d1b-0386-4918-9987-2dbefc7858cb');\n",
       "var x = new MutationObserver(function (mutations, observer) {{\n",
       "        var display = window.getComputedStyle(gd).display;\n",
       "        if (!display || display === 'none') {{\n",
       "            console.log([gd, 'removed!']);\n",
       "            Plotly.purge(gd);\n",
       "            observer.disconnect();\n",
       "        }}\n",
       "}});\n",
       "\n",
       "// Listen for the removal of the full notebook cells\n",
       "var notebookContainer = gd.closest('#notebook-container');\n",
       "if (notebookContainer) {{\n",
       "    x.observe(notebookContainer, {childList: true});\n",
       "}}\n",
       "\n",
       "// Listen for the clearing of the current output cell\n",
       "var outputEl = gd.closest('.output');\n",
       "if (outputEl) {{\n",
       "    x.observe(outputEl, {childList: true});\n",
       "}}\n",
       "\n",
       "                        })                };                });            </script>        </div>"
      ]
     },
     "metadata": {},
     "output_type": "display_data"
    }
   ],
   "source": [
    "fig = px.area(df_reg,\n",
    "              x=\"Year\",\n",
    "              y=\"Annual CO₂ emissions (tonnes )\",\n",
    "              color=\"Region\",\n",
    "              facet_col=\"Region\",\n",
    "              facet_col_wrap=5,\n",
    "              labels={'Entity':'Country','Annual CO₂ emissions (tonnes )':'CO₂ Emission'},\n",
    "              height=350)\n",
    "fig.update_layout(title=\"Change in CO₂ Emission Between Years 1750 and 2020 - Regions\",\n",
    "                  title_x=0.50)\n",
    "fig.update_layout(showlegend = False)\n",
    "fig.show()"
   ]
  },
  {
   "cell_type": "code",
   "execution_count": 27,
   "metadata": {},
   "outputs": [
    {
     "data": {
      "text/html": [
       "<div>\n",
       "<style scoped>\n",
       "    .dataframe tbody tr th:only-of-type {\n",
       "        vertical-align: middle;\n",
       "    }\n",
       "\n",
       "    .dataframe tbody tr th {\n",
       "        vertical-align: top;\n",
       "    }\n",
       "\n",
       "    .dataframe thead th {\n",
       "        text-align: right;\n",
       "    }\n",
       "</style>\n",
       "<table border=\"1\" class=\"dataframe\">\n",
       "  <thead>\n",
       "    <tr style=\"text-align: right;\">\n",
       "      <th></th>\n",
       "      <th>Year</th>\n",
       "      <th>Annual CO₂ emissions (tonnes )</th>\n",
       "    </tr>\n",
       "  </thead>\n",
       "  <tbody>\n",
       "    <tr>\n",
       "      <th>0</th>\n",
       "      <td>1751-01-01</td>\n",
       "      <td>9350528.0</td>\n",
       "    </tr>\n",
       "    <tr>\n",
       "      <th>1</th>\n",
       "      <td>1752-01-01</td>\n",
       "      <td>9354192.0</td>\n",
       "    </tr>\n",
       "    <tr>\n",
       "      <th>2</th>\n",
       "      <td>1753-01-01</td>\n",
       "      <td>9354192.0</td>\n",
       "    </tr>\n",
       "    <tr>\n",
       "      <th>3</th>\n",
       "      <td>1754-01-01</td>\n",
       "      <td>9357856.0</td>\n",
       "    </tr>\n",
       "    <tr>\n",
       "      <th>4</th>\n",
       "      <td>1755-01-01</td>\n",
       "      <td>9361520.0</td>\n",
       "    </tr>\n",
       "  </tbody>\n",
       "</table>\n",
       "</div>"
      ],
      "text/plain": [
       "        Year  Annual CO₂ emissions (tonnes )\n",
       "0 1751-01-01                       9350528.0\n",
       "1 1752-01-01                       9354192.0\n",
       "2 1753-01-01                       9354192.0\n",
       "3 1754-01-01                       9357856.0\n",
       "4 1755-01-01                       9361520.0"
      ]
     },
     "execution_count": 27,
     "metadata": {},
     "output_type": "execute_result"
    }
   ],
   "source": [
    "total_year = df_combination.groupby(\"Year\")[\"Annual CO₂ emissions (tonnes )\"].sum()\n",
    "df_total_year = pd.DataFrame(total_year)\n",
    "df_total_year.reset_index(level=0, inplace=True)\n",
    "df_total_year.head()"
   ]
  },
  {
   "cell_type": "code",
   "execution_count": 28,
   "metadata": {},
   "outputs": [
    {
     "data": {
      "application/vnd.plotly.v1+json": {
       "config": {
        "plotlyServerURL": "https://plot.ly"
       },
       "data": [
        {
         "hovertemplate": "<b>%{hovertext}</b><br><br>Year=%{x}<br>CO₂ Emission=%{y}<extra></extra>",
         "hovertext": [
          "1751-01-01T00:00:00",
          "1752-01-01T00:00:00",
          "1753-01-01T00:00:00",
          "1754-01-01T00:00:00",
          "1755-01-01T00:00:00",
          "1756-01-01T00:00:00",
          "1757-01-01T00:00:00",
          "1758-01-01T00:00:00",
          "1759-01-01T00:00:00",
          "1760-01-01T00:00:00",
          "1761-01-01T00:00:00",
          "1762-01-01T00:00:00",
          "1763-01-01T00:00:00",
          "1764-01-01T00:00:00",
          "1765-01-01T00:00:00",
          "1766-01-01T00:00:00",
          "1767-01-01T00:00:00",
          "1768-01-01T00:00:00",
          "1769-01-01T00:00:00",
          "1770-01-01T00:00:00",
          "1771-01-01T00:00:00",
          "1772-01-01T00:00:00",
          "1773-01-01T00:00:00",
          "1774-01-01T00:00:00",
          "1775-01-01T00:00:00",
          "1776-01-01T00:00:00",
          "1777-01-01T00:00:00",
          "1778-01-01T00:00:00",
          "1779-01-01T00:00:00",
          "1780-01-01T00:00:00",
          "1781-01-01T00:00:00",
          "1782-01-01T00:00:00",
          "1783-01-01T00:00:00",
          "1784-01-01T00:00:00",
          "1785-01-01T00:00:00",
          "1786-01-01T00:00:00",
          "1787-01-01T00:00:00",
          "1788-01-01T00:00:00",
          "1789-01-01T00:00:00",
          "1790-01-01T00:00:00",
          "1791-01-01T00:00:00",
          "1792-01-01T00:00:00",
          "1793-01-01T00:00:00",
          "1794-01-01T00:00:00",
          "1795-01-01T00:00:00",
          "1796-01-01T00:00:00",
          "1797-01-01T00:00:00",
          "1798-01-01T00:00:00",
          "1799-01-01T00:00:00",
          "1800-01-01T00:00:00",
          "1801-01-01T00:00:00",
          "1802-01-01T00:00:00",
          "1803-01-01T00:00:00",
          "1804-01-01T00:00:00",
          "1805-01-01T00:00:00",
          "1806-01-01T00:00:00",
          "1807-01-01T00:00:00",
          "1808-01-01T00:00:00",
          "1809-01-01T00:00:00",
          "1810-01-01T00:00:00",
          "1811-01-01T00:00:00",
          "1812-01-01T00:00:00",
          "1813-01-01T00:00:00",
          "1814-01-01T00:00:00",
          "1815-01-01T00:00:00",
          "1816-01-01T00:00:00",
          "1817-01-01T00:00:00",
          "1818-01-01T00:00:00",
          "1819-01-01T00:00:00",
          "1820-01-01T00:00:00",
          "1821-01-01T00:00:00",
          "1822-01-01T00:00:00",
          "1823-01-01T00:00:00",
          "1824-01-01T00:00:00",
          "1825-01-01T00:00:00",
          "1826-01-01T00:00:00",
          "1827-01-01T00:00:00",
          "1828-01-01T00:00:00",
          "1829-01-01T00:00:00",
          "1830-01-01T00:00:00",
          "1831-01-01T00:00:00",
          "1832-01-01T00:00:00",
          "1833-01-01T00:00:00",
          "1834-01-01T00:00:00",
          "1835-01-01T00:00:00",
          "1836-01-01T00:00:00",
          "1837-01-01T00:00:00",
          "1838-01-01T00:00:00",
          "1839-01-01T00:00:00",
          "1840-01-01T00:00:00",
          "1841-01-01T00:00:00",
          "1842-01-01T00:00:00",
          "1843-01-01T00:00:00",
          "1844-01-01T00:00:00",
          "1845-01-01T00:00:00",
          "1846-01-01T00:00:00",
          "1847-01-01T00:00:00",
          "1848-01-01T00:00:00",
          "1849-01-01T00:00:00",
          "1850-01-01T00:00:00",
          "1851-01-01T00:00:00",
          "1852-01-01T00:00:00",
          "1853-01-01T00:00:00",
          "1854-01-01T00:00:00",
          "1855-01-01T00:00:00",
          "1856-01-01T00:00:00",
          "1857-01-01T00:00:00",
          "1858-01-01T00:00:00",
          "1859-01-01T00:00:00",
          "1860-01-01T00:00:00",
          "1861-01-01T00:00:00",
          "1862-01-01T00:00:00",
          "1863-01-01T00:00:00",
          "1864-01-01T00:00:00",
          "1865-01-01T00:00:00",
          "1866-01-01T00:00:00",
          "1867-01-01T00:00:00",
          "1868-01-01T00:00:00",
          "1869-01-01T00:00:00",
          "1870-01-01T00:00:00",
          "1871-01-01T00:00:00",
          "1872-01-01T00:00:00",
          "1873-01-01T00:00:00",
          "1874-01-01T00:00:00",
          "1875-01-01T00:00:00",
          "1876-01-01T00:00:00",
          "1877-01-01T00:00:00",
          "1878-01-01T00:00:00",
          "1879-01-01T00:00:00",
          "1880-01-01T00:00:00",
          "1881-01-01T00:00:00",
          "1882-01-01T00:00:00",
          "1883-01-01T00:00:00",
          "1884-01-01T00:00:00",
          "1885-01-01T00:00:00",
          "1886-01-01T00:00:00",
          "1887-01-01T00:00:00",
          "1888-01-01T00:00:00",
          "1889-01-01T00:00:00",
          "1890-01-01T00:00:00",
          "1891-01-01T00:00:00",
          "1892-01-01T00:00:00",
          "1893-01-01T00:00:00",
          "1894-01-01T00:00:00",
          "1895-01-01T00:00:00",
          "1896-01-01T00:00:00",
          "1897-01-01T00:00:00",
          "1898-01-01T00:00:00",
          "1899-01-01T00:00:00",
          "1900-01-01T00:00:00",
          "1901-01-01T00:00:00",
          "1902-01-01T00:00:00",
          "1903-01-01T00:00:00",
          "1904-01-01T00:00:00",
          "1905-01-01T00:00:00",
          "1906-01-01T00:00:00",
          "1907-01-01T00:00:00",
          "1908-01-01T00:00:00",
          "1909-01-01T00:00:00",
          "1910-01-01T00:00:00",
          "1911-01-01T00:00:00",
          "1912-01-01T00:00:00",
          "1913-01-01T00:00:00",
          "1914-01-01T00:00:00",
          "1915-01-01T00:00:00",
          "1916-01-01T00:00:00",
          "1917-01-01T00:00:00",
          "1918-01-01T00:00:00",
          "1919-01-01T00:00:00",
          "1920-01-01T00:00:00",
          "1921-01-01T00:00:00",
          "1922-01-01T00:00:00",
          "1923-01-01T00:00:00",
          "1924-01-01T00:00:00",
          "1925-01-01T00:00:00",
          "1926-01-01T00:00:00",
          "1927-01-01T00:00:00",
          "1928-01-01T00:00:00",
          "1929-01-01T00:00:00",
          "1930-01-01T00:00:00",
          "1931-01-01T00:00:00",
          "1932-01-01T00:00:00",
          "1933-01-01T00:00:00",
          "1934-01-01T00:00:00",
          "1935-01-01T00:00:00",
          "1936-01-01T00:00:00",
          "1937-01-01T00:00:00",
          "1938-01-01T00:00:00",
          "1939-01-01T00:00:00",
          "1940-01-01T00:00:00",
          "1941-01-01T00:00:00",
          "1942-01-01T00:00:00",
          "1943-01-01T00:00:00",
          "1944-01-01T00:00:00",
          "1945-01-01T00:00:00",
          "1946-01-01T00:00:00",
          "1947-01-01T00:00:00",
          "1948-01-01T00:00:00",
          "1949-01-01T00:00:00",
          "1950-01-01T00:00:00",
          "1951-01-01T00:00:00",
          "1952-01-01T00:00:00",
          "1953-01-01T00:00:00",
          "1954-01-01T00:00:00",
          "1955-01-01T00:00:00",
          "1956-01-01T00:00:00",
          "1957-01-01T00:00:00",
          "1958-01-01T00:00:00",
          "1959-01-01T00:00:00",
          "1960-01-01T00:00:00",
          "1961-01-01T00:00:00",
          "1962-01-01T00:00:00",
          "1963-01-01T00:00:00",
          "1964-01-01T00:00:00",
          "1965-01-01T00:00:00",
          "1966-01-01T00:00:00",
          "1967-01-01T00:00:00",
          "1968-01-01T00:00:00",
          "1969-01-01T00:00:00",
          "1970-01-01T00:00:00",
          "1971-01-01T00:00:00",
          "1972-01-01T00:00:00",
          "1973-01-01T00:00:00",
          "1974-01-01T00:00:00",
          "1975-01-01T00:00:00",
          "1976-01-01T00:00:00",
          "1977-01-01T00:00:00",
          "1978-01-01T00:00:00",
          "1979-01-01T00:00:00",
          "1980-01-01T00:00:00",
          "1981-01-01T00:00:00",
          "1982-01-01T00:00:00",
          "1983-01-01T00:00:00",
          "1984-01-01T00:00:00",
          "1985-01-01T00:00:00",
          "1986-01-01T00:00:00",
          "1987-01-01T00:00:00",
          "1988-01-01T00:00:00",
          "1989-01-01T00:00:00",
          "1990-01-01T00:00:00",
          "1991-01-01T00:00:00",
          "1992-01-01T00:00:00",
          "1993-01-01T00:00:00",
          "1994-01-01T00:00:00",
          "1995-01-01T00:00:00",
          "1996-01-01T00:00:00",
          "1997-01-01T00:00:00",
          "1998-01-01T00:00:00",
          "1999-01-01T00:00:00",
          "2000-01-01T00:00:00",
          "2001-01-01T00:00:00",
          "2002-01-01T00:00:00",
          "2003-01-01T00:00:00",
          "2004-01-01T00:00:00",
          "2005-01-01T00:00:00",
          "2006-01-01T00:00:00",
          "2007-01-01T00:00:00",
          "2008-01-01T00:00:00",
          "2009-01-01T00:00:00",
          "2010-01-01T00:00:00",
          "2011-01-01T00:00:00",
          "2012-01-01T00:00:00",
          "2013-01-01T00:00:00",
          "2014-01-01T00:00:00",
          "2015-01-01T00:00:00",
          "2016-01-01T00:00:00",
          "2017-01-01T00:00:00"
         ],
         "legendgroup": "",
         "line": {
          "color": "#636efa"
         },
         "marker": {
          "symbol": "circle"
         },
         "mode": "lines",
         "name": "",
         "orientation": "v",
         "showlegend": false,
         "stackgroup": "1",
         "type": "scatter",
         "x": [
          "1751-01-01T00:00:00",
          "1752-01-01T00:00:00",
          "1753-01-01T00:00:00",
          "1754-01-01T00:00:00",
          "1755-01-01T00:00:00",
          "1756-01-01T00:00:00",
          "1757-01-01T00:00:00",
          "1758-01-01T00:00:00",
          "1759-01-01T00:00:00",
          "1760-01-01T00:00:00",
          "1761-01-01T00:00:00",
          "1762-01-01T00:00:00",
          "1763-01-01T00:00:00",
          "1764-01-01T00:00:00",
          "1765-01-01T00:00:00",
          "1766-01-01T00:00:00",
          "1767-01-01T00:00:00",
          "1768-01-01T00:00:00",
          "1769-01-01T00:00:00",
          "1770-01-01T00:00:00",
          "1771-01-01T00:00:00",
          "1772-01-01T00:00:00",
          "1773-01-01T00:00:00",
          "1774-01-01T00:00:00",
          "1775-01-01T00:00:00",
          "1776-01-01T00:00:00",
          "1777-01-01T00:00:00",
          "1778-01-01T00:00:00",
          "1779-01-01T00:00:00",
          "1780-01-01T00:00:00",
          "1781-01-01T00:00:00",
          "1782-01-01T00:00:00",
          "1783-01-01T00:00:00",
          "1784-01-01T00:00:00",
          "1785-01-01T00:00:00",
          "1786-01-01T00:00:00",
          "1787-01-01T00:00:00",
          "1788-01-01T00:00:00",
          "1789-01-01T00:00:00",
          "1790-01-01T00:00:00",
          "1791-01-01T00:00:00",
          "1792-01-01T00:00:00",
          "1793-01-01T00:00:00",
          "1794-01-01T00:00:00",
          "1795-01-01T00:00:00",
          "1796-01-01T00:00:00",
          "1797-01-01T00:00:00",
          "1798-01-01T00:00:00",
          "1799-01-01T00:00:00",
          "1800-01-01T00:00:00",
          "1801-01-01T00:00:00",
          "1802-01-01T00:00:00",
          "1803-01-01T00:00:00",
          "1804-01-01T00:00:00",
          "1805-01-01T00:00:00",
          "1806-01-01T00:00:00",
          "1807-01-01T00:00:00",
          "1808-01-01T00:00:00",
          "1809-01-01T00:00:00",
          "1810-01-01T00:00:00",
          "1811-01-01T00:00:00",
          "1812-01-01T00:00:00",
          "1813-01-01T00:00:00",
          "1814-01-01T00:00:00",
          "1815-01-01T00:00:00",
          "1816-01-01T00:00:00",
          "1817-01-01T00:00:00",
          "1818-01-01T00:00:00",
          "1819-01-01T00:00:00",
          "1820-01-01T00:00:00",
          "1821-01-01T00:00:00",
          "1822-01-01T00:00:00",
          "1823-01-01T00:00:00",
          "1824-01-01T00:00:00",
          "1825-01-01T00:00:00",
          "1826-01-01T00:00:00",
          "1827-01-01T00:00:00",
          "1828-01-01T00:00:00",
          "1829-01-01T00:00:00",
          "1830-01-01T00:00:00",
          "1831-01-01T00:00:00",
          "1832-01-01T00:00:00",
          "1833-01-01T00:00:00",
          "1834-01-01T00:00:00",
          "1835-01-01T00:00:00",
          "1836-01-01T00:00:00",
          "1837-01-01T00:00:00",
          "1838-01-01T00:00:00",
          "1839-01-01T00:00:00",
          "1840-01-01T00:00:00",
          "1841-01-01T00:00:00",
          "1842-01-01T00:00:00",
          "1843-01-01T00:00:00",
          "1844-01-01T00:00:00",
          "1845-01-01T00:00:00",
          "1846-01-01T00:00:00",
          "1847-01-01T00:00:00",
          "1848-01-01T00:00:00",
          "1849-01-01T00:00:00",
          "1850-01-01T00:00:00",
          "1851-01-01T00:00:00",
          "1852-01-01T00:00:00",
          "1853-01-01T00:00:00",
          "1854-01-01T00:00:00",
          "1855-01-01T00:00:00",
          "1856-01-01T00:00:00",
          "1857-01-01T00:00:00",
          "1858-01-01T00:00:00",
          "1859-01-01T00:00:00",
          "1860-01-01T00:00:00",
          "1861-01-01T00:00:00",
          "1862-01-01T00:00:00",
          "1863-01-01T00:00:00",
          "1864-01-01T00:00:00",
          "1865-01-01T00:00:00",
          "1866-01-01T00:00:00",
          "1867-01-01T00:00:00",
          "1868-01-01T00:00:00",
          "1869-01-01T00:00:00",
          "1870-01-01T00:00:00",
          "1871-01-01T00:00:00",
          "1872-01-01T00:00:00",
          "1873-01-01T00:00:00",
          "1874-01-01T00:00:00",
          "1875-01-01T00:00:00",
          "1876-01-01T00:00:00",
          "1877-01-01T00:00:00",
          "1878-01-01T00:00:00",
          "1879-01-01T00:00:00",
          "1880-01-01T00:00:00",
          "1881-01-01T00:00:00",
          "1882-01-01T00:00:00",
          "1883-01-01T00:00:00",
          "1884-01-01T00:00:00",
          "1885-01-01T00:00:00",
          "1886-01-01T00:00:00",
          "1887-01-01T00:00:00",
          "1888-01-01T00:00:00",
          "1889-01-01T00:00:00",
          "1890-01-01T00:00:00",
          "1891-01-01T00:00:00",
          "1892-01-01T00:00:00",
          "1893-01-01T00:00:00",
          "1894-01-01T00:00:00",
          "1895-01-01T00:00:00",
          "1896-01-01T00:00:00",
          "1897-01-01T00:00:00",
          "1898-01-01T00:00:00",
          "1899-01-01T00:00:00",
          "1900-01-01T00:00:00",
          "1901-01-01T00:00:00",
          "1902-01-01T00:00:00",
          "1903-01-01T00:00:00",
          "1904-01-01T00:00:00",
          "1905-01-01T00:00:00",
          "1906-01-01T00:00:00",
          "1907-01-01T00:00:00",
          "1908-01-01T00:00:00",
          "1909-01-01T00:00:00",
          "1910-01-01T00:00:00",
          "1911-01-01T00:00:00",
          "1912-01-01T00:00:00",
          "1913-01-01T00:00:00",
          "1914-01-01T00:00:00",
          "1915-01-01T00:00:00",
          "1916-01-01T00:00:00",
          "1917-01-01T00:00:00",
          "1918-01-01T00:00:00",
          "1919-01-01T00:00:00",
          "1920-01-01T00:00:00",
          "1921-01-01T00:00:00",
          "1922-01-01T00:00:00",
          "1923-01-01T00:00:00",
          "1924-01-01T00:00:00",
          "1925-01-01T00:00:00",
          "1926-01-01T00:00:00",
          "1927-01-01T00:00:00",
          "1928-01-01T00:00:00",
          "1929-01-01T00:00:00",
          "1930-01-01T00:00:00",
          "1931-01-01T00:00:00",
          "1932-01-01T00:00:00",
          "1933-01-01T00:00:00",
          "1934-01-01T00:00:00",
          "1935-01-01T00:00:00",
          "1936-01-01T00:00:00",
          "1937-01-01T00:00:00",
          "1938-01-01T00:00:00",
          "1939-01-01T00:00:00",
          "1940-01-01T00:00:00",
          "1941-01-01T00:00:00",
          "1942-01-01T00:00:00",
          "1943-01-01T00:00:00",
          "1944-01-01T00:00:00",
          "1945-01-01T00:00:00",
          "1946-01-01T00:00:00",
          "1947-01-01T00:00:00",
          "1948-01-01T00:00:00",
          "1949-01-01T00:00:00",
          "1950-01-01T00:00:00",
          "1951-01-01T00:00:00",
          "1952-01-01T00:00:00",
          "1953-01-01T00:00:00",
          "1954-01-01T00:00:00",
          "1955-01-01T00:00:00",
          "1956-01-01T00:00:00",
          "1957-01-01T00:00:00",
          "1958-01-01T00:00:00",
          "1959-01-01T00:00:00",
          "1960-01-01T00:00:00",
          "1961-01-01T00:00:00",
          "1962-01-01T00:00:00",
          "1963-01-01T00:00:00",
          "1964-01-01T00:00:00",
          "1965-01-01T00:00:00",
          "1966-01-01T00:00:00",
          "1967-01-01T00:00:00",
          "1968-01-01T00:00:00",
          "1969-01-01T00:00:00",
          "1970-01-01T00:00:00",
          "1971-01-01T00:00:00",
          "1972-01-01T00:00:00",
          "1973-01-01T00:00:00",
          "1974-01-01T00:00:00",
          "1975-01-01T00:00:00",
          "1976-01-01T00:00:00",
          "1977-01-01T00:00:00",
          "1978-01-01T00:00:00",
          "1979-01-01T00:00:00",
          "1980-01-01T00:00:00",
          "1981-01-01T00:00:00",
          "1982-01-01T00:00:00",
          "1983-01-01T00:00:00",
          "1984-01-01T00:00:00",
          "1985-01-01T00:00:00",
          "1986-01-01T00:00:00",
          "1987-01-01T00:00:00",
          "1988-01-01T00:00:00",
          "1989-01-01T00:00:00",
          "1990-01-01T00:00:00",
          "1991-01-01T00:00:00",
          "1992-01-01T00:00:00",
          "1993-01-01T00:00:00",
          "1994-01-01T00:00:00",
          "1995-01-01T00:00:00",
          "1996-01-01T00:00:00",
          "1997-01-01T00:00:00",
          "1998-01-01T00:00:00",
          "1999-01-01T00:00:00",
          "2000-01-01T00:00:00",
          "2001-01-01T00:00:00",
          "2002-01-01T00:00:00",
          "2003-01-01T00:00:00",
          "2004-01-01T00:00:00",
          "2005-01-01T00:00:00",
          "2006-01-01T00:00:00",
          "2007-01-01T00:00:00",
          "2008-01-01T00:00:00",
          "2009-01-01T00:00:00",
          "2010-01-01T00:00:00",
          "2011-01-01T00:00:00",
          "2012-01-01T00:00:00",
          "2013-01-01T00:00:00",
          "2014-01-01T00:00:00",
          "2015-01-01T00:00:00",
          "2016-01-01T00:00:00",
          "2017-01-01T00:00:00"
         ],
         "xaxis": "x",
         "y": [
          9350528,
          9354192,
          9354192,
          9357856,
          9361520,
          10006384,
          10010048,
          10013712,
          10017376,
          10017376,
          10973680,
          10977344,
          10981008,
          10984672,
          10988336,
          12259744,
          12263408,
          12267072,
          12270736,
          12274400,
          13611760,
          13615424,
          13619088,
          13622752,
          13626416,
          15037056,
          15040720,
          15044384,
          15048048,
          15055376,
          16843408,
          16847072,
          16854400,
          16858064,
          16869056,
          19151728,
          19159056,
          19162720,
          19170048,
          19177376,
          21419744,
          21896064,
          21914384,
          21881408,
          21892400,
          22951296,
          24094464,
          25094736,
          26428432,
          28091888,
          27959984,
          36782896,
          31488416,
          34309696,
          33419344,
          35046160,
          36874496,
          35064480,
          35090128,
          37380128,
          39582192,
          41007488,
          41220000,
          42128672,
          43488016,
          47664976,
          49431024,
          49643536,
          49947648,
          50687776,
          51435232,
          53465088,
          56550176,
          58525072,
          60756448,
          61419632,
          65915360,
          66637168,
          66395344,
          89104816,
          84506496,
          85096400,
          86789168,
          88485600,
          90445840,
          104775744,
          104691472,
          108044032,
          111612768,
          118929776,
          122619424,
          129504080,
          132852976,
          141423072,
          155210704,
          157793824,
          172402192,
          173816496,
          183511440,
          196782448,
          198804976,
          207550944,
          217209248,
          255138976,
          259821568,
          277291520,
          279889296,
          283729168,
          300865696,
          330031136,
          346925840,
          353337840,
          377109872,
          406238672,
          431494624,
          443281712,
          474652880,
          488121744,
          517561984,
          528663904,
          560914432,
          621004032,
          660381040,
          616882032,
          668760608,
          676814080,
          690180352,
          692910032,
          743077520,
          839862080,
          867811072,
          916564256,
          973557776,
          984443520,
          990287600,
          1005636096,
          1055781600,
          1170406176,
          1168204112,
          1271642496,
          1329332176,
          1338814608,
          1316881904,
          1363249824,
          1442172384,
          1489833696,
          1555672112,
          1637360992,
          1784829664,
          1877283376,
          1939868160,
          1993688656,
          2183417904,
          2199099824,
          2355164240,
          2466985856,
          2790832160,
          2681212608,
          2785427760,
          2928023312,
          2979546480,
          3111659328,
          3363830464,
          3056556432,
          3022635120,
          3263195040,
          3428408464,
          3440320128,
          2979011536,
          3471621680,
          3038991216,
          3179223488,
          3608647952,
          3611659760,
          3636659232,
          3544289792,
          3860089952,
          3843814464,
          4126686256,
          3753866928,
          3306074832,
          2936897520,
          3078998432,
          3319466752,
          3458786688,
          3784201184,
          4062386720,
          3776840208,
          4011043088,
          4337838912,
          4513282224,
          4688073344,
          4759272192,
          4731227936,
          3864274240,
          4199805040,
          4606109664,
          4842133552,
          4614965552,
          5066139520,
          5436983952,
          5470007584,
          5598144992,
          5650225088,
          6153720976,
          6511503248,
          6657689520,
          6825676592,
          8744996732.56,
          9214016992.42,
          9221159349.25,
          9551153364.35,
          10094479987.83,
          10602829611.15,
          11085550199.83,
          11575531998.17,
          11924059889.22,
          12573565583.99,
          13419408009.61,
          14582946543,
          15166304561.37,
          15848016694.78,
          16680680276.16,
          16646567976.91,
          16673949685.960001,
          17585733777.989998,
          18072519142.16,
          18742883096.97,
          19238636611.66,
          19166323344.79,
          18674370587.14,
          18572032972.04,
          18760489287.52,
          19318662696.17,
          19999482381.44,
          20266423276.01,
          20966084245.9,
          21758417165.73,
          22080662474.57,
          22355874903.82,
          22376843368.07,
          21970415745.02,
          22201635481.030003,
          22336638824.53,
          22809647092.29,
          23459418031.08,
          23549518287.34,
          23437268848.73,
          23725956983.81,
          24404239925.53,
          24633438583.08,
          25170366824.41,
          26400909788.739998,
          27612258255.96,
          28528419007.75,
          29460241357.04,
          30320122616.29,
          31013924573.68,
          30601056248.88,
          32149435333.67,
          33304955492.18,
          33796606304.69,
          33905692888.48,
          34205960891.35,
          34174733586.16,
          34292207355.89,
          34741276454.03
         ],
         "yaxis": "y"
        }
       ],
       "layout": {
        "coloraxis": {
         "showscale": true
        },
        "height": 600,
        "legend": {
         "tracegroupgap": 0
        },
        "margin": {
         "t": 60
        },
        "showlegend": false,
        "template": {
         "data": {
          "bar": [
           {
            "error_x": {
             "color": "#2a3f5f"
            },
            "error_y": {
             "color": "#2a3f5f"
            },
            "marker": {
             "line": {
              "color": "#E5ECF6",
              "width": 0.5
             },
             "pattern": {
              "fillmode": "overlay",
              "size": 10,
              "solidity": 0.2
             }
            },
            "type": "bar"
           }
          ],
          "barpolar": [
           {
            "marker": {
             "line": {
              "color": "#E5ECF6",
              "width": 0.5
             },
             "pattern": {
              "fillmode": "overlay",
              "size": 10,
              "solidity": 0.2
             }
            },
            "type": "barpolar"
           }
          ],
          "carpet": [
           {
            "aaxis": {
             "endlinecolor": "#2a3f5f",
             "gridcolor": "white",
             "linecolor": "white",
             "minorgridcolor": "white",
             "startlinecolor": "#2a3f5f"
            },
            "baxis": {
             "endlinecolor": "#2a3f5f",
             "gridcolor": "white",
             "linecolor": "white",
             "minorgridcolor": "white",
             "startlinecolor": "#2a3f5f"
            },
            "type": "carpet"
           }
          ],
          "choropleth": [
           {
            "colorbar": {
             "outlinewidth": 0,
             "ticks": ""
            },
            "type": "choropleth"
           }
          ],
          "contour": [
           {
            "colorbar": {
             "outlinewidth": 0,
             "ticks": ""
            },
            "colorscale": [
             [
              0,
              "#0d0887"
             ],
             [
              0.1111111111111111,
              "#46039f"
             ],
             [
              0.2222222222222222,
              "#7201a8"
             ],
             [
              0.3333333333333333,
              "#9c179e"
             ],
             [
              0.4444444444444444,
              "#bd3786"
             ],
             [
              0.5555555555555556,
              "#d8576b"
             ],
             [
              0.6666666666666666,
              "#ed7953"
             ],
             [
              0.7777777777777778,
              "#fb9f3a"
             ],
             [
              0.8888888888888888,
              "#fdca26"
             ],
             [
              1,
              "#f0f921"
             ]
            ],
            "type": "contour"
           }
          ],
          "contourcarpet": [
           {
            "colorbar": {
             "outlinewidth": 0,
             "ticks": ""
            },
            "type": "contourcarpet"
           }
          ],
          "heatmap": [
           {
            "colorbar": {
             "outlinewidth": 0,
             "ticks": ""
            },
            "colorscale": [
             [
              0,
              "#0d0887"
             ],
             [
              0.1111111111111111,
              "#46039f"
             ],
             [
              0.2222222222222222,
              "#7201a8"
             ],
             [
              0.3333333333333333,
              "#9c179e"
             ],
             [
              0.4444444444444444,
              "#bd3786"
             ],
             [
              0.5555555555555556,
              "#d8576b"
             ],
             [
              0.6666666666666666,
              "#ed7953"
             ],
             [
              0.7777777777777778,
              "#fb9f3a"
             ],
             [
              0.8888888888888888,
              "#fdca26"
             ],
             [
              1,
              "#f0f921"
             ]
            ],
            "type": "heatmap"
           }
          ],
          "heatmapgl": [
           {
            "colorbar": {
             "outlinewidth": 0,
             "ticks": ""
            },
            "colorscale": [
             [
              0,
              "#0d0887"
             ],
             [
              0.1111111111111111,
              "#46039f"
             ],
             [
              0.2222222222222222,
              "#7201a8"
             ],
             [
              0.3333333333333333,
              "#9c179e"
             ],
             [
              0.4444444444444444,
              "#bd3786"
             ],
             [
              0.5555555555555556,
              "#d8576b"
             ],
             [
              0.6666666666666666,
              "#ed7953"
             ],
             [
              0.7777777777777778,
              "#fb9f3a"
             ],
             [
              0.8888888888888888,
              "#fdca26"
             ],
             [
              1,
              "#f0f921"
             ]
            ],
            "type": "heatmapgl"
           }
          ],
          "histogram": [
           {
            "marker": {
             "pattern": {
              "fillmode": "overlay",
              "size": 10,
              "solidity": 0.2
             }
            },
            "type": "histogram"
           }
          ],
          "histogram2d": [
           {
            "colorbar": {
             "outlinewidth": 0,
             "ticks": ""
            },
            "colorscale": [
             [
              0,
              "#0d0887"
             ],
             [
              0.1111111111111111,
              "#46039f"
             ],
             [
              0.2222222222222222,
              "#7201a8"
             ],
             [
              0.3333333333333333,
              "#9c179e"
             ],
             [
              0.4444444444444444,
              "#bd3786"
             ],
             [
              0.5555555555555556,
              "#d8576b"
             ],
             [
              0.6666666666666666,
              "#ed7953"
             ],
             [
              0.7777777777777778,
              "#fb9f3a"
             ],
             [
              0.8888888888888888,
              "#fdca26"
             ],
             [
              1,
              "#f0f921"
             ]
            ],
            "type": "histogram2d"
           }
          ],
          "histogram2dcontour": [
           {
            "colorbar": {
             "outlinewidth": 0,
             "ticks": ""
            },
            "colorscale": [
             [
              0,
              "#0d0887"
             ],
             [
              0.1111111111111111,
              "#46039f"
             ],
             [
              0.2222222222222222,
              "#7201a8"
             ],
             [
              0.3333333333333333,
              "#9c179e"
             ],
             [
              0.4444444444444444,
              "#bd3786"
             ],
             [
              0.5555555555555556,
              "#d8576b"
             ],
             [
              0.6666666666666666,
              "#ed7953"
             ],
             [
              0.7777777777777778,
              "#fb9f3a"
             ],
             [
              0.8888888888888888,
              "#fdca26"
             ],
             [
              1,
              "#f0f921"
             ]
            ],
            "type": "histogram2dcontour"
           }
          ],
          "mesh3d": [
           {
            "colorbar": {
             "outlinewidth": 0,
             "ticks": ""
            },
            "type": "mesh3d"
           }
          ],
          "parcoords": [
           {
            "line": {
             "colorbar": {
              "outlinewidth": 0,
              "ticks": ""
             }
            },
            "type": "parcoords"
           }
          ],
          "pie": [
           {
            "automargin": true,
            "type": "pie"
           }
          ],
          "scatter": [
           {
            "marker": {
             "colorbar": {
              "outlinewidth": 0,
              "ticks": ""
             }
            },
            "type": "scatter"
           }
          ],
          "scatter3d": [
           {
            "line": {
             "colorbar": {
              "outlinewidth": 0,
              "ticks": ""
             }
            },
            "marker": {
             "colorbar": {
              "outlinewidth": 0,
              "ticks": ""
             }
            },
            "type": "scatter3d"
           }
          ],
          "scattercarpet": [
           {
            "marker": {
             "colorbar": {
              "outlinewidth": 0,
              "ticks": ""
             }
            },
            "type": "scattercarpet"
           }
          ],
          "scattergeo": [
           {
            "marker": {
             "colorbar": {
              "outlinewidth": 0,
              "ticks": ""
             }
            },
            "type": "scattergeo"
           }
          ],
          "scattergl": [
           {
            "marker": {
             "colorbar": {
              "outlinewidth": 0,
              "ticks": ""
             }
            },
            "type": "scattergl"
           }
          ],
          "scattermapbox": [
           {
            "marker": {
             "colorbar": {
              "outlinewidth": 0,
              "ticks": ""
             }
            },
            "type": "scattermapbox"
           }
          ],
          "scatterpolar": [
           {
            "marker": {
             "colorbar": {
              "outlinewidth": 0,
              "ticks": ""
             }
            },
            "type": "scatterpolar"
           }
          ],
          "scatterpolargl": [
           {
            "marker": {
             "colorbar": {
              "outlinewidth": 0,
              "ticks": ""
             }
            },
            "type": "scatterpolargl"
           }
          ],
          "scatterternary": [
           {
            "marker": {
             "colorbar": {
              "outlinewidth": 0,
              "ticks": ""
             }
            },
            "type": "scatterternary"
           }
          ],
          "surface": [
           {
            "colorbar": {
             "outlinewidth": 0,
             "ticks": ""
            },
            "colorscale": [
             [
              0,
              "#0d0887"
             ],
             [
              0.1111111111111111,
              "#46039f"
             ],
             [
              0.2222222222222222,
              "#7201a8"
             ],
             [
              0.3333333333333333,
              "#9c179e"
             ],
             [
              0.4444444444444444,
              "#bd3786"
             ],
             [
              0.5555555555555556,
              "#d8576b"
             ],
             [
              0.6666666666666666,
              "#ed7953"
             ],
             [
              0.7777777777777778,
              "#fb9f3a"
             ],
             [
              0.8888888888888888,
              "#fdca26"
             ],
             [
              1,
              "#f0f921"
             ]
            ],
            "type": "surface"
           }
          ],
          "table": [
           {
            "cells": {
             "fill": {
              "color": "#EBF0F8"
             },
             "line": {
              "color": "white"
             }
            },
            "header": {
             "fill": {
              "color": "#C8D4E3"
             },
             "line": {
              "color": "white"
             }
            },
            "type": "table"
           }
          ]
         },
         "layout": {
          "annotationdefaults": {
           "arrowcolor": "#2a3f5f",
           "arrowhead": 0,
           "arrowwidth": 1
          },
          "autotypenumbers": "strict",
          "coloraxis": {
           "colorbar": {
            "outlinewidth": 0,
            "ticks": ""
           }
          },
          "colorscale": {
           "diverging": [
            [
             0,
             "#8e0152"
            ],
            [
             0.1,
             "#c51b7d"
            ],
            [
             0.2,
             "#de77ae"
            ],
            [
             0.3,
             "#f1b6da"
            ],
            [
             0.4,
             "#fde0ef"
            ],
            [
             0.5,
             "#f7f7f7"
            ],
            [
             0.6,
             "#e6f5d0"
            ],
            [
             0.7,
             "#b8e186"
            ],
            [
             0.8,
             "#7fbc41"
            ],
            [
             0.9,
             "#4d9221"
            ],
            [
             1,
             "#276419"
            ]
           ],
           "sequential": [
            [
             0,
             "#0d0887"
            ],
            [
             0.1111111111111111,
             "#46039f"
            ],
            [
             0.2222222222222222,
             "#7201a8"
            ],
            [
             0.3333333333333333,
             "#9c179e"
            ],
            [
             0.4444444444444444,
             "#bd3786"
            ],
            [
             0.5555555555555556,
             "#d8576b"
            ],
            [
             0.6666666666666666,
             "#ed7953"
            ],
            [
             0.7777777777777778,
             "#fb9f3a"
            ],
            [
             0.8888888888888888,
             "#fdca26"
            ],
            [
             1,
             "#f0f921"
            ]
           ],
           "sequentialminus": [
            [
             0,
             "#0d0887"
            ],
            [
             0.1111111111111111,
             "#46039f"
            ],
            [
             0.2222222222222222,
             "#7201a8"
            ],
            [
             0.3333333333333333,
             "#9c179e"
            ],
            [
             0.4444444444444444,
             "#bd3786"
            ],
            [
             0.5555555555555556,
             "#d8576b"
            ],
            [
             0.6666666666666666,
             "#ed7953"
            ],
            [
             0.7777777777777778,
             "#fb9f3a"
            ],
            [
             0.8888888888888888,
             "#fdca26"
            ],
            [
             1,
             "#f0f921"
            ]
           ]
          },
          "colorway": [
           "#636efa",
           "#EF553B",
           "#00cc96",
           "#ab63fa",
           "#FFA15A",
           "#19d3f3",
           "#FF6692",
           "#B6E880",
           "#FF97FF",
           "#FECB52"
          ],
          "font": {
           "color": "#2a3f5f"
          },
          "geo": {
           "bgcolor": "white",
           "lakecolor": "white",
           "landcolor": "#E5ECF6",
           "showlakes": true,
           "showland": true,
           "subunitcolor": "white"
          },
          "hoverlabel": {
           "align": "left"
          },
          "hovermode": "closest",
          "mapbox": {
           "style": "light"
          },
          "paper_bgcolor": "white",
          "plot_bgcolor": "#E5ECF6",
          "polar": {
           "angularaxis": {
            "gridcolor": "white",
            "linecolor": "white",
            "ticks": ""
           },
           "bgcolor": "#E5ECF6",
           "radialaxis": {
            "gridcolor": "white",
            "linecolor": "white",
            "ticks": ""
           }
          },
          "scene": {
           "xaxis": {
            "backgroundcolor": "#E5ECF6",
            "gridcolor": "white",
            "gridwidth": 2,
            "linecolor": "white",
            "showbackground": true,
            "ticks": "",
            "zerolinecolor": "white"
           },
           "yaxis": {
            "backgroundcolor": "#E5ECF6",
            "gridcolor": "white",
            "gridwidth": 2,
            "linecolor": "white",
            "showbackground": true,
            "ticks": "",
            "zerolinecolor": "white"
           },
           "zaxis": {
            "backgroundcolor": "#E5ECF6",
            "gridcolor": "white",
            "gridwidth": 2,
            "linecolor": "white",
            "showbackground": true,
            "ticks": "",
            "zerolinecolor": "white"
           }
          },
          "shapedefaults": {
           "line": {
            "color": "#2a3f5f"
           }
          },
          "ternary": {
           "aaxis": {
            "gridcolor": "white",
            "linecolor": "white",
            "ticks": ""
           },
           "baxis": {
            "gridcolor": "white",
            "linecolor": "white",
            "ticks": ""
           },
           "bgcolor": "#E5ECF6",
           "caxis": {
            "gridcolor": "white",
            "linecolor": "white",
            "ticks": ""
           }
          },
          "title": {
           "x": 0.05
          },
          "xaxis": {
           "automargin": true,
           "gridcolor": "white",
           "linecolor": "white",
           "ticks": "",
           "title": {
            "standoff": 15
           },
           "zerolinecolor": "white",
           "zerolinewidth": 2
          },
          "yaxis": {
           "automargin": true,
           "gridcolor": "white",
           "linecolor": "white",
           "ticks": "",
           "title": {
            "standoff": 15
           },
           "zerolinecolor": "white",
           "zerolinewidth": 2
          }
         }
        },
        "title": {
         "text": "Change in CO₂ Emission Between Years 1750 and 2017",
         "x": 0.5
        },
        "xaxis": {
         "anchor": "y",
         "domain": [
          0,
          1
         ],
         "title": {
          "text": "Year"
         }
        },
        "yaxis": {
         "anchor": "x",
         "domain": [
          0,
          1
         ],
         "title": {
          "text": "CO₂ Emission"
         }
        }
       }
      },
      "text/html": [
       "<div>                            <div id=\"a5e0b9f5-5942-49cc-b633-019e321bb570\" class=\"plotly-graph-div\" style=\"height:600px; width:100%;\"></div>            <script type=\"text/javascript\">                require([\"plotly\"], function(Plotly) {                    window.PLOTLYENV=window.PLOTLYENV || {};                                    if (document.getElementById(\"a5e0b9f5-5942-49cc-b633-019e321bb570\")) {                    Plotly.newPlot(                        \"a5e0b9f5-5942-49cc-b633-019e321bb570\",                        [{\"hovertemplate\":\"<b>%{hovertext}</b><br><br>Year=%{x}<br>CO\\u2082 Emission=%{y}<extra></extra>\",\"hovertext\":[\"1751-01-01T00:00:00\",\"1752-01-01T00:00:00\",\"1753-01-01T00:00:00\",\"1754-01-01T00:00:00\",\"1755-01-01T00:00:00\",\"1756-01-01T00:00:00\",\"1757-01-01T00:00:00\",\"1758-01-01T00:00:00\",\"1759-01-01T00:00:00\",\"1760-01-01T00:00:00\",\"1761-01-01T00:00:00\",\"1762-01-01T00:00:00\",\"1763-01-01T00:00:00\",\"1764-01-01T00:00:00\",\"1765-01-01T00:00:00\",\"1766-01-01T00:00:00\",\"1767-01-01T00:00:00\",\"1768-01-01T00:00:00\",\"1769-01-01T00:00:00\",\"1770-01-01T00:00:00\",\"1771-01-01T00:00:00\",\"1772-01-01T00:00:00\",\"1773-01-01T00:00:00\",\"1774-01-01T00:00:00\",\"1775-01-01T00:00:00\",\"1776-01-01T00:00:00\",\"1777-01-01T00:00:00\",\"1778-01-01T00:00:00\",\"1779-01-01T00:00:00\",\"1780-01-01T00:00:00\",\"1781-01-01T00:00:00\",\"1782-01-01T00:00:00\",\"1783-01-01T00:00:00\",\"1784-01-01T00:00:00\",\"1785-01-01T00:00:00\",\"1786-01-01T00:00:00\",\"1787-01-01T00:00:00\",\"1788-01-01T00:00:00\",\"1789-01-01T00:00:00\",\"1790-01-01T00:00:00\",\"1791-01-01T00:00:00\",\"1792-01-01T00:00:00\",\"1793-01-01T00:00:00\",\"1794-01-01T00:00:00\",\"1795-01-01T00:00:00\",\"1796-01-01T00:00:00\",\"1797-01-01T00:00:00\",\"1798-01-01T00:00:00\",\"1799-01-01T00:00:00\",\"1800-01-01T00:00:00\",\"1801-01-01T00:00:00\",\"1802-01-01T00:00:00\",\"1803-01-01T00:00:00\",\"1804-01-01T00:00:00\",\"1805-01-01T00:00:00\",\"1806-01-01T00:00:00\",\"1807-01-01T00:00:00\",\"1808-01-01T00:00:00\",\"1809-01-01T00:00:00\",\"1810-01-01T00:00:00\",\"1811-01-01T00:00:00\",\"1812-01-01T00:00:00\",\"1813-01-01T00:00:00\",\"1814-01-01T00:00:00\",\"1815-01-01T00:00:00\",\"1816-01-01T00:00:00\",\"1817-01-01T00:00:00\",\"1818-01-01T00:00:00\",\"1819-01-01T00:00:00\",\"1820-01-01T00:00:00\",\"1821-01-01T00:00:00\",\"1822-01-01T00:00:00\",\"1823-01-01T00:00:00\",\"1824-01-01T00:00:00\",\"1825-01-01T00:00:00\",\"1826-01-01T00:00:00\",\"1827-01-01T00:00:00\",\"1828-01-01T00:00:00\",\"1829-01-01T00:00:00\",\"1830-01-01T00:00:00\",\"1831-01-01T00:00:00\",\"1832-01-01T00:00:00\",\"1833-01-01T00:00:00\",\"1834-01-01T00:00:00\",\"1835-01-01T00:00:00\",\"1836-01-01T00:00:00\",\"1837-01-01T00:00:00\",\"1838-01-01T00:00:00\",\"1839-01-01T00:00:00\",\"1840-01-01T00:00:00\",\"1841-01-01T00:00:00\",\"1842-01-01T00:00:00\",\"1843-01-01T00:00:00\",\"1844-01-01T00:00:00\",\"1845-01-01T00:00:00\",\"1846-01-01T00:00:00\",\"1847-01-01T00:00:00\",\"1848-01-01T00:00:00\",\"1849-01-01T00:00:00\",\"1850-01-01T00:00:00\",\"1851-01-01T00:00:00\",\"1852-01-01T00:00:00\",\"1853-01-01T00:00:00\",\"1854-01-01T00:00:00\",\"1855-01-01T00:00:00\",\"1856-01-01T00:00:00\",\"1857-01-01T00:00:00\",\"1858-01-01T00:00:00\",\"1859-01-01T00:00:00\",\"1860-01-01T00:00:00\",\"1861-01-01T00:00:00\",\"1862-01-01T00:00:00\",\"1863-01-01T00:00:00\",\"1864-01-01T00:00:00\",\"1865-01-01T00:00:00\",\"1866-01-01T00:00:00\",\"1867-01-01T00:00:00\",\"1868-01-01T00:00:00\",\"1869-01-01T00:00:00\",\"1870-01-01T00:00:00\",\"1871-01-01T00:00:00\",\"1872-01-01T00:00:00\",\"1873-01-01T00:00:00\",\"1874-01-01T00:00:00\",\"1875-01-01T00:00:00\",\"1876-01-01T00:00:00\",\"1877-01-01T00:00:00\",\"1878-01-01T00:00:00\",\"1879-01-01T00:00:00\",\"1880-01-01T00:00:00\",\"1881-01-01T00:00:00\",\"1882-01-01T00:00:00\",\"1883-01-01T00:00:00\",\"1884-01-01T00:00:00\",\"1885-01-01T00:00:00\",\"1886-01-01T00:00:00\",\"1887-01-01T00:00:00\",\"1888-01-01T00:00:00\",\"1889-01-01T00:00:00\",\"1890-01-01T00:00:00\",\"1891-01-01T00:00:00\",\"1892-01-01T00:00:00\",\"1893-01-01T00:00:00\",\"1894-01-01T00:00:00\",\"1895-01-01T00:00:00\",\"1896-01-01T00:00:00\",\"1897-01-01T00:00:00\",\"1898-01-01T00:00:00\",\"1899-01-01T00:00:00\",\"1900-01-01T00:00:00\",\"1901-01-01T00:00:00\",\"1902-01-01T00:00:00\",\"1903-01-01T00:00:00\",\"1904-01-01T00:00:00\",\"1905-01-01T00:00:00\",\"1906-01-01T00:00:00\",\"1907-01-01T00:00:00\",\"1908-01-01T00:00:00\",\"1909-01-01T00:00:00\",\"1910-01-01T00:00:00\",\"1911-01-01T00:00:00\",\"1912-01-01T00:00:00\",\"1913-01-01T00:00:00\",\"1914-01-01T00:00:00\",\"1915-01-01T00:00:00\",\"1916-01-01T00:00:00\",\"1917-01-01T00:00:00\",\"1918-01-01T00:00:00\",\"1919-01-01T00:00:00\",\"1920-01-01T00:00:00\",\"1921-01-01T00:00:00\",\"1922-01-01T00:00:00\",\"1923-01-01T00:00:00\",\"1924-01-01T00:00:00\",\"1925-01-01T00:00:00\",\"1926-01-01T00:00:00\",\"1927-01-01T00:00:00\",\"1928-01-01T00:00:00\",\"1929-01-01T00:00:00\",\"1930-01-01T00:00:00\",\"1931-01-01T00:00:00\",\"1932-01-01T00:00:00\",\"1933-01-01T00:00:00\",\"1934-01-01T00:00:00\",\"1935-01-01T00:00:00\",\"1936-01-01T00:00:00\",\"1937-01-01T00:00:00\",\"1938-01-01T00:00:00\",\"1939-01-01T00:00:00\",\"1940-01-01T00:00:00\",\"1941-01-01T00:00:00\",\"1942-01-01T00:00:00\",\"1943-01-01T00:00:00\",\"1944-01-01T00:00:00\",\"1945-01-01T00:00:00\",\"1946-01-01T00:00:00\",\"1947-01-01T00:00:00\",\"1948-01-01T00:00:00\",\"1949-01-01T00:00:00\",\"1950-01-01T00:00:00\",\"1951-01-01T00:00:00\",\"1952-01-01T00:00:00\",\"1953-01-01T00:00:00\",\"1954-01-01T00:00:00\",\"1955-01-01T00:00:00\",\"1956-01-01T00:00:00\",\"1957-01-01T00:00:00\",\"1958-01-01T00:00:00\",\"1959-01-01T00:00:00\",\"1960-01-01T00:00:00\",\"1961-01-01T00:00:00\",\"1962-01-01T00:00:00\",\"1963-01-01T00:00:00\",\"1964-01-01T00:00:00\",\"1965-01-01T00:00:00\",\"1966-01-01T00:00:00\",\"1967-01-01T00:00:00\",\"1968-01-01T00:00:00\",\"1969-01-01T00:00:00\",\"1970-01-01T00:00:00\",\"1971-01-01T00:00:00\",\"1972-01-01T00:00:00\",\"1973-01-01T00:00:00\",\"1974-01-01T00:00:00\",\"1975-01-01T00:00:00\",\"1976-01-01T00:00:00\",\"1977-01-01T00:00:00\",\"1978-01-01T00:00:00\",\"1979-01-01T00:00:00\",\"1980-01-01T00:00:00\",\"1981-01-01T00:00:00\",\"1982-01-01T00:00:00\",\"1983-01-01T00:00:00\",\"1984-01-01T00:00:00\",\"1985-01-01T00:00:00\",\"1986-01-01T00:00:00\",\"1987-01-01T00:00:00\",\"1988-01-01T00:00:00\",\"1989-01-01T00:00:00\",\"1990-01-01T00:00:00\",\"1991-01-01T00:00:00\",\"1992-01-01T00:00:00\",\"1993-01-01T00:00:00\",\"1994-01-01T00:00:00\",\"1995-01-01T00:00:00\",\"1996-01-01T00:00:00\",\"1997-01-01T00:00:00\",\"1998-01-01T00:00:00\",\"1999-01-01T00:00:00\",\"2000-01-01T00:00:00\",\"2001-01-01T00:00:00\",\"2002-01-01T00:00:00\",\"2003-01-01T00:00:00\",\"2004-01-01T00:00:00\",\"2005-01-01T00:00:00\",\"2006-01-01T00:00:00\",\"2007-01-01T00:00:00\",\"2008-01-01T00:00:00\",\"2009-01-01T00:00:00\",\"2010-01-01T00:00:00\",\"2011-01-01T00:00:00\",\"2012-01-01T00:00:00\",\"2013-01-01T00:00:00\",\"2014-01-01T00:00:00\",\"2015-01-01T00:00:00\",\"2016-01-01T00:00:00\",\"2017-01-01T00:00:00\"],\"legendgroup\":\"\",\"line\":{\"color\":\"#636efa\"},\"marker\":{\"symbol\":\"circle\"},\"mode\":\"lines\",\"name\":\"\",\"orientation\":\"v\",\"showlegend\":false,\"stackgroup\":\"1\",\"x\":[\"1751-01-01T00:00:00\",\"1752-01-01T00:00:00\",\"1753-01-01T00:00:00\",\"1754-01-01T00:00:00\",\"1755-01-01T00:00:00\",\"1756-01-01T00:00:00\",\"1757-01-01T00:00:00\",\"1758-01-01T00:00:00\",\"1759-01-01T00:00:00\",\"1760-01-01T00:00:00\",\"1761-01-01T00:00:00\",\"1762-01-01T00:00:00\",\"1763-01-01T00:00:00\",\"1764-01-01T00:00:00\",\"1765-01-01T00:00:00\",\"1766-01-01T00:00:00\",\"1767-01-01T00:00:00\",\"1768-01-01T00:00:00\",\"1769-01-01T00:00:00\",\"1770-01-01T00:00:00\",\"1771-01-01T00:00:00\",\"1772-01-01T00:00:00\",\"1773-01-01T00:00:00\",\"1774-01-01T00:00:00\",\"1775-01-01T00:00:00\",\"1776-01-01T00:00:00\",\"1777-01-01T00:00:00\",\"1778-01-01T00:00:00\",\"1779-01-01T00:00:00\",\"1780-01-01T00:00:00\",\"1781-01-01T00:00:00\",\"1782-01-01T00:00:00\",\"1783-01-01T00:00:00\",\"1784-01-01T00:00:00\",\"1785-01-01T00:00:00\",\"1786-01-01T00:00:00\",\"1787-01-01T00:00:00\",\"1788-01-01T00:00:00\",\"1789-01-01T00:00:00\",\"1790-01-01T00:00:00\",\"1791-01-01T00:00:00\",\"1792-01-01T00:00:00\",\"1793-01-01T00:00:00\",\"1794-01-01T00:00:00\",\"1795-01-01T00:00:00\",\"1796-01-01T00:00:00\",\"1797-01-01T00:00:00\",\"1798-01-01T00:00:00\",\"1799-01-01T00:00:00\",\"1800-01-01T00:00:00\",\"1801-01-01T00:00:00\",\"1802-01-01T00:00:00\",\"1803-01-01T00:00:00\",\"1804-01-01T00:00:00\",\"1805-01-01T00:00:00\",\"1806-01-01T00:00:00\",\"1807-01-01T00:00:00\",\"1808-01-01T00:00:00\",\"1809-01-01T00:00:00\",\"1810-01-01T00:00:00\",\"1811-01-01T00:00:00\",\"1812-01-01T00:00:00\",\"1813-01-01T00:00:00\",\"1814-01-01T00:00:00\",\"1815-01-01T00:00:00\",\"1816-01-01T00:00:00\",\"1817-01-01T00:00:00\",\"1818-01-01T00:00:00\",\"1819-01-01T00:00:00\",\"1820-01-01T00:00:00\",\"1821-01-01T00:00:00\",\"1822-01-01T00:00:00\",\"1823-01-01T00:00:00\",\"1824-01-01T00:00:00\",\"1825-01-01T00:00:00\",\"1826-01-01T00:00:00\",\"1827-01-01T00:00:00\",\"1828-01-01T00:00:00\",\"1829-01-01T00:00:00\",\"1830-01-01T00:00:00\",\"1831-01-01T00:00:00\",\"1832-01-01T00:00:00\",\"1833-01-01T00:00:00\",\"1834-01-01T00:00:00\",\"1835-01-01T00:00:00\",\"1836-01-01T00:00:00\",\"1837-01-01T00:00:00\",\"1838-01-01T00:00:00\",\"1839-01-01T00:00:00\",\"1840-01-01T00:00:00\",\"1841-01-01T00:00:00\",\"1842-01-01T00:00:00\",\"1843-01-01T00:00:00\",\"1844-01-01T00:00:00\",\"1845-01-01T00:00:00\",\"1846-01-01T00:00:00\",\"1847-01-01T00:00:00\",\"1848-01-01T00:00:00\",\"1849-01-01T00:00:00\",\"1850-01-01T00:00:00\",\"1851-01-01T00:00:00\",\"1852-01-01T00:00:00\",\"1853-01-01T00:00:00\",\"1854-01-01T00:00:00\",\"1855-01-01T00:00:00\",\"1856-01-01T00:00:00\",\"1857-01-01T00:00:00\",\"1858-01-01T00:00:00\",\"1859-01-01T00:00:00\",\"1860-01-01T00:00:00\",\"1861-01-01T00:00:00\",\"1862-01-01T00:00:00\",\"1863-01-01T00:00:00\",\"1864-01-01T00:00:00\",\"1865-01-01T00:00:00\",\"1866-01-01T00:00:00\",\"1867-01-01T00:00:00\",\"1868-01-01T00:00:00\",\"1869-01-01T00:00:00\",\"1870-01-01T00:00:00\",\"1871-01-01T00:00:00\",\"1872-01-01T00:00:00\",\"1873-01-01T00:00:00\",\"1874-01-01T00:00:00\",\"1875-01-01T00:00:00\",\"1876-01-01T00:00:00\",\"1877-01-01T00:00:00\",\"1878-01-01T00:00:00\",\"1879-01-01T00:00:00\",\"1880-01-01T00:00:00\",\"1881-01-01T00:00:00\",\"1882-01-01T00:00:00\",\"1883-01-01T00:00:00\",\"1884-01-01T00:00:00\",\"1885-01-01T00:00:00\",\"1886-01-01T00:00:00\",\"1887-01-01T00:00:00\",\"1888-01-01T00:00:00\",\"1889-01-01T00:00:00\",\"1890-01-01T00:00:00\",\"1891-01-01T00:00:00\",\"1892-01-01T00:00:00\",\"1893-01-01T00:00:00\",\"1894-01-01T00:00:00\",\"1895-01-01T00:00:00\",\"1896-01-01T00:00:00\",\"1897-01-01T00:00:00\",\"1898-01-01T00:00:00\",\"1899-01-01T00:00:00\",\"1900-01-01T00:00:00\",\"1901-01-01T00:00:00\",\"1902-01-01T00:00:00\",\"1903-01-01T00:00:00\",\"1904-01-01T00:00:00\",\"1905-01-01T00:00:00\",\"1906-01-01T00:00:00\",\"1907-01-01T00:00:00\",\"1908-01-01T00:00:00\",\"1909-01-01T00:00:00\",\"1910-01-01T00:00:00\",\"1911-01-01T00:00:00\",\"1912-01-01T00:00:00\",\"1913-01-01T00:00:00\",\"1914-01-01T00:00:00\",\"1915-01-01T00:00:00\",\"1916-01-01T00:00:00\",\"1917-01-01T00:00:00\",\"1918-01-01T00:00:00\",\"1919-01-01T00:00:00\",\"1920-01-01T00:00:00\",\"1921-01-01T00:00:00\",\"1922-01-01T00:00:00\",\"1923-01-01T00:00:00\",\"1924-01-01T00:00:00\",\"1925-01-01T00:00:00\",\"1926-01-01T00:00:00\",\"1927-01-01T00:00:00\",\"1928-01-01T00:00:00\",\"1929-01-01T00:00:00\",\"1930-01-01T00:00:00\",\"1931-01-01T00:00:00\",\"1932-01-01T00:00:00\",\"1933-01-01T00:00:00\",\"1934-01-01T00:00:00\",\"1935-01-01T00:00:00\",\"1936-01-01T00:00:00\",\"1937-01-01T00:00:00\",\"1938-01-01T00:00:00\",\"1939-01-01T00:00:00\",\"1940-01-01T00:00:00\",\"1941-01-01T00:00:00\",\"1942-01-01T00:00:00\",\"1943-01-01T00:00:00\",\"1944-01-01T00:00:00\",\"1945-01-01T00:00:00\",\"1946-01-01T00:00:00\",\"1947-01-01T00:00:00\",\"1948-01-01T00:00:00\",\"1949-01-01T00:00:00\",\"1950-01-01T00:00:00\",\"1951-01-01T00:00:00\",\"1952-01-01T00:00:00\",\"1953-01-01T00:00:00\",\"1954-01-01T00:00:00\",\"1955-01-01T00:00:00\",\"1956-01-01T00:00:00\",\"1957-01-01T00:00:00\",\"1958-01-01T00:00:00\",\"1959-01-01T00:00:00\",\"1960-01-01T00:00:00\",\"1961-01-01T00:00:00\",\"1962-01-01T00:00:00\",\"1963-01-01T00:00:00\",\"1964-01-01T00:00:00\",\"1965-01-01T00:00:00\",\"1966-01-01T00:00:00\",\"1967-01-01T00:00:00\",\"1968-01-01T00:00:00\",\"1969-01-01T00:00:00\",\"1970-01-01T00:00:00\",\"1971-01-01T00:00:00\",\"1972-01-01T00:00:00\",\"1973-01-01T00:00:00\",\"1974-01-01T00:00:00\",\"1975-01-01T00:00:00\",\"1976-01-01T00:00:00\",\"1977-01-01T00:00:00\",\"1978-01-01T00:00:00\",\"1979-01-01T00:00:00\",\"1980-01-01T00:00:00\",\"1981-01-01T00:00:00\",\"1982-01-01T00:00:00\",\"1983-01-01T00:00:00\",\"1984-01-01T00:00:00\",\"1985-01-01T00:00:00\",\"1986-01-01T00:00:00\",\"1987-01-01T00:00:00\",\"1988-01-01T00:00:00\",\"1989-01-01T00:00:00\",\"1990-01-01T00:00:00\",\"1991-01-01T00:00:00\",\"1992-01-01T00:00:00\",\"1993-01-01T00:00:00\",\"1994-01-01T00:00:00\",\"1995-01-01T00:00:00\",\"1996-01-01T00:00:00\",\"1997-01-01T00:00:00\",\"1998-01-01T00:00:00\",\"1999-01-01T00:00:00\",\"2000-01-01T00:00:00\",\"2001-01-01T00:00:00\",\"2002-01-01T00:00:00\",\"2003-01-01T00:00:00\",\"2004-01-01T00:00:00\",\"2005-01-01T00:00:00\",\"2006-01-01T00:00:00\",\"2007-01-01T00:00:00\",\"2008-01-01T00:00:00\",\"2009-01-01T00:00:00\",\"2010-01-01T00:00:00\",\"2011-01-01T00:00:00\",\"2012-01-01T00:00:00\",\"2013-01-01T00:00:00\",\"2014-01-01T00:00:00\",\"2015-01-01T00:00:00\",\"2016-01-01T00:00:00\",\"2017-01-01T00:00:00\"],\"xaxis\":\"x\",\"y\":[9350528.0,9354192.0,9354192.0,9357856.0,9361520.0,10006384.0,10010048.0,10013712.0,10017376.0,10017376.0,10973680.0,10977344.0,10981008.0,10984672.0,10988336.0,12259744.0,12263408.0,12267072.0,12270736.0,12274400.0,13611760.0,13615424.0,13619088.0,13622752.0,13626416.0,15037056.0,15040720.0,15044384.0,15048048.0,15055376.0,16843408.0,16847072.0,16854400.0,16858064.0,16869056.0,19151728.0,19159056.0,19162720.0,19170048.0,19177376.0,21419744.0,21896064.0,21914384.0,21881408.0,21892400.0,22951296.0,24094464.0,25094736.0,26428432.0,28091888.0,27959984.0,36782896.0,31488416.0,34309696.0,33419344.0,35046160.0,36874496.0,35064480.0,35090128.0,37380128.0,39582192.0,41007488.0,41220000.0,42128672.0,43488016.0,47664976.0,49431024.0,49643536.0,49947648.0,50687776.0,51435232.0,53465088.0,56550176.0,58525072.0,60756448.0,61419632.0,65915360.0,66637168.0,66395344.0,89104816.0,84506496.0,85096400.0,86789168.0,88485600.0,90445840.0,104775744.0,104691472.0,108044032.0,111612768.0,118929776.0,122619424.0,129504080.0,132852976.0,141423072.0,155210704.0,157793824.0,172402192.0,173816496.0,183511440.0,196782448.0,198804976.0,207550944.0,217209248.0,255138976.0,259821568.0,277291520.0,279889296.0,283729168.0,300865696.0,330031136.0,346925840.0,353337840.0,377109872.0,406238672.0,431494624.0,443281712.0,474652880.0,488121744.0,517561984.0,528663904.0,560914432.0,621004032.0,660381040.0,616882032.0,668760608.0,676814080.0,690180352.0,692910032.0,743077520.0,839862080.0,867811072.0,916564256.0,973557776.0,984443520.0,990287600.0,1005636096.0,1055781600.0,1170406176.0,1168204112.0,1271642496.0,1329332176.0,1338814608.0,1316881904.0,1363249824.0,1442172384.0,1489833696.0,1555672112.0,1637360992.0,1784829664.0,1877283376.0,1939868160.0,1993688656.0,2183417904.0,2199099824.0,2355164240.0,2466985856.0,2790832160.0,2681212608.0,2785427760.0,2928023312.0,2979546480.0,3111659328.0,3363830464.0,3056556432.0,3022635120.0,3263195040.0,3428408464.0,3440320128.0,2979011536.0,3471621680.0,3038991216.0,3179223488.0,3608647952.0,3611659760.0,3636659232.0,3544289792.0,3860089952.0,3843814464.0,4126686256.0,3753866928.0,3306074832.0,2936897520.0,3078998432.0,3319466752.0,3458786688.0,3784201184.0,4062386720.0,3776840208.0,4011043088.0,4337838912.0,4513282224.0,4688073344.0,4759272192.0,4731227936.0,3864274240.0,4199805040.0,4606109664.0,4842133552.0,4614965552.0,5066139520.0,5436983952.0,5470007584.0,5598144992.0,5650225088.0,6153720976.0,6511503248.0,6657689520.0,6825676592.0,8744996732.56,9214016992.42,9221159349.25,9551153364.35,10094479987.83,10602829611.15,11085550199.83,11575531998.17,11924059889.22,12573565583.99,13419408009.61,14582946543.0,15166304561.37,15848016694.78,16680680276.16,16646567976.91,16673949685.960001,17585733777.989998,18072519142.16,18742883096.97,19238636611.66,19166323344.79,18674370587.14,18572032972.04,18760489287.52,19318662696.17,19999482381.44,20266423276.01,20966084245.9,21758417165.73,22080662474.57,22355874903.82,22376843368.07,21970415745.02,22201635481.030003,22336638824.53,22809647092.29,23459418031.08,23549518287.34,23437268848.73,23725956983.81,24404239925.53,24633438583.08,25170366824.41,26400909788.739998,27612258255.96,28528419007.75,29460241357.04,30320122616.29,31013924573.68,30601056248.88,32149435333.67,33304955492.18,33796606304.69,33905692888.48,34205960891.35,34174733586.16,34292207355.89,34741276454.03],\"yaxis\":\"y\",\"type\":\"scatter\"}],                        {\"template\":{\"data\":{\"bar\":[{\"error_x\":{\"color\":\"#2a3f5f\"},\"error_y\":{\"color\":\"#2a3f5f\"},\"marker\":{\"line\":{\"color\":\"#E5ECF6\",\"width\":0.5},\"pattern\":{\"fillmode\":\"overlay\",\"size\":10,\"solidity\":0.2}},\"type\":\"bar\"}],\"barpolar\":[{\"marker\":{\"line\":{\"color\":\"#E5ECF6\",\"width\":0.5},\"pattern\":{\"fillmode\":\"overlay\",\"size\":10,\"solidity\":0.2}},\"type\":\"barpolar\"}],\"carpet\":[{\"aaxis\":{\"endlinecolor\":\"#2a3f5f\",\"gridcolor\":\"white\",\"linecolor\":\"white\",\"minorgridcolor\":\"white\",\"startlinecolor\":\"#2a3f5f\"},\"baxis\":{\"endlinecolor\":\"#2a3f5f\",\"gridcolor\":\"white\",\"linecolor\":\"white\",\"minorgridcolor\":\"white\",\"startlinecolor\":\"#2a3f5f\"},\"type\":\"carpet\"}],\"choropleth\":[{\"colorbar\":{\"outlinewidth\":0,\"ticks\":\"\"},\"type\":\"choropleth\"}],\"contour\":[{\"colorbar\":{\"outlinewidth\":0,\"ticks\":\"\"},\"colorscale\":[[0.0,\"#0d0887\"],[0.1111111111111111,\"#46039f\"],[0.2222222222222222,\"#7201a8\"],[0.3333333333333333,\"#9c179e\"],[0.4444444444444444,\"#bd3786\"],[0.5555555555555556,\"#d8576b\"],[0.6666666666666666,\"#ed7953\"],[0.7777777777777778,\"#fb9f3a\"],[0.8888888888888888,\"#fdca26\"],[1.0,\"#f0f921\"]],\"type\":\"contour\"}],\"contourcarpet\":[{\"colorbar\":{\"outlinewidth\":0,\"ticks\":\"\"},\"type\":\"contourcarpet\"}],\"heatmap\":[{\"colorbar\":{\"outlinewidth\":0,\"ticks\":\"\"},\"colorscale\":[[0.0,\"#0d0887\"],[0.1111111111111111,\"#46039f\"],[0.2222222222222222,\"#7201a8\"],[0.3333333333333333,\"#9c179e\"],[0.4444444444444444,\"#bd3786\"],[0.5555555555555556,\"#d8576b\"],[0.6666666666666666,\"#ed7953\"],[0.7777777777777778,\"#fb9f3a\"],[0.8888888888888888,\"#fdca26\"],[1.0,\"#f0f921\"]],\"type\":\"heatmap\"}],\"heatmapgl\":[{\"colorbar\":{\"outlinewidth\":0,\"ticks\":\"\"},\"colorscale\":[[0.0,\"#0d0887\"],[0.1111111111111111,\"#46039f\"],[0.2222222222222222,\"#7201a8\"],[0.3333333333333333,\"#9c179e\"],[0.4444444444444444,\"#bd3786\"],[0.5555555555555556,\"#d8576b\"],[0.6666666666666666,\"#ed7953\"],[0.7777777777777778,\"#fb9f3a\"],[0.8888888888888888,\"#fdca26\"],[1.0,\"#f0f921\"]],\"type\":\"heatmapgl\"}],\"histogram\":[{\"marker\":{\"pattern\":{\"fillmode\":\"overlay\",\"size\":10,\"solidity\":0.2}},\"type\":\"histogram\"}],\"histogram2d\":[{\"colorbar\":{\"outlinewidth\":0,\"ticks\":\"\"},\"colorscale\":[[0.0,\"#0d0887\"],[0.1111111111111111,\"#46039f\"],[0.2222222222222222,\"#7201a8\"],[0.3333333333333333,\"#9c179e\"],[0.4444444444444444,\"#bd3786\"],[0.5555555555555556,\"#d8576b\"],[0.6666666666666666,\"#ed7953\"],[0.7777777777777778,\"#fb9f3a\"],[0.8888888888888888,\"#fdca26\"],[1.0,\"#f0f921\"]],\"type\":\"histogram2d\"}],\"histogram2dcontour\":[{\"colorbar\":{\"outlinewidth\":0,\"ticks\":\"\"},\"colorscale\":[[0.0,\"#0d0887\"],[0.1111111111111111,\"#46039f\"],[0.2222222222222222,\"#7201a8\"],[0.3333333333333333,\"#9c179e\"],[0.4444444444444444,\"#bd3786\"],[0.5555555555555556,\"#d8576b\"],[0.6666666666666666,\"#ed7953\"],[0.7777777777777778,\"#fb9f3a\"],[0.8888888888888888,\"#fdca26\"],[1.0,\"#f0f921\"]],\"type\":\"histogram2dcontour\"}],\"mesh3d\":[{\"colorbar\":{\"outlinewidth\":0,\"ticks\":\"\"},\"type\":\"mesh3d\"}],\"parcoords\":[{\"line\":{\"colorbar\":{\"outlinewidth\":0,\"ticks\":\"\"}},\"type\":\"parcoords\"}],\"pie\":[{\"automargin\":true,\"type\":\"pie\"}],\"scatter\":[{\"marker\":{\"colorbar\":{\"outlinewidth\":0,\"ticks\":\"\"}},\"type\":\"scatter\"}],\"scatter3d\":[{\"line\":{\"colorbar\":{\"outlinewidth\":0,\"ticks\":\"\"}},\"marker\":{\"colorbar\":{\"outlinewidth\":0,\"ticks\":\"\"}},\"type\":\"scatter3d\"}],\"scattercarpet\":[{\"marker\":{\"colorbar\":{\"outlinewidth\":0,\"ticks\":\"\"}},\"type\":\"scattercarpet\"}],\"scattergeo\":[{\"marker\":{\"colorbar\":{\"outlinewidth\":0,\"ticks\":\"\"}},\"type\":\"scattergeo\"}],\"scattergl\":[{\"marker\":{\"colorbar\":{\"outlinewidth\":0,\"ticks\":\"\"}},\"type\":\"scattergl\"}],\"scattermapbox\":[{\"marker\":{\"colorbar\":{\"outlinewidth\":0,\"ticks\":\"\"}},\"type\":\"scattermapbox\"}],\"scatterpolar\":[{\"marker\":{\"colorbar\":{\"outlinewidth\":0,\"ticks\":\"\"}},\"type\":\"scatterpolar\"}],\"scatterpolargl\":[{\"marker\":{\"colorbar\":{\"outlinewidth\":0,\"ticks\":\"\"}},\"type\":\"scatterpolargl\"}],\"scatterternary\":[{\"marker\":{\"colorbar\":{\"outlinewidth\":0,\"ticks\":\"\"}},\"type\":\"scatterternary\"}],\"surface\":[{\"colorbar\":{\"outlinewidth\":0,\"ticks\":\"\"},\"colorscale\":[[0.0,\"#0d0887\"],[0.1111111111111111,\"#46039f\"],[0.2222222222222222,\"#7201a8\"],[0.3333333333333333,\"#9c179e\"],[0.4444444444444444,\"#bd3786\"],[0.5555555555555556,\"#d8576b\"],[0.6666666666666666,\"#ed7953\"],[0.7777777777777778,\"#fb9f3a\"],[0.8888888888888888,\"#fdca26\"],[1.0,\"#f0f921\"]],\"type\":\"surface\"}],\"table\":[{\"cells\":{\"fill\":{\"color\":\"#EBF0F8\"},\"line\":{\"color\":\"white\"}},\"header\":{\"fill\":{\"color\":\"#C8D4E3\"},\"line\":{\"color\":\"white\"}},\"type\":\"table\"}]},\"layout\":{\"annotationdefaults\":{\"arrowcolor\":\"#2a3f5f\",\"arrowhead\":0,\"arrowwidth\":1},\"autotypenumbers\":\"strict\",\"coloraxis\":{\"colorbar\":{\"outlinewidth\":0,\"ticks\":\"\"}},\"colorscale\":{\"diverging\":[[0,\"#8e0152\"],[0.1,\"#c51b7d\"],[0.2,\"#de77ae\"],[0.3,\"#f1b6da\"],[0.4,\"#fde0ef\"],[0.5,\"#f7f7f7\"],[0.6,\"#e6f5d0\"],[0.7,\"#b8e186\"],[0.8,\"#7fbc41\"],[0.9,\"#4d9221\"],[1,\"#276419\"]],\"sequential\":[[0.0,\"#0d0887\"],[0.1111111111111111,\"#46039f\"],[0.2222222222222222,\"#7201a8\"],[0.3333333333333333,\"#9c179e\"],[0.4444444444444444,\"#bd3786\"],[0.5555555555555556,\"#d8576b\"],[0.6666666666666666,\"#ed7953\"],[0.7777777777777778,\"#fb9f3a\"],[0.8888888888888888,\"#fdca26\"],[1.0,\"#f0f921\"]],\"sequentialminus\":[[0.0,\"#0d0887\"],[0.1111111111111111,\"#46039f\"],[0.2222222222222222,\"#7201a8\"],[0.3333333333333333,\"#9c179e\"],[0.4444444444444444,\"#bd3786\"],[0.5555555555555556,\"#d8576b\"],[0.6666666666666666,\"#ed7953\"],[0.7777777777777778,\"#fb9f3a\"],[0.8888888888888888,\"#fdca26\"],[1.0,\"#f0f921\"]]},\"colorway\":[\"#636efa\",\"#EF553B\",\"#00cc96\",\"#ab63fa\",\"#FFA15A\",\"#19d3f3\",\"#FF6692\",\"#B6E880\",\"#FF97FF\",\"#FECB52\"],\"font\":{\"color\":\"#2a3f5f\"},\"geo\":{\"bgcolor\":\"white\",\"lakecolor\":\"white\",\"landcolor\":\"#E5ECF6\",\"showlakes\":true,\"showland\":true,\"subunitcolor\":\"white\"},\"hoverlabel\":{\"align\":\"left\"},\"hovermode\":\"closest\",\"mapbox\":{\"style\":\"light\"},\"paper_bgcolor\":\"white\",\"plot_bgcolor\":\"#E5ECF6\",\"polar\":{\"angularaxis\":{\"gridcolor\":\"white\",\"linecolor\":\"white\",\"ticks\":\"\"},\"bgcolor\":\"#E5ECF6\",\"radialaxis\":{\"gridcolor\":\"white\",\"linecolor\":\"white\",\"ticks\":\"\"}},\"scene\":{\"xaxis\":{\"backgroundcolor\":\"#E5ECF6\",\"gridcolor\":\"white\",\"gridwidth\":2,\"linecolor\":\"white\",\"showbackground\":true,\"ticks\":\"\",\"zerolinecolor\":\"white\"},\"yaxis\":{\"backgroundcolor\":\"#E5ECF6\",\"gridcolor\":\"white\",\"gridwidth\":2,\"linecolor\":\"white\",\"showbackground\":true,\"ticks\":\"\",\"zerolinecolor\":\"white\"},\"zaxis\":{\"backgroundcolor\":\"#E5ECF6\",\"gridcolor\":\"white\",\"gridwidth\":2,\"linecolor\":\"white\",\"showbackground\":true,\"ticks\":\"\",\"zerolinecolor\":\"white\"}},\"shapedefaults\":{\"line\":{\"color\":\"#2a3f5f\"}},\"ternary\":{\"aaxis\":{\"gridcolor\":\"white\",\"linecolor\":\"white\",\"ticks\":\"\"},\"baxis\":{\"gridcolor\":\"white\",\"linecolor\":\"white\",\"ticks\":\"\"},\"bgcolor\":\"#E5ECF6\",\"caxis\":{\"gridcolor\":\"white\",\"linecolor\":\"white\",\"ticks\":\"\"}},\"title\":{\"x\":0.05},\"xaxis\":{\"automargin\":true,\"gridcolor\":\"white\",\"linecolor\":\"white\",\"ticks\":\"\",\"title\":{\"standoff\":15},\"zerolinecolor\":\"white\",\"zerolinewidth\":2},\"yaxis\":{\"automargin\":true,\"gridcolor\":\"white\",\"linecolor\":\"white\",\"ticks\":\"\",\"title\":{\"standoff\":15},\"zerolinecolor\":\"white\",\"zerolinewidth\":2}}},\"xaxis\":{\"anchor\":\"y\",\"domain\":[0.0,1.0],\"title\":{\"text\":\"Year\"}},\"yaxis\":{\"anchor\":\"x\",\"domain\":[0.0,1.0],\"title\":{\"text\":\"CO\\u2082 Emission\"}},\"legend\":{\"tracegroupgap\":0},\"margin\":{\"t\":60},\"height\":600,\"title\":{\"text\":\"Change in CO\\u2082 Emission Between Years 1750 and 2017\",\"x\":0.5},\"showlegend\":false,\"coloraxis\":{\"showscale\":true}},                        {\"responsive\": true}                    ).then(function(){\n",
       "                            \n",
       "var gd = document.getElementById('a5e0b9f5-5942-49cc-b633-019e321bb570');\n",
       "var x = new MutationObserver(function (mutations, observer) {{\n",
       "        var display = window.getComputedStyle(gd).display;\n",
       "        if (!display || display === 'none') {{\n",
       "            console.log([gd, 'removed!']);\n",
       "            Plotly.purge(gd);\n",
       "            observer.disconnect();\n",
       "        }}\n",
       "}});\n",
       "\n",
       "// Listen for the removal of the full notebook cells\n",
       "var notebookContainer = gd.closest('#notebook-container');\n",
       "if (notebookContainer) {{\n",
       "    x.observe(notebookContainer, {childList: true});\n",
       "}}\n",
       "\n",
       "// Listen for the clearing of the current output cell\n",
       "var outputEl = gd.closest('.output');\n",
       "if (outputEl) {{\n",
       "    x.observe(outputEl, {childList: true});\n",
       "}}\n",
       "\n",
       "                        })                };                });            </script>        </div>"
      ]
     },
     "metadata": {},
     "output_type": "display_data"
    }
   ],
   "source": [
    "fig = px.area(df_total_year,\n",
    "              x=\"Year\",\n",
    "              y=\"Annual CO₂ emissions (tonnes )\",\n",
    "              hover_name = 'Year',\n",
    "              hover_data=['Year','Annual CO₂ emissions (tonnes )'],\n",
    "              #color='Entity',\n",
    "              labels={'Year':'Year','Annual CO₂ emissions (tonnes )':'CO₂ Emission'},\n",
    "              height=600)\n",
    "fig.update_layout(title=\"Change in CO₂ Emission Between Years 1750 and 2017\",\n",
    "                  title_x=0.50)\n",
    "fig.update_layout(showlegend = False)\n",
    "fig.update(layout_coloraxis_showscale = True)\n",
    "fig.show()\n"
   ]
  },
  {
   "cell_type": "code",
   "execution_count": 29,
   "metadata": {},
   "outputs": [
    {
     "data": {
      "text/html": [
       "<div>\n",
       "<style scoped>\n",
       "    .dataframe tbody tr th:only-of-type {\n",
       "        vertical-align: middle;\n",
       "    }\n",
       "\n",
       "    .dataframe tbody tr th {\n",
       "        vertical-align: top;\n",
       "    }\n",
       "\n",
       "    .dataframe thead th {\n",
       "        text-align: right;\n",
       "    }\n",
       "</style>\n",
       "<table border=\"1\" class=\"dataframe\">\n",
       "  <thead>\n",
       "    <tr style=\"text-align: right;\">\n",
       "      <th></th>\n",
       "      <th>Entity</th>\n",
       "      <th>Region</th>\n",
       "      <th>Annual CO₂ emissions (tonnes )</th>\n",
       "    </tr>\n",
       "  </thead>\n",
       "  <tbody>\n",
       "    <tr>\n",
       "      <th>0</th>\n",
       "      <td>United States</td>\n",
       "      <td>Americas</td>\n",
       "      <td>3.993783e+11</td>\n",
       "    </tr>\n",
       "    <tr>\n",
       "      <th>1</th>\n",
       "      <td>China</td>\n",
       "      <td>Asia</td>\n",
       "      <td>2.001365e+11</td>\n",
       "    </tr>\n",
       "    <tr>\n",
       "      <th>2</th>\n",
       "      <td>Russia</td>\n",
       "      <td>Europe</td>\n",
       "      <td>1.005891e+11</td>\n",
       "    </tr>\n",
       "    <tr>\n",
       "      <th>3</th>\n",
       "      <td>Germany</td>\n",
       "      <td>Europe</td>\n",
       "      <td>9.056563e+10</td>\n",
       "    </tr>\n",
       "    <tr>\n",
       "      <th>4</th>\n",
       "      <td>United Kingdom</td>\n",
       "      <td>Europe</td>\n",
       "      <td>7.707106e+10</td>\n",
       "    </tr>\n",
       "    <tr>\n",
       "      <th>5</th>\n",
       "      <td>Japan</td>\n",
       "      <td>Asia</td>\n",
       "      <td>6.230461e+10</td>\n",
       "    </tr>\n",
       "    <tr>\n",
       "      <th>6</th>\n",
       "      <td>India</td>\n",
       "      <td>Asia</td>\n",
       "      <td>4.855786e+10</td>\n",
       "    </tr>\n",
       "  </tbody>\n",
       "</table>\n",
       "</div>"
      ],
      "text/plain": [
       "           Entity    Region  Annual CO₂ emissions (tonnes )\n",
       "0   United States  Americas                    3.993783e+11\n",
       "1           China      Asia                    2.001365e+11\n",
       "2          Russia    Europe                    1.005891e+11\n",
       "3         Germany    Europe                    9.056563e+10\n",
       "4  United Kingdom    Europe                    7.707106e+10\n",
       "5           Japan      Asia                    6.230461e+10\n",
       "6           India      Asia                    4.855786e+10"
      ]
     },
     "execution_count": 29,
     "metadata": {},
     "output_type": "execute_result"
    }
   ],
   "source": [
    "final = df_combination.groupby(['Region', 'Entity'])[\"Annual CO₂ emissions (tonnes )\"].sum()\n",
    "df_final = pd.DataFrame(final)\n",
    "df_final = df_final.sort_values('Annual CO₂ emissions (tonnes )', ascending = False)\n",
    "df_final.reset_index(level=0, inplace=True)\n",
    "df_final.reset_index(level=0, inplace=True)\n",
    "df_final.head(7)"
   ]
  },
  {
   "cell_type": "code",
   "execution_count": 32,
   "metadata": {},
   "outputs": [
    {
     "data": {
      "text/html": [
       "<div>\n",
       "<style scoped>\n",
       "    .dataframe tbody tr th:only-of-type {\n",
       "        vertical-align: middle;\n",
       "    }\n",
       "\n",
       "    .dataframe tbody tr th {\n",
       "        vertical-align: top;\n",
       "    }\n",
       "\n",
       "    .dataframe thead th {\n",
       "        text-align: right;\n",
       "    }\n",
       "</style>\n",
       "<table border=\"1\" class=\"dataframe\">\n",
       "  <thead>\n",
       "    <tr style=\"text-align: right;\">\n",
       "      <th></th>\n",
       "      <th>Entity</th>\n",
       "      <th>Population (2020)</th>\n",
       "      <th>Density (P/Km²)</th>\n",
       "      <th>Land Area (Km²)</th>\n",
       "    </tr>\n",
       "  </thead>\n",
       "  <tbody>\n",
       "    <tr>\n",
       "      <th>0</th>\n",
       "      <td>China</td>\n",
       "      <td>1440297825</td>\n",
       "      <td>153</td>\n",
       "      <td>9388211</td>\n",
       "    </tr>\n",
       "    <tr>\n",
       "      <th>1</th>\n",
       "      <td>India</td>\n",
       "      <td>1382345085</td>\n",
       "      <td>464</td>\n",
       "      <td>2973190</td>\n",
       "    </tr>\n",
       "    <tr>\n",
       "      <th>2</th>\n",
       "      <td>United States</td>\n",
       "      <td>331341050</td>\n",
       "      <td>36</td>\n",
       "      <td>9147420</td>\n",
       "    </tr>\n",
       "    <tr>\n",
       "      <th>3</th>\n",
       "      <td>Indonesia</td>\n",
       "      <td>274021604</td>\n",
       "      <td>151</td>\n",
       "      <td>1811570</td>\n",
       "    </tr>\n",
       "    <tr>\n",
       "      <th>4</th>\n",
       "      <td>Pakistan</td>\n",
       "      <td>221612785</td>\n",
       "      <td>287</td>\n",
       "      <td>770880</td>\n",
       "    </tr>\n",
       "  </tbody>\n",
       "</table>\n",
       "</div>"
      ],
      "text/plain": [
       "          Entity  Population (2020)  Density (P/Km²)  Land Area (Km²)\n",
       "0          China         1440297825              153          9388211\n",
       "1          India         1382345085              464          2973190\n",
       "2  United States          331341050               36          9147420\n",
       "3      Indonesia          274021604              151          1811570\n",
       "4       Pakistan          221612785              287           770880"
      ]
     },
     "execution_count": 32,
     "metadata": {},
     "output_type": "execute_result"
    }
   ],
   "source": [
    "df_population = pd.read_csv('Datasets\\population_by_country_2020.csv', usecols=[\"Country (or dependency)\", \"Population (2020)\", \"Density (P/Km²)\",\"Land Area (Km²)\"])\n",
    "df_population.rename(columns={'Country (or dependency)': 'Entity'}, inplace=True)\n",
    "df_population.head()"
   ]
  },
  {
   "cell_type": "code",
   "execution_count": 33,
   "metadata": {},
   "outputs": [
    {
     "name": "stdout",
     "output_type": "stream",
     "text": [
      "<class 'pandas.core.frame.DataFrame'>\n",
      "Int64Index: 223 entries, 0 to 222\n",
      "Data columns (total 6 columns):\n",
      " #   Column                          Non-Null Count  Dtype  \n",
      "---  ------                          --------------  -----  \n",
      " 0   Entity                          223 non-null    object \n",
      " 1   Region                          223 non-null    object \n",
      " 2   Annual CO₂ emissions (tonnes )  223 non-null    float64\n",
      " 3   Population (2020)               200 non-null    float64\n",
      " 4   Density (P/Km²)                 200 non-null    float64\n",
      " 5   Land Area (Km²)                 200 non-null    float64\n",
      "dtypes: float64(4), object(2)\n",
      "memory usage: 12.2+ KB\n"
     ]
    }
   ],
   "source": [
    "df_bubble =pd.merge(df_final, df_population, how='left', on='Entity')\n",
    "df_bubble.info()"
   ]
  },
  {
   "cell_type": "code",
   "execution_count": 34,
   "metadata": {},
   "outputs": [
    {
     "data": {
      "text/plain": [
       "Index(['Entity', 'Region', 'Annual CO₂ emissions (tonnes )',\n",
       "       'Population (2020)', 'Density (P/Km²)', 'Land Area (Km²)'],\n",
       "      dtype='object')"
      ]
     },
     "execution_count": 34,
     "metadata": {},
     "output_type": "execute_result"
    }
   ],
   "source": [
    "df_bubble.columns"
   ]
  },
  {
   "cell_type": "code",
   "execution_count": 35,
   "metadata": {},
   "outputs": [
    {
     "name": "stdout",
     "output_type": "stream",
     "text": [
      "<class 'pandas.core.series.Series'>\n"
     ]
    }
   ],
   "source": [
    "x=type(df_bubble['Land Area (Km²)'])\n",
    "print (x)"
   ]
  },
  {
   "cell_type": "code",
   "execution_count": 36,
   "metadata": {},
   "outputs": [
    {
     "name": "stdout",
     "output_type": "stream",
     "text": [
      "<class 'list'>\n"
     ]
    }
   ],
   "source": [
    "kx=df_bubble['Land Area (Km²)'].tolist()\n",
    "print(type(kx))\n",
    "\n",
    "kx=df_bubble.dropna"
   ]
  },
  {
   "cell_type": "code",
   "execution_count": 37,
   "metadata": {},
   "outputs": [
    {
     "data": {
      "application/vnd.plotly.v1+json": {
       "config": {
        "plotlyServerURL": "https://plot.ly"
       },
       "data": [
        {
         "customdata": [
          [
           "United States"
          ],
          [
           "China"
          ],
          [
           "Russia"
          ],
          [
           "Germany"
          ],
          [
           "United Kingdom"
          ],
          [
           "Japan"
          ],
          [
           "India"
          ],
          [
           "France"
          ],
          [
           "Canada"
          ],
          [
           "Poland"
          ],
          [
           "Ukraine"
          ],
          [
           "Italy"
          ],
          [
           "South Africa"
          ],
          [
           "Mexico"
          ],
          [
           "Australia"
          ],
          [
           "Iran"
          ],
          [
           "South Korea"
          ],
          [
           "Brazil"
          ],
          [
           "Spain"
          ],
          [
           "Saudi Arabia"
          ],
          [
           "Indonesia"
          ],
          [
           "Kazakhstan"
          ],
          [
           "Belgium"
          ],
          [
           "Netherlands"
          ],
          [
           "Czechoslovakia"
          ],
          [
           "Turkey"
          ],
          [
           "Romania"
          ],
          [
           "Czech Republic"
          ],
          [
           "Taiwan"
          ],
          [
           "Argentina"
          ],
          [
           "Venezuela"
          ],
          [
           "Thailand"
          ],
          [
           "Uzbekistan"
          ],
          [
           "Egypt"
          ],
          [
           "Austria"
          ],
          [
           "Malaysia"
          ],
          [
           "North Korea"
          ],
          [
           "Hungary"
          ],
          [
           "Sweden"
          ],
          [
           "Pakistan"
          ],
          [
           "United Arab Emirates"
          ],
          [
           "Algeria"
          ],
          [
           "Belarus"
          ],
          [
           "Denmark"
          ],
          [
           "Iraq"
          ],
          [
           "Greece"
          ],
          [
           "Bulgaria"
          ],
          [
           "Nigeria"
          ],
          [
           "Colombia"
          ],
          [
           "Finland"
          ],
          [
           "Vietnam"
          ],
          [
           "Philippines"
          ],
          [
           "Switzerland"
          ],
          [
           "Slovakia"
          ],
          [
           "Chile"
          ],
          [
           "Kuwait"
          ],
          [
           "Norway"
          ],
          [
           "Portugal"
          ],
          [
           "Azerbaijan"
          ],
          [
           "Serbia"
          ],
          [
           "Israel"
          ],
          [
           "Turkmenistan"
          ],
          [
           "Ireland"
          ],
          [
           "Libya"
          ],
          [
           "Singapore"
          ],
          [
           "Qatar"
          ],
          [
           "Peru"
          ],
          [
           "New Zealand"
          ],
          [
           "Syria"
          ],
          [
           "Cuba"
          ],
          [
           "Morocco"
          ],
          [
           "Hong Kong"
          ],
          [
           "Trinidad and Tobago"
          ],
          [
           "Bangladesh"
          ],
          [
           "Estonia"
          ],
          [
           "Ecuador"
          ],
          [
           "Oman"
          ],
          [
           "Lithuania"
          ],
          [
           "Croatia"
          ],
          [
           "Bosnia and Herzegovina"
          ],
          [
           "Bahrain"
          ],
          [
           "Tunisia"
          ],
          [
           "Slovenia"
          ],
          [
           "Luxembourg"
          ],
          [
           "Zimbabwe"
          ],
          [
           "Dominican Republic"
          ],
          [
           "Lebanon"
          ],
          [
           "Angola"
          ],
          [
           "Yemen"
          ],
          [
           "Latvia"
          ],
          [
           "Jordan"
          ],
          [
           "Georgia"
          ],
          [
           "Macedonia"
          ],
          [
           "Mongolia"
          ],
          [
           "Myanmar"
          ],
          [
           "Bolivia"
          ],
          [
           "Sri Lanka"
          ],
          [
           "Jamaica"
          ],
          [
           "Curacao"
          ],
          [
           "Kenya"
          ],
          [
           "Guatemala"
          ],
          [
           "Sudan"
          ],
          [
           "Uruguay"
          ],
          [
           "Brunei"
          ],
          [
           "Ghana"
          ],
          [
           "Cote d'Ivoire"
          ],
          [
           "Tajikistan"
          ],
          [
           "Albania"
          ],
          [
           "Armenia"
          ],
          [
           "Cyprus"
          ],
          [
           "Panama"
          ],
          [
           "Gabon"
          ],
          [
           "Costa Rica"
          ],
          [
           "Honduras"
          ],
          [
           "El Salvador"
          ],
          [
           "Ethiopia"
          ],
          [
           "Senegal"
          ],
          [
           "Tanzania"
          ],
          [
           "Cameroon"
          ],
          [
           "Democratic Republic of Republic of the Congo"
          ],
          [
           "Zambia"
          ],
          [
           "Kyrgyzstan"
          ],
          [
           "Afghanistan"
          ],
          [
           "Moldova"
          ],
          [
           "Mozambique"
          ],
          [
           "Nicaragua"
          ],
          [
           "Bahamas"
          ],
          [
           "Papua New Guinea"
          ],
          [
           "Paraguay"
          ],
          [
           "Iceland"
          ],
          [
           "New Caledonia"
          ],
          [
           "Botswana"
          ],
          [
           "Nepal"
          ],
          [
           "Montenegro"
          ],
          [
           "Cambodia"
          ],
          [
           "Suriname"
          ],
          [
           "Mauritius"
          ],
          [
           "Benin"
          ],
          [
           "Malta"
          ],
          [
           "Uganda"
          ],
          [
           "Equatorial Guinea"
          ],
          [
           "Reunion"
          ],
          [
           "Guyana"
          ],
          [
           "Madagascar"
          ],
          [
           "Guinea"
          ],
          [
           "Aruba"
          ],
          [
           "Republic of the Congo"
          ],
          [
           "Martinique"
          ],
          [
           "Haiti"
          ],
          [
           "Guadeloupe"
          ],
          [
           "Namibia"
          ],
          [
           "Mauritania"
          ],
          [
           "Togo"
          ],
          [
           "Lesotho"
          ],
          [
           "Macao"
          ],
          [
           "Barbados"
          ],
          [
           "Burkina Faso"
          ],
          [
           "Palestine"
          ],
          [
           "Liberia"
          ],
          [
           "Sint Maarten (Dutch part)"
          ],
          [
           "Fiji"
          ],
          [
           "Niger"
          ],
          [
           "Malawi"
          ],
          [
           "Laos"
          ],
          [
           "Sierra Leone"
          ],
          [
           "Swaziland"
          ],
          [
           "Mali"
          ],
          [
           "Somalia"
          ],
          [
           "Greenland"
          ],
          [
           "South Sudan"
          ],
          [
           "Faeroe Islands"
          ],
          [
           "French Polynesia"
          ],
          [
           "Bermuda"
          ],
          [
           "Rwanda"
          ],
          [
           "Antigua and Barbuda"
          ],
          [
           "French Guiana"
          ],
          [
           "Bonaire Sint Eustatius and Saba"
          ],
          [
           "Maldives"
          ],
          [
           "Djibouti"
          ],
          [
           "Belize"
          ],
          [
           "Eritrea"
          ],
          [
           "Seychelles"
          ],
          [
           "Chad"
          ],
          [
           "Cayman Islands"
          ],
          [
           "Bhutan"
          ],
          [
           "Andorra"
          ],
          [
           "Saint Lucia"
          ],
          [
           "Gambia"
          ],
          [
           "Cape Verde"
          ],
          [
           "Central African Republic"
          ],
          [
           "Gibraltar"
          ],
          [
           "Palau"
          ],
          [
           "Burundi"
          ],
          [
           "Guinea-Bissau"
          ],
          [
           "Grenada"
          ],
          [
           "Solomon Islands"
          ],
          [
           "Samoa"
          ],
          [
           "Saint Vincent and the Grenadines"
          ],
          [
           "Saint Kitts and Nevis"
          ],
          [
           "Falkland Islands"
          ],
          [
           "Timor"
          ],
          [
           "Nauru"
          ],
          [
           "British Virgin Islands"
          ],
          [
           "Vanuatu"
          ],
          [
           "Comoros"
          ],
          [
           "Tonga"
          ],
          [
           "Dominica"
          ],
          [
           "Saint Pierre and Miquelon"
          ],
          [
           "Micronesia (country)"
          ],
          [
           "Turks and Caicos Islands"
          ],
          [
           "Anguilla"
          ],
          [
           "Sao Tome and Principe"
          ],
          [
           "Marshall Islands"
          ],
          [
           "Cook Islands"
          ],
          [
           "Liechtenstein"
          ],
          [
           "Kiribati"
          ],
          [
           "Montserrat"
          ],
          [
           "Christmas Island"
          ],
          [
           "Wallis and Futuna Islands"
          ],
          [
           "Saint Helena"
          ],
          [
           "Niue"
          ],
          [
           "Tuvalu"
          ],
          [
           "Kyrgysztan"
          ]
         ],
         "hovertemplate": "<b>%{hovertext}</b><br><br>CO₂ Emission=%{x}<br>Population=%{y}<br>Country=%{customdata[0]}<br>Density=%{marker.color}<extra></extra>",
         "hovertext": [
          "United States",
          "China",
          "Russia",
          "Germany",
          "United Kingdom",
          "Japan",
          "India",
          "France",
          "Canada",
          "Poland",
          "Ukraine",
          "Italy",
          "South Africa",
          "Mexico",
          "Australia",
          "Iran",
          "South Korea",
          "Brazil",
          "Spain",
          "Saudi Arabia",
          "Indonesia",
          "Kazakhstan",
          "Belgium",
          "Netherlands",
          "Czechoslovakia",
          "Turkey",
          "Romania",
          "Czech Republic",
          "Taiwan",
          "Argentina",
          "Venezuela",
          "Thailand",
          "Uzbekistan",
          "Egypt",
          "Austria",
          "Malaysia",
          "North Korea",
          "Hungary",
          "Sweden",
          "Pakistan",
          "United Arab Emirates",
          "Algeria",
          "Belarus",
          "Denmark",
          "Iraq",
          "Greece",
          "Bulgaria",
          "Nigeria",
          "Colombia",
          "Finland",
          "Vietnam",
          "Philippines",
          "Switzerland",
          "Slovakia",
          "Chile",
          "Kuwait",
          "Norway",
          "Portugal",
          "Azerbaijan",
          "Serbia",
          "Israel",
          "Turkmenistan",
          "Ireland",
          "Libya",
          "Singapore",
          "Qatar",
          "Peru",
          "New Zealand",
          "Syria",
          "Cuba",
          "Morocco",
          "Hong Kong",
          "Trinidad and Tobago",
          "Bangladesh",
          "Estonia",
          "Ecuador",
          "Oman",
          "Lithuania",
          "Croatia",
          "Bosnia and Herzegovina",
          "Bahrain",
          "Tunisia",
          "Slovenia",
          "Luxembourg",
          "Zimbabwe",
          "Dominican Republic",
          "Lebanon",
          "Angola",
          "Yemen",
          "Latvia",
          "Jordan",
          "Georgia",
          "Macedonia",
          "Mongolia",
          "Myanmar",
          "Bolivia",
          "Sri Lanka",
          "Jamaica",
          "Curacao",
          "Kenya",
          "Guatemala",
          "Sudan",
          "Uruguay",
          "Brunei",
          "Ghana",
          "Cote d'Ivoire",
          "Tajikistan",
          "Albania",
          "Armenia",
          "Cyprus",
          "Panama",
          "Gabon",
          "Costa Rica",
          "Honduras",
          "El Salvador",
          "Ethiopia",
          "Senegal",
          "Tanzania",
          "Cameroon",
          "Democratic Republic of Republic of the Congo",
          "Zambia",
          "Kyrgyzstan",
          "Afghanistan",
          "Moldova",
          "Mozambique",
          "Nicaragua",
          "Bahamas",
          "Papua New Guinea",
          "Paraguay",
          "Iceland",
          "New Caledonia",
          "Botswana",
          "Nepal",
          "Montenegro",
          "Cambodia",
          "Suriname",
          "Mauritius",
          "Benin",
          "Malta",
          "Uganda",
          "Equatorial Guinea",
          "Reunion",
          "Guyana",
          "Madagascar",
          "Guinea",
          "Aruba",
          "Republic of the Congo",
          "Martinique",
          "Haiti",
          "Guadeloupe",
          "Namibia",
          "Mauritania",
          "Togo",
          "Lesotho",
          "Macao",
          "Barbados",
          "Burkina Faso",
          "Palestine",
          "Liberia",
          "Sint Maarten (Dutch part)",
          "Fiji",
          "Niger",
          "Malawi",
          "Laos",
          "Sierra Leone",
          "Swaziland",
          "Mali",
          "Somalia",
          "Greenland",
          "South Sudan",
          "Faeroe Islands",
          "French Polynesia",
          "Bermuda",
          "Rwanda",
          "Antigua and Barbuda",
          "French Guiana",
          "Bonaire Sint Eustatius and Saba",
          "Maldives",
          "Djibouti",
          "Belize",
          "Eritrea",
          "Seychelles",
          "Chad",
          "Cayman Islands",
          "Bhutan",
          "Andorra",
          "Saint Lucia",
          "Gambia",
          "Cape Verde",
          "Central African Republic",
          "Gibraltar",
          "Palau",
          "Burundi",
          "Guinea-Bissau",
          "Grenada",
          "Solomon Islands",
          "Samoa",
          "Saint Vincent and the Grenadines",
          "Saint Kitts and Nevis",
          "Falkland Islands",
          "Timor",
          "Nauru",
          "British Virgin Islands",
          "Vanuatu",
          "Comoros",
          "Tonga",
          "Dominica",
          "Saint Pierre and Miquelon",
          "Micronesia (country)",
          "Turks and Caicos Islands",
          "Anguilla",
          "Sao Tome and Principe",
          "Marshall Islands",
          "Cook Islands",
          "Liechtenstein",
          "Kiribati",
          "Montserrat",
          "Christmas Island",
          "Wallis and Futuna Islands",
          "Saint Helena",
          "Niue",
          "Tuvalu",
          "Kyrgysztan"
         ],
         "legendgroup": "",
         "marker": {
          "color": [
           5.20945336562895,
           7.266786540694901,
           3.321928094887362,
           7.912889336229962,
           8.139551352398794,
           8.442943495848729,
           8.861086905995395,
           6.906890595608519,
           2.321928094887362,
           6.965784284662087,
           6.247927513443585,
           7.693486957499325,
           5.643856189774724,
           6.066089190457772,
           2,
           5.727920454563199,
           9.044394119358454,
           4.700439718141093,
           6.569855608330948,
           4.087462841250339,
           7.247927513443585,
           3,
           8.584962500721156,
           8.991521846075695,
           null,
           6.794415866350106,
           6.409390936137702,
           null,
           9.396604781181859,
           4.169925001442312,
           5.044394119358453,
           7.108524456778169,
           6.321928094887363,
           6.700439718141093,
           6.78135971352466,
           6.643856189774724,
           7.7481928495894605,
           6.754887502163468,
           4.700439718141093,
           8.169925001442312,
           6.894817763307944,
           4.247927513443585,
           5.584962500721156,
           7.108524456778169,
           6.554588851677638,
           6.357552004618084,
           6.022367813028454,
           7.826548487290915,
           5.554588851677638,
           4.247927513443585,
           8.29920801838728,
           8.527477006060396,
           7.78135971352466,
           6.845490050944376,
           4.754887502163468,
           7.912889336229962,
           4,
           6.807354922057604,
           6.954196310386875,
           6.658211482751795,
           8.64745842645492,
           3.807354922057604,
           6.189824558880018,
           2.321928094887362,
           13.02911464546904,
           7.9600019320680815,
           4.754887502163468,
           4.247927513443585,
           6.584962500721156,
           6.7414669864011465,
           6.392317422778761,
           12.80191040289703,
           8.098032082960527,
           10.306061689428342,
           5,
           6.169925001442312,
           4.087462841250339,
           5.459431618637297,
           6.20945336562895,
           6.022367813028454,
           11.129283016944967,
           6.266786540694901,
           6.700439718141093,
           7.92481250360578,
           5.285402218862249,
           7.820178962415188,
           9.383704292474052,
           4.754887502163468,
           5.832890014164741,
           4.954196310386875,
           6.857980995127572,
           5.857980995127572,
           null,
           1.584962500721156,
           6.392317422778761,
           3.584962500721156,
           8.417852514885897,
           8.098032082960527,
           null,
           6.569855608330948,
           7.392317422778761,
           4.700439718141093,
           4.392317422778761,
           6.392317422778761,
           7.108524456778169,
           null,
           6.108524456778169,
           6.727920454563199,
           6.714245517666122,
           7.044394119358453,
           5.882643049361842,
           3.321928094887362,
           6.658211482751795,
           6.491853096329675,
           8.294620748891628,
           6.857980995127572,
           6.459431618637297,
           6.087462841250339,
           5.832890014164741,
           null,
           4.700439718141093,
           5.129283016944966,
           5.930737337562887,
           6.954196310386875,
           5.357552004618084,
           5.807354922057604,
           5.321928094887363,
           4.392317422778761,
           4.247927513443585,
           2,
           4.087462841250339,
           2.321928094887362,
           7.672425341971495,
           5.584962500721156,
           6.584962500721156,
           2.321928094887362,
           9.29232163280204,
           6.768184324776926,
           10.43149760425805,
           7.845490050944376,
           5.672425341971495,
           null,
           2.321928094887362,
           5.614709844115208,
           5.754887502163468,
           9.214319120800766,
           null,
           8.471675214392045,
           8.696967526234287,
           7.894817763307944,
           2,
           2.584962500721156,
           7.257387842692652,
           6.169925001442312,
           14.40181283113763,
           9.38586240064146,
           6.266786540694901,
           null,
           5.754887502163468,
           null,
           5.643856189774724,
           4.321928094887363,
           7.672425341971495,
           5.044394119358453,
           6.807354922057604,
           null,
           4.169925001442312,
           4.700439718141093,
           0,
           4.247927513443585,
           5.169925001442312,
           6.285402218862249,
           10.28424574982967,
           9.038918989292302,
           7.807354922057604,
           2.321928094887362,
           null,
           10.816183681432342,
           5.459431618637297,
           4.169925001442312,
           5.169925001442312,
           7.7481928495894605,
           3.807354922057604,
           8.103287808412022,
           4.392317422778761,
           7.366322214245816,
           8.238404739325079,
           7.906890595608519,
           null,
           3.169925001442312,
           11.71853287606922,
           5.321928094887363,
           8.857980995127573,
           6.149747119504682,
           8.375039431346925,
           4.700439718141093,
           6.149747119504682,
           null,
           null,
           0,
           null,
           9.08214904135387,
           7.6653359171851765,
           4.700439718141093,
           8.870364719583405,
           7.20945336562895,
           6.599912842187128,
           null,
           null,
           null,
           7.392317422778761,
           null,
           8.366322214245816,
           6.20945336562895,
           7.900866807980749,
           7.20945336562895,
           5.672425341971495,
           null,
           null,
           4.087462841250339,
           2.807354922057604,
           8.622051819456376,
           null
          ],
          "coloraxis": "coloraxis",
          "symbol": "circle"
         },
         "mode": "markers",
         "name": "",
         "orientation": "v",
         "showlegend": false,
         "type": "scatter",
         "x": [
          399378341401,
          200136494086.1,
          100589103946.5,
          90565630028.3,
          77071055648.4,
          62304608196.8,
          48557863280.5,
          37768075471.6,
          31913521876.4,
          26848816401.5,
          25796386297.1,
          23645999964.04,
          19787369761.82,
          18971469004.74,
          17360810554.86,
          16585684216.5,
          15786618228.53,
          14190905219.76,
          14136085451.68,
          13843617871.16,
          12430271015.7,
          12300616895,
          12257548524.29,
          11308449554.73,
          11241448784,
          9602486274.14,
          8323783409.42,
          8321584468.18,
          8050965636.82,
          7977373398.24,
          7572615003.09,
          7013231542.03,
          6034285830.25,
          5561231355.77,
          5303713347.16,
          5181419716.84,
          4966052271.32,
          4870991389.84,
          4858725461.04,
          4360589827.17,
          4154728972.86,
          4107869896.13,
          4058119852.1,
          3991753370.45,
          3984084086.86,
          3884493460.24,
          3703285888.57,
          3372735176.54,
          3110040938.78,
          3065528408.32,
          3016099138.38,
          2959759692.42,
          2918791195.06,
          2730069465.7,
          2657499285.1,
          2627361838.99,
          2585216440.64,
          2476694775.57,
          2471780321.52,
          2381789223.74,
          2221239489.27,
          2183172084.73,
          2112667063.74,
          1951955718.13,
          1936584508.46,
          1878554596.22,
          1857299523.92,
          1779162163.71,
          1762385573.23,
          1656996984.29,
          1589225045.95,
          1508760365.22,
          1455796377.57,
          1361147179.94,
          1147762305.99,
          1100685365.05,
          1071493410.39,
          1015509983.31,
          981746998.44,
          839470358.0699999,
          826530053.77,
          808028625.71,
          756184328.39,
          725159606.54,
          701987856.04,
          666238637.93,
          634652476.46,
          623762311,
          619432762.91,
          618492627.48,
          614829331.14,
          593121175.85,
          561863099.22,
          536837014.38,
          509541651.38,
          461310418.1,
          436284059.17,
          424398054.16,
          416123736.94,
          410113224.27,
          404420204.69,
          353794292.86,
          353071941.93,
          335970645.04,
          316321491.28,
          303413162.84,
          287463209.67,
          277278189.22,
          273731871.65,
          270926136.57,
          270033081.51,
          245703654.03,
          231692588.72,
          229623078.07999998,
          213279980.32,
          207190474.39,
          203790993.12,
          203638081.93,
          194766283.6,
          191683278.72,
          187368599.78,
          181734180.22,
          178502924.77,
          175514617.05,
          163105097.58,
          160721076.63,
          157456745.29999998,
          152482152.43,
          150098367.67,
          141492955.56,
          133507791.92,
          131552447.39,
          115699603.45,
          109622459.23,
          105225246.98,
          104379604.54,
          102339736.66,
          98792203.59,
          97461274.56,
          95059160.01,
          92146727.45,
          90324928,
          89660737.5,
          83638600.31,
          77269714.08,
          74231826.56,
          70573384.4,
          70172928,
          69042835.51,
          66083904,
          63941324.82,
          63673149.28,
          62673115.9,
          56424722.31,
          51947913.44,
          51506565.019999996,
          50218080.94,
          48304339.97,
          47905144.32,
          46502952.71,
          45160830.03,
          44106012.93,
          43051513.27,
          36077734.88,
          35859968.78,
          35288300.1,
          33149434.39,
          31190567.7,
          30246492.84,
          29721726.88,
          28545339.56,
          27182548.02,
          27146704.26,
          25185419.38,
          21756717.08,
          21361120,
          20786824.02,
          19836856.51,
          19174274.46,
          17162217.12,
          16336482.58,
          14863511.05,
          14410060.55,
          14062432,
          13762669.88,
          13717377.28,
          12036657.41,
          12030970.74,
          11572647.4,
          11448062.13,
          11380384,
          11012244.95,
          10728249.8,
          9228085.54,
          7332340.49,
          7165127.22,
          6445614.36,
          6228123.09,
          5660324.69,
          4785184,
          4729565.89,
          4678403.16,
          4416723.65,
          4315060.06,
          4221082.02,
          3965652.34,
          3921840.48,
          3596641.56,
          3401355.2,
          3318276.17,
          3040078.33,
          2954819.58,
          2266040.04,
          2044872.31,
          2000665.44,
          1913894.59,
          1539754.12,
          1330032,
          429573.15,
          346308.79,
          271578.58,
          256922.58000000002,
          0
         ],
         "xaxis": "x",
         "y": [
          331341050,
          1440297825,
          145945524,
          83830972,
          67948282,
          126407422,
          1382345085,
          65298930,
          37799407,
          37839255,
          43686577,
          60446035,
          59436725,
          129166028,
          25550683,
          84176929,
          51276977,
          212821986,
          46757980,
          34905942,
          274021604,
          18815231,
          11598451,
          17141544,
          null,
          84495243,
          19214608,
          null,
          23824369,
          45267449,
          28421581,
          69830779,
          33551824,
          102659126,
          9015361,
          32436963,
          25798588,
          9655983,
          10110233,
          221612785,
          9910892,
          43984569,
          9448772,
          5795780,
          40372771,
          10413936,
          6939018,
          206984347,
          50976248,
          5542237,
          97490013,
          109830324,
          8665615,
          5460109,
          19144605,
          4281320,
          5428594,
          10191409,
          10154978,
          8731081,
          8678517,
          6046292,
          4947267,
          6887247,
          5858322,
          2889284,
          33050211,
          4829021,
          17571053,
          11325391,
          36985624,
          7507523,
          1400283,
          164972348,
          1326693,
          17688599,
          5128058,
          2715340,
          4100719,
          3277152,
          1711057,
          11839918,
          2078989,
          627704,
          14899771,
          10866667,
          6819976,
          33032075,
          29935468,
          1882408,
          10220604,
          3987805,
          null,
          3287242,
          54473253,
          11700207,
          21428970,
          2963429,
          null,
          53968739,
          17971382,
          44019263,
          3475842,
          438202,
          31181428,
          null,
          9573310,
          2877239,
          2964219,
          1208886,
          4326296,
          2234448,
          5102158,
          9931333,
          6491923,
          115434444,
          16816539,
          60012400,
          26655083,
          null,
          18468257,
          6542426,
          39074280,
          4032294,
          31398811,
          6638075,
          393893,
          8975531,
          7147553,
          341628,
          285972,
          2359585,
          29225196,
          628080,
          16758448,
          587541,
          1272140,
          12175480,
          441750,
          45974931,
          1410419,
          null,
          787215,
          27808395,
          13191279,
          106845,
          null,
          375213,
          11426356,
          400136,
          2548663,
          4669775,
          8310934,
          2145194,
          650846,
          287437,
          20997293,
          null,
          5077411,
          null,
          897573,
          24346468,
          19211425,
          7293542,
          8004158,
          null,
          20346106,
          15965848,
          56787,
          11216250,
          48896,
          281191,
          62237,
          13005303,
          98069,
          299958,
          null,
          542151,
          990447,
          398845,
          3554797,
          98453,
          16502877,
          65854,
          773069,
          77287,
          183774,
          2427782,
          null,
          4843954,
          33689,
          18109,
          11948454,
          1975718,
          112614,
          689671,
          198643,
          null,
          null,
          3497,
          null,
          10836,
          30266,
          308337,
          872695,
          105901,
          72017,
          null,
          null,
          null,
          15026,
          null,
          59259,
          17567,
          38147,
          119760,
          4993,
          null,
          null,
          6080,
          1628,
          11817,
          null
         ],
         "yaxis": "y"
        }
       ],
       "layout": {
        "coloraxis": {
         "colorbar": {
          "title": {
           "text": "Density"
          }
         },
         "colorscale": [
          [
           0,
           "rgb(0, 147, 146)"
          ],
          [
           0.16666666666666666,
           "rgb(57, 177, 133)"
          ],
          [
           0.3333333333333333,
           "rgb(156, 203, 134)"
          ],
          [
           0.5,
           "rgb(233, 226, 156)"
          ],
          [
           0.6666666666666666,
           "rgb(238, 180, 121)"
          ],
          [
           0.8333333333333334,
           "rgb(232, 132, 113)"
          ],
          [
           1,
           "rgb(207, 89, 126)"
          ]
         ]
        },
        "legend": {
         "tracegroupgap": 0
        },
        "margin": {
         "t": 60
        },
        "template": {
         "data": {
          "bar": [
           {
            "error_x": {
             "color": "#2a3f5f"
            },
            "error_y": {
             "color": "#2a3f5f"
            },
            "marker": {
             "line": {
              "color": "#E5ECF6",
              "width": 0.5
             },
             "pattern": {
              "fillmode": "overlay",
              "size": 10,
              "solidity": 0.2
             }
            },
            "type": "bar"
           }
          ],
          "barpolar": [
           {
            "marker": {
             "line": {
              "color": "#E5ECF6",
              "width": 0.5
             },
             "pattern": {
              "fillmode": "overlay",
              "size": 10,
              "solidity": 0.2
             }
            },
            "type": "barpolar"
           }
          ],
          "carpet": [
           {
            "aaxis": {
             "endlinecolor": "#2a3f5f",
             "gridcolor": "white",
             "linecolor": "white",
             "minorgridcolor": "white",
             "startlinecolor": "#2a3f5f"
            },
            "baxis": {
             "endlinecolor": "#2a3f5f",
             "gridcolor": "white",
             "linecolor": "white",
             "minorgridcolor": "white",
             "startlinecolor": "#2a3f5f"
            },
            "type": "carpet"
           }
          ],
          "choropleth": [
           {
            "colorbar": {
             "outlinewidth": 0,
             "ticks": ""
            },
            "type": "choropleth"
           }
          ],
          "contour": [
           {
            "colorbar": {
             "outlinewidth": 0,
             "ticks": ""
            },
            "colorscale": [
             [
              0,
              "#0d0887"
             ],
             [
              0.1111111111111111,
              "#46039f"
             ],
             [
              0.2222222222222222,
              "#7201a8"
             ],
             [
              0.3333333333333333,
              "#9c179e"
             ],
             [
              0.4444444444444444,
              "#bd3786"
             ],
             [
              0.5555555555555556,
              "#d8576b"
             ],
             [
              0.6666666666666666,
              "#ed7953"
             ],
             [
              0.7777777777777778,
              "#fb9f3a"
             ],
             [
              0.8888888888888888,
              "#fdca26"
             ],
             [
              1,
              "#f0f921"
             ]
            ],
            "type": "contour"
           }
          ],
          "contourcarpet": [
           {
            "colorbar": {
             "outlinewidth": 0,
             "ticks": ""
            },
            "type": "contourcarpet"
           }
          ],
          "heatmap": [
           {
            "colorbar": {
             "outlinewidth": 0,
             "ticks": ""
            },
            "colorscale": [
             [
              0,
              "#0d0887"
             ],
             [
              0.1111111111111111,
              "#46039f"
             ],
             [
              0.2222222222222222,
              "#7201a8"
             ],
             [
              0.3333333333333333,
              "#9c179e"
             ],
             [
              0.4444444444444444,
              "#bd3786"
             ],
             [
              0.5555555555555556,
              "#d8576b"
             ],
             [
              0.6666666666666666,
              "#ed7953"
             ],
             [
              0.7777777777777778,
              "#fb9f3a"
             ],
             [
              0.8888888888888888,
              "#fdca26"
             ],
             [
              1,
              "#f0f921"
             ]
            ],
            "type": "heatmap"
           }
          ],
          "heatmapgl": [
           {
            "colorbar": {
             "outlinewidth": 0,
             "ticks": ""
            },
            "colorscale": [
             [
              0,
              "#0d0887"
             ],
             [
              0.1111111111111111,
              "#46039f"
             ],
             [
              0.2222222222222222,
              "#7201a8"
             ],
             [
              0.3333333333333333,
              "#9c179e"
             ],
             [
              0.4444444444444444,
              "#bd3786"
             ],
             [
              0.5555555555555556,
              "#d8576b"
             ],
             [
              0.6666666666666666,
              "#ed7953"
             ],
             [
              0.7777777777777778,
              "#fb9f3a"
             ],
             [
              0.8888888888888888,
              "#fdca26"
             ],
             [
              1,
              "#f0f921"
             ]
            ],
            "type": "heatmapgl"
           }
          ],
          "histogram": [
           {
            "marker": {
             "pattern": {
              "fillmode": "overlay",
              "size": 10,
              "solidity": 0.2
             }
            },
            "type": "histogram"
           }
          ],
          "histogram2d": [
           {
            "colorbar": {
             "outlinewidth": 0,
             "ticks": ""
            },
            "colorscale": [
             [
              0,
              "#0d0887"
             ],
             [
              0.1111111111111111,
              "#46039f"
             ],
             [
              0.2222222222222222,
              "#7201a8"
             ],
             [
              0.3333333333333333,
              "#9c179e"
             ],
             [
              0.4444444444444444,
              "#bd3786"
             ],
             [
              0.5555555555555556,
              "#d8576b"
             ],
             [
              0.6666666666666666,
              "#ed7953"
             ],
             [
              0.7777777777777778,
              "#fb9f3a"
             ],
             [
              0.8888888888888888,
              "#fdca26"
             ],
             [
              1,
              "#f0f921"
             ]
            ],
            "type": "histogram2d"
           }
          ],
          "histogram2dcontour": [
           {
            "colorbar": {
             "outlinewidth": 0,
             "ticks": ""
            },
            "colorscale": [
             [
              0,
              "#0d0887"
             ],
             [
              0.1111111111111111,
              "#46039f"
             ],
             [
              0.2222222222222222,
              "#7201a8"
             ],
             [
              0.3333333333333333,
              "#9c179e"
             ],
             [
              0.4444444444444444,
              "#bd3786"
             ],
             [
              0.5555555555555556,
              "#d8576b"
             ],
             [
              0.6666666666666666,
              "#ed7953"
             ],
             [
              0.7777777777777778,
              "#fb9f3a"
             ],
             [
              0.8888888888888888,
              "#fdca26"
             ],
             [
              1,
              "#f0f921"
             ]
            ],
            "type": "histogram2dcontour"
           }
          ],
          "mesh3d": [
           {
            "colorbar": {
             "outlinewidth": 0,
             "ticks": ""
            },
            "type": "mesh3d"
           }
          ],
          "parcoords": [
           {
            "line": {
             "colorbar": {
              "outlinewidth": 0,
              "ticks": ""
             }
            },
            "type": "parcoords"
           }
          ],
          "pie": [
           {
            "automargin": true,
            "type": "pie"
           }
          ],
          "scatter": [
           {
            "marker": {
             "colorbar": {
              "outlinewidth": 0,
              "ticks": ""
             }
            },
            "type": "scatter"
           }
          ],
          "scatter3d": [
           {
            "line": {
             "colorbar": {
              "outlinewidth": 0,
              "ticks": ""
             }
            },
            "marker": {
             "colorbar": {
              "outlinewidth": 0,
              "ticks": ""
             }
            },
            "type": "scatter3d"
           }
          ],
          "scattercarpet": [
           {
            "marker": {
             "colorbar": {
              "outlinewidth": 0,
              "ticks": ""
             }
            },
            "type": "scattercarpet"
           }
          ],
          "scattergeo": [
           {
            "marker": {
             "colorbar": {
              "outlinewidth": 0,
              "ticks": ""
             }
            },
            "type": "scattergeo"
           }
          ],
          "scattergl": [
           {
            "marker": {
             "colorbar": {
              "outlinewidth": 0,
              "ticks": ""
             }
            },
            "type": "scattergl"
           }
          ],
          "scattermapbox": [
           {
            "marker": {
             "colorbar": {
              "outlinewidth": 0,
              "ticks": ""
             }
            },
            "type": "scattermapbox"
           }
          ],
          "scatterpolar": [
           {
            "marker": {
             "colorbar": {
              "outlinewidth": 0,
              "ticks": ""
             }
            },
            "type": "scatterpolar"
           }
          ],
          "scatterpolargl": [
           {
            "marker": {
             "colorbar": {
              "outlinewidth": 0,
              "ticks": ""
             }
            },
            "type": "scatterpolargl"
           }
          ],
          "scatterternary": [
           {
            "marker": {
             "colorbar": {
              "outlinewidth": 0,
              "ticks": ""
             }
            },
            "type": "scatterternary"
           }
          ],
          "surface": [
           {
            "colorbar": {
             "outlinewidth": 0,
             "ticks": ""
            },
            "colorscale": [
             [
              0,
              "#0d0887"
             ],
             [
              0.1111111111111111,
              "#46039f"
             ],
             [
              0.2222222222222222,
              "#7201a8"
             ],
             [
              0.3333333333333333,
              "#9c179e"
             ],
             [
              0.4444444444444444,
              "#bd3786"
             ],
             [
              0.5555555555555556,
              "#d8576b"
             ],
             [
              0.6666666666666666,
              "#ed7953"
             ],
             [
              0.7777777777777778,
              "#fb9f3a"
             ],
             [
              0.8888888888888888,
              "#fdca26"
             ],
             [
              1,
              "#f0f921"
             ]
            ],
            "type": "surface"
           }
          ],
          "table": [
           {
            "cells": {
             "fill": {
              "color": "#EBF0F8"
             },
             "line": {
              "color": "white"
             }
            },
            "header": {
             "fill": {
              "color": "#C8D4E3"
             },
             "line": {
              "color": "white"
             }
            },
            "type": "table"
           }
          ]
         },
         "layout": {
          "annotationdefaults": {
           "arrowcolor": "#2a3f5f",
           "arrowhead": 0,
           "arrowwidth": 1
          },
          "autotypenumbers": "strict",
          "coloraxis": {
           "colorbar": {
            "outlinewidth": 0,
            "ticks": ""
           }
          },
          "colorscale": {
           "diverging": [
            [
             0,
             "#8e0152"
            ],
            [
             0.1,
             "#c51b7d"
            ],
            [
             0.2,
             "#de77ae"
            ],
            [
             0.3,
             "#f1b6da"
            ],
            [
             0.4,
             "#fde0ef"
            ],
            [
             0.5,
             "#f7f7f7"
            ],
            [
             0.6,
             "#e6f5d0"
            ],
            [
             0.7,
             "#b8e186"
            ],
            [
             0.8,
             "#7fbc41"
            ],
            [
             0.9,
             "#4d9221"
            ],
            [
             1,
             "#276419"
            ]
           ],
           "sequential": [
            [
             0,
             "#0d0887"
            ],
            [
             0.1111111111111111,
             "#46039f"
            ],
            [
             0.2222222222222222,
             "#7201a8"
            ],
            [
             0.3333333333333333,
             "#9c179e"
            ],
            [
             0.4444444444444444,
             "#bd3786"
            ],
            [
             0.5555555555555556,
             "#d8576b"
            ],
            [
             0.6666666666666666,
             "#ed7953"
            ],
            [
             0.7777777777777778,
             "#fb9f3a"
            ],
            [
             0.8888888888888888,
             "#fdca26"
            ],
            [
             1,
             "#f0f921"
            ]
           ],
           "sequentialminus": [
            [
             0,
             "#0d0887"
            ],
            [
             0.1111111111111111,
             "#46039f"
            ],
            [
             0.2222222222222222,
             "#7201a8"
            ],
            [
             0.3333333333333333,
             "#9c179e"
            ],
            [
             0.4444444444444444,
             "#bd3786"
            ],
            [
             0.5555555555555556,
             "#d8576b"
            ],
            [
             0.6666666666666666,
             "#ed7953"
            ],
            [
             0.7777777777777778,
             "#fb9f3a"
            ],
            [
             0.8888888888888888,
             "#fdca26"
            ],
            [
             1,
             "#f0f921"
            ]
           ]
          },
          "colorway": [
           "#636efa",
           "#EF553B",
           "#00cc96",
           "#ab63fa",
           "#FFA15A",
           "#19d3f3",
           "#FF6692",
           "#B6E880",
           "#FF97FF",
           "#FECB52"
          ],
          "font": {
           "color": "#2a3f5f"
          },
          "geo": {
           "bgcolor": "white",
           "lakecolor": "white",
           "landcolor": "#E5ECF6",
           "showlakes": true,
           "showland": true,
           "subunitcolor": "white"
          },
          "hoverlabel": {
           "align": "left"
          },
          "hovermode": "closest",
          "mapbox": {
           "style": "light"
          },
          "paper_bgcolor": "white",
          "plot_bgcolor": "#E5ECF6",
          "polar": {
           "angularaxis": {
            "gridcolor": "white",
            "linecolor": "white",
            "ticks": ""
           },
           "bgcolor": "#E5ECF6",
           "radialaxis": {
            "gridcolor": "white",
            "linecolor": "white",
            "ticks": ""
           }
          },
          "scene": {
           "xaxis": {
            "backgroundcolor": "#E5ECF6",
            "gridcolor": "white",
            "gridwidth": 2,
            "linecolor": "white",
            "showbackground": true,
            "ticks": "",
            "zerolinecolor": "white"
           },
           "yaxis": {
            "backgroundcolor": "#E5ECF6",
            "gridcolor": "white",
            "gridwidth": 2,
            "linecolor": "white",
            "showbackground": true,
            "ticks": "",
            "zerolinecolor": "white"
           },
           "zaxis": {
            "backgroundcolor": "#E5ECF6",
            "gridcolor": "white",
            "gridwidth": 2,
            "linecolor": "white",
            "showbackground": true,
            "ticks": "",
            "zerolinecolor": "white"
           }
          },
          "shapedefaults": {
           "line": {
            "color": "#2a3f5f"
           }
          },
          "ternary": {
           "aaxis": {
            "gridcolor": "white",
            "linecolor": "white",
            "ticks": ""
           },
           "baxis": {
            "gridcolor": "white",
            "linecolor": "white",
            "ticks": ""
           },
           "bgcolor": "#E5ECF6",
           "caxis": {
            "gridcolor": "white",
            "linecolor": "white",
            "ticks": ""
           }
          },
          "title": {
           "x": 0.05
          },
          "xaxis": {
           "automargin": true,
           "gridcolor": "white",
           "linecolor": "white",
           "ticks": "",
           "title": {
            "standoff": 15
           },
           "zerolinecolor": "white",
           "zerolinewidth": 2
          },
          "yaxis": {
           "automargin": true,
           "gridcolor": "white",
           "linecolor": "white",
           "ticks": "",
           "title": {
            "standoff": 15
           },
           "zerolinecolor": "white",
           "zerolinewidth": 2
          }
         }
        },
        "title": {
         "text": "Population v. CO2 Emission, 2020",
         "x": 0.5
        },
        "xaxis": {
         "anchor": "y",
         "domain": [
          0,
          1
         ],
         "title": {
          "text": "CO₂ Emission"
         },
         "type": "log"
        },
        "yaxis": {
         "anchor": "x",
         "domain": [
          0,
          1
         ],
         "title": {
          "text": "Population"
         },
         "type": "log"
        }
       }
      },
      "text/html": [
       "<div>                            <div id=\"f8725fcc-200c-4c17-9454-59ef0509d25b\" class=\"plotly-graph-div\" style=\"height:525px; width:100%;\"></div>            <script type=\"text/javascript\">                require([\"plotly\"], function(Plotly) {                    window.PLOTLYENV=window.PLOTLYENV || {};                                    if (document.getElementById(\"f8725fcc-200c-4c17-9454-59ef0509d25b\")) {                    Plotly.newPlot(                        \"f8725fcc-200c-4c17-9454-59ef0509d25b\",                        [{\"customdata\":[[\"United States\"],[\"China\"],[\"Russia\"],[\"Germany\"],[\"United Kingdom\"],[\"Japan\"],[\"India\"],[\"France\"],[\"Canada\"],[\"Poland\"],[\"Ukraine\"],[\"Italy\"],[\"South Africa\"],[\"Mexico\"],[\"Australia\"],[\"Iran\"],[\"South Korea\"],[\"Brazil\"],[\"Spain\"],[\"Saudi Arabia\"],[\"Indonesia\"],[\"Kazakhstan\"],[\"Belgium\"],[\"Netherlands\"],[\"Czechoslovakia\"],[\"Turkey\"],[\"Romania\"],[\"Czech Republic\"],[\"Taiwan\"],[\"Argentina\"],[\"Venezuela\"],[\"Thailand\"],[\"Uzbekistan\"],[\"Egypt\"],[\"Austria\"],[\"Malaysia\"],[\"North Korea\"],[\"Hungary\"],[\"Sweden\"],[\"Pakistan\"],[\"United Arab Emirates\"],[\"Algeria\"],[\"Belarus\"],[\"Denmark\"],[\"Iraq\"],[\"Greece\"],[\"Bulgaria\"],[\"Nigeria\"],[\"Colombia\"],[\"Finland\"],[\"Vietnam\"],[\"Philippines\"],[\"Switzerland\"],[\"Slovakia\"],[\"Chile\"],[\"Kuwait\"],[\"Norway\"],[\"Portugal\"],[\"Azerbaijan\"],[\"Serbia\"],[\"Israel\"],[\"Turkmenistan\"],[\"Ireland\"],[\"Libya\"],[\"Singapore\"],[\"Qatar\"],[\"Peru\"],[\"New Zealand\"],[\"Syria\"],[\"Cuba\"],[\"Morocco\"],[\"Hong Kong\"],[\"Trinidad and Tobago\"],[\"Bangladesh\"],[\"Estonia\"],[\"Ecuador\"],[\"Oman\"],[\"Lithuania\"],[\"Croatia\"],[\"Bosnia and Herzegovina\"],[\"Bahrain\"],[\"Tunisia\"],[\"Slovenia\"],[\"Luxembourg\"],[\"Zimbabwe\"],[\"Dominican Republic\"],[\"Lebanon\"],[\"Angola\"],[\"Yemen\"],[\"Latvia\"],[\"Jordan\"],[\"Georgia\"],[\"Macedonia\"],[\"Mongolia\"],[\"Myanmar\"],[\"Bolivia\"],[\"Sri Lanka\"],[\"Jamaica\"],[\"Curacao\"],[\"Kenya\"],[\"Guatemala\"],[\"Sudan\"],[\"Uruguay\"],[\"Brunei\"],[\"Ghana\"],[\"Cote d'Ivoire\"],[\"Tajikistan\"],[\"Albania\"],[\"Armenia\"],[\"Cyprus\"],[\"Panama\"],[\"Gabon\"],[\"Costa Rica\"],[\"Honduras\"],[\"El Salvador\"],[\"Ethiopia\"],[\"Senegal\"],[\"Tanzania\"],[\"Cameroon\"],[\"Democratic Republic of Republic of the Congo\"],[\"Zambia\"],[\"Kyrgyzstan\"],[\"Afghanistan\"],[\"Moldova\"],[\"Mozambique\"],[\"Nicaragua\"],[\"Bahamas\"],[\"Papua New Guinea\"],[\"Paraguay\"],[\"Iceland\"],[\"New Caledonia\"],[\"Botswana\"],[\"Nepal\"],[\"Montenegro\"],[\"Cambodia\"],[\"Suriname\"],[\"Mauritius\"],[\"Benin\"],[\"Malta\"],[\"Uganda\"],[\"Equatorial Guinea\"],[\"Reunion\"],[\"Guyana\"],[\"Madagascar\"],[\"Guinea\"],[\"Aruba\"],[\"Republic of the Congo\"],[\"Martinique\"],[\"Haiti\"],[\"Guadeloupe\"],[\"Namibia\"],[\"Mauritania\"],[\"Togo\"],[\"Lesotho\"],[\"Macao\"],[\"Barbados\"],[\"Burkina Faso\"],[\"Palestine\"],[\"Liberia\"],[\"Sint Maarten (Dutch part)\"],[\"Fiji\"],[\"Niger\"],[\"Malawi\"],[\"Laos\"],[\"Sierra Leone\"],[\"Swaziland\"],[\"Mali\"],[\"Somalia\"],[\"Greenland\"],[\"South Sudan\"],[\"Faeroe Islands\"],[\"French Polynesia\"],[\"Bermuda\"],[\"Rwanda\"],[\"Antigua and Barbuda\"],[\"French Guiana\"],[\"Bonaire Sint Eustatius and Saba\"],[\"Maldives\"],[\"Djibouti\"],[\"Belize\"],[\"Eritrea\"],[\"Seychelles\"],[\"Chad\"],[\"Cayman Islands\"],[\"Bhutan\"],[\"Andorra\"],[\"Saint Lucia\"],[\"Gambia\"],[\"Cape Verde\"],[\"Central African Republic\"],[\"Gibraltar\"],[\"Palau\"],[\"Burundi\"],[\"Guinea-Bissau\"],[\"Grenada\"],[\"Solomon Islands\"],[\"Samoa\"],[\"Saint Vincent and the Grenadines\"],[\"Saint Kitts and Nevis\"],[\"Falkland Islands\"],[\"Timor\"],[\"Nauru\"],[\"British Virgin Islands\"],[\"Vanuatu\"],[\"Comoros\"],[\"Tonga\"],[\"Dominica\"],[\"Saint Pierre and Miquelon\"],[\"Micronesia (country)\"],[\"Turks and Caicos Islands\"],[\"Anguilla\"],[\"Sao Tome and Principe\"],[\"Marshall Islands\"],[\"Cook Islands\"],[\"Liechtenstein\"],[\"Kiribati\"],[\"Montserrat\"],[\"Christmas Island\"],[\"Wallis and Futuna Islands\"],[\"Saint Helena\"],[\"Niue\"],[\"Tuvalu\"],[\"Kyrgysztan\"]],\"hovertemplate\":\"<b>%{hovertext}</b><br><br>CO\\u2082 Emission=%{x}<br>Population=%{y}<br>Country=%{customdata[0]}<br>Density=%{marker.color}<extra></extra>\",\"hovertext\":[\"United States\",\"China\",\"Russia\",\"Germany\",\"United Kingdom\",\"Japan\",\"India\",\"France\",\"Canada\",\"Poland\",\"Ukraine\",\"Italy\",\"South Africa\",\"Mexico\",\"Australia\",\"Iran\",\"South Korea\",\"Brazil\",\"Spain\",\"Saudi Arabia\",\"Indonesia\",\"Kazakhstan\",\"Belgium\",\"Netherlands\",\"Czechoslovakia\",\"Turkey\",\"Romania\",\"Czech Republic\",\"Taiwan\",\"Argentina\",\"Venezuela\",\"Thailand\",\"Uzbekistan\",\"Egypt\",\"Austria\",\"Malaysia\",\"North Korea\",\"Hungary\",\"Sweden\",\"Pakistan\",\"United Arab Emirates\",\"Algeria\",\"Belarus\",\"Denmark\",\"Iraq\",\"Greece\",\"Bulgaria\",\"Nigeria\",\"Colombia\",\"Finland\",\"Vietnam\",\"Philippines\",\"Switzerland\",\"Slovakia\",\"Chile\",\"Kuwait\",\"Norway\",\"Portugal\",\"Azerbaijan\",\"Serbia\",\"Israel\",\"Turkmenistan\",\"Ireland\",\"Libya\",\"Singapore\",\"Qatar\",\"Peru\",\"New Zealand\",\"Syria\",\"Cuba\",\"Morocco\",\"Hong Kong\",\"Trinidad and Tobago\",\"Bangladesh\",\"Estonia\",\"Ecuador\",\"Oman\",\"Lithuania\",\"Croatia\",\"Bosnia and Herzegovina\",\"Bahrain\",\"Tunisia\",\"Slovenia\",\"Luxembourg\",\"Zimbabwe\",\"Dominican Republic\",\"Lebanon\",\"Angola\",\"Yemen\",\"Latvia\",\"Jordan\",\"Georgia\",\"Macedonia\",\"Mongolia\",\"Myanmar\",\"Bolivia\",\"Sri Lanka\",\"Jamaica\",\"Curacao\",\"Kenya\",\"Guatemala\",\"Sudan\",\"Uruguay\",\"Brunei\",\"Ghana\",\"Cote d'Ivoire\",\"Tajikistan\",\"Albania\",\"Armenia\",\"Cyprus\",\"Panama\",\"Gabon\",\"Costa Rica\",\"Honduras\",\"El Salvador\",\"Ethiopia\",\"Senegal\",\"Tanzania\",\"Cameroon\",\"Democratic Republic of Republic of the Congo\",\"Zambia\",\"Kyrgyzstan\",\"Afghanistan\",\"Moldova\",\"Mozambique\",\"Nicaragua\",\"Bahamas\",\"Papua New Guinea\",\"Paraguay\",\"Iceland\",\"New Caledonia\",\"Botswana\",\"Nepal\",\"Montenegro\",\"Cambodia\",\"Suriname\",\"Mauritius\",\"Benin\",\"Malta\",\"Uganda\",\"Equatorial Guinea\",\"Reunion\",\"Guyana\",\"Madagascar\",\"Guinea\",\"Aruba\",\"Republic of the Congo\",\"Martinique\",\"Haiti\",\"Guadeloupe\",\"Namibia\",\"Mauritania\",\"Togo\",\"Lesotho\",\"Macao\",\"Barbados\",\"Burkina Faso\",\"Palestine\",\"Liberia\",\"Sint Maarten (Dutch part)\",\"Fiji\",\"Niger\",\"Malawi\",\"Laos\",\"Sierra Leone\",\"Swaziland\",\"Mali\",\"Somalia\",\"Greenland\",\"South Sudan\",\"Faeroe Islands\",\"French Polynesia\",\"Bermuda\",\"Rwanda\",\"Antigua and Barbuda\",\"French Guiana\",\"Bonaire Sint Eustatius and Saba\",\"Maldives\",\"Djibouti\",\"Belize\",\"Eritrea\",\"Seychelles\",\"Chad\",\"Cayman Islands\",\"Bhutan\",\"Andorra\",\"Saint Lucia\",\"Gambia\",\"Cape Verde\",\"Central African Republic\",\"Gibraltar\",\"Palau\",\"Burundi\",\"Guinea-Bissau\",\"Grenada\",\"Solomon Islands\",\"Samoa\",\"Saint Vincent and the Grenadines\",\"Saint Kitts and Nevis\",\"Falkland Islands\",\"Timor\",\"Nauru\",\"British Virgin Islands\",\"Vanuatu\",\"Comoros\",\"Tonga\",\"Dominica\",\"Saint Pierre and Miquelon\",\"Micronesia (country)\",\"Turks and Caicos Islands\",\"Anguilla\",\"Sao Tome and Principe\",\"Marshall Islands\",\"Cook Islands\",\"Liechtenstein\",\"Kiribati\",\"Montserrat\",\"Christmas Island\",\"Wallis and Futuna Islands\",\"Saint Helena\",\"Niue\",\"Tuvalu\",\"Kyrgysztan\"],\"legendgroup\":\"\",\"marker\":{\"color\":[5.20945336562895,7.266786540694901,3.321928094887362,7.912889336229962,8.139551352398794,8.442943495848729,8.861086905995395,6.906890595608519,2.321928094887362,6.965784284662087,6.247927513443585,7.693486957499325,5.643856189774724,6.066089190457772,2.0,5.727920454563199,9.044394119358454,4.700439718141093,6.569855608330948,4.087462841250339,7.247927513443585,3.0,8.584962500721156,8.991521846075695,null,6.794415866350106,6.409390936137702,null,9.396604781181859,4.169925001442312,5.044394119358453,7.108524456778169,6.321928094887363,6.700439718141093,6.78135971352466,6.643856189774724,7.7481928495894605,6.754887502163468,4.700439718141093,8.169925001442312,6.894817763307944,4.247927513443585,5.584962500721156,7.108524456778169,6.554588851677638,6.357552004618084,6.022367813028454,7.826548487290915,5.554588851677638,4.247927513443585,8.29920801838728,8.527477006060396,7.78135971352466,6.845490050944376,4.754887502163468,7.912889336229962,4.0,6.807354922057604,6.954196310386875,6.658211482751795,8.64745842645492,3.807354922057604,6.189824558880018,2.321928094887362,13.02911464546904,7.9600019320680815,4.754887502163468,4.247927513443585,6.584962500721156,6.7414669864011465,6.392317422778761,12.80191040289703,8.098032082960527,10.306061689428342,5.0,6.169925001442312,4.087462841250339,5.459431618637297,6.20945336562895,6.022367813028454,11.129283016944967,6.266786540694901,6.700439718141093,7.92481250360578,5.285402218862249,7.820178962415188,9.383704292474052,4.754887502163468,5.832890014164741,4.954196310386875,6.857980995127572,5.857980995127572,null,1.584962500721156,6.392317422778761,3.584962500721156,8.417852514885897,8.098032082960527,null,6.569855608330948,7.392317422778761,4.700439718141093,4.392317422778761,6.392317422778761,7.108524456778169,null,6.108524456778169,6.727920454563199,6.714245517666122,7.044394119358453,5.882643049361842,3.321928094887362,6.658211482751795,6.491853096329675,8.294620748891628,6.857980995127572,6.459431618637297,6.087462841250339,5.832890014164741,null,4.700439718141093,5.129283016944966,5.930737337562887,6.954196310386875,5.357552004618084,5.807354922057604,5.321928094887363,4.392317422778761,4.247927513443585,2.0,4.087462841250339,2.321928094887362,7.672425341971495,5.584962500721156,6.584962500721156,2.321928094887362,9.29232163280204,6.768184324776926,10.43149760425805,7.845490050944376,5.672425341971495,null,2.321928094887362,5.614709844115208,5.754887502163468,9.214319120800766,null,8.471675214392045,8.696967526234287,7.894817763307944,2.0,2.584962500721156,7.257387842692652,6.169925001442312,14.40181283113763,9.38586240064146,6.266786540694901,null,5.754887502163468,null,5.643856189774724,4.321928094887363,7.672425341971495,5.044394119358453,6.807354922057604,null,4.169925001442312,4.700439718141093,0.0,4.247927513443585,5.169925001442312,6.285402218862249,10.28424574982967,9.038918989292302,7.807354922057604,2.321928094887362,null,10.816183681432342,5.459431618637297,4.169925001442312,5.169925001442312,7.7481928495894605,3.807354922057604,8.103287808412022,4.392317422778761,7.366322214245816,8.238404739325079,7.906890595608519,null,3.169925001442312,11.71853287606922,5.321928094887363,8.857980995127573,6.149747119504682,8.375039431346925,4.700439718141093,6.149747119504682,null,null,0.0,null,9.08214904135387,7.6653359171851765,4.700439718141093,8.870364719583405,7.20945336562895,6.599912842187128,null,null,null,7.392317422778761,null,8.366322214245816,6.20945336562895,7.900866807980749,7.20945336562895,5.672425341971495,null,null,4.087462841250339,2.807354922057604,8.622051819456376,null],\"coloraxis\":\"coloraxis\",\"symbol\":\"circle\"},\"mode\":\"markers\",\"name\":\"\",\"orientation\":\"v\",\"showlegend\":false,\"x\":[399378341401.0,200136494086.1,100589103946.5,90565630028.3,77071055648.4,62304608196.8,48557863280.5,37768075471.6,31913521876.4,26848816401.5,25796386297.1,23645999964.04,19787369761.82,18971469004.74,17360810554.86,16585684216.5,15786618228.53,14190905219.76,14136085451.68,13843617871.16,12430271015.7,12300616895.0,12257548524.29,11308449554.73,11241448784.0,9602486274.14,8323783409.42,8321584468.18,8050965636.82,7977373398.24,7572615003.09,7013231542.03,6034285830.25,5561231355.77,5303713347.16,5181419716.84,4966052271.32,4870991389.84,4858725461.04,4360589827.17,4154728972.86,4107869896.13,4058119852.1,3991753370.45,3984084086.86,3884493460.24,3703285888.57,3372735176.54,3110040938.78,3065528408.32,3016099138.38,2959759692.42,2918791195.06,2730069465.7,2657499285.1,2627361838.99,2585216440.64,2476694775.57,2471780321.52,2381789223.74,2221239489.27,2183172084.73,2112667063.74,1951955718.13,1936584508.46,1878554596.22,1857299523.92,1779162163.71,1762385573.23,1656996984.29,1589225045.95,1508760365.22,1455796377.57,1361147179.94,1147762305.99,1100685365.05,1071493410.39,1015509983.31,981746998.44,839470358.0699999,826530053.77,808028625.71,756184328.39,725159606.54,701987856.04,666238637.93,634652476.46,623762311.0,619432762.91,618492627.48,614829331.14,593121175.85,561863099.22,536837014.38,509541651.38,461310418.1,436284059.17,424398054.16,416123736.94,410113224.27,404420204.69,353794292.86,353071941.93,335970645.04,316321491.28,303413162.84,287463209.67,277278189.22,273731871.65,270926136.57,270033081.51,245703654.03,231692588.72,229623078.07999998,213279980.32,207190474.39,203790993.12,203638081.93,194766283.6,191683278.72,187368599.78,181734180.22,178502924.77,175514617.05,163105097.58,160721076.63,157456745.29999998,152482152.43,150098367.67,141492955.56,133507791.92,131552447.39,115699603.45,109622459.23,105225246.98,104379604.54,102339736.66,98792203.59,97461274.56,95059160.01,92146727.45,90324928.0,89660737.5,83638600.31,77269714.08,74231826.56,70573384.4,70172928.0,69042835.51,66083904.0,63941324.82,63673149.28,62673115.9,56424722.31,51947913.44,51506565.019999996,50218080.94,48304339.97,47905144.32,46502952.71,45160830.03,44106012.93,43051513.27,36077734.88,35859968.78,35288300.1,33149434.39,31190567.7,30246492.84,29721726.88,28545339.56,27182548.02,27146704.26,25185419.38,21756717.08,21361120.0,20786824.02,19836856.51,19174274.46,17162217.12,16336482.58,14863511.05,14410060.55,14062432.0,13762669.88,13717377.28,12036657.41,12030970.74,11572647.4,11448062.13,11380384.0,11012244.95,10728249.8,9228085.54,7332340.49,7165127.22,6445614.36,6228123.09,5660324.69,4785184.0,4729565.89,4678403.16,4416723.65,4315060.06,4221082.02,3965652.34,3921840.48,3596641.56,3401355.2,3318276.17,3040078.33,2954819.58,2266040.04,2044872.31,2000665.44,1913894.59,1539754.12,1330032.0,429573.15,346308.79,271578.58,256922.58000000002,0.0],\"xaxis\":\"x\",\"y\":[331341050.0,1440297825.0,145945524.0,83830972.0,67948282.0,126407422.0,1382345085.0,65298930.0,37799407.0,37839255.0,43686577.0,60446035.0,59436725.0,129166028.0,25550683.0,84176929.0,51276977.0,212821986.0,46757980.0,34905942.0,274021604.0,18815231.0,11598451.0,17141544.0,null,84495243.0,19214608.0,null,23824369.0,45267449.0,28421581.0,69830779.0,33551824.0,102659126.0,9015361.0,32436963.0,25798588.0,9655983.0,10110233.0,221612785.0,9910892.0,43984569.0,9448772.0,5795780.0,40372771.0,10413936.0,6939018.0,206984347.0,50976248.0,5542237.0,97490013.0,109830324.0,8665615.0,5460109.0,19144605.0,4281320.0,5428594.0,10191409.0,10154978.0,8731081.0,8678517.0,6046292.0,4947267.0,6887247.0,5858322.0,2889284.0,33050211.0,4829021.0,17571053.0,11325391.0,36985624.0,7507523.0,1400283.0,164972348.0,1326693.0,17688599.0,5128058.0,2715340.0,4100719.0,3277152.0,1711057.0,11839918.0,2078989.0,627704.0,14899771.0,10866667.0,6819976.0,33032075.0,29935468.0,1882408.0,10220604.0,3987805.0,null,3287242.0,54473253.0,11700207.0,21428970.0,2963429.0,null,53968739.0,17971382.0,44019263.0,3475842.0,438202.0,31181428.0,null,9573310.0,2877239.0,2964219.0,1208886.0,4326296.0,2234448.0,5102158.0,9931333.0,6491923.0,115434444.0,16816539.0,60012400.0,26655083.0,null,18468257.0,6542426.0,39074280.0,4032294.0,31398811.0,6638075.0,393893.0,8975531.0,7147553.0,341628.0,285972.0,2359585.0,29225196.0,628080.0,16758448.0,587541.0,1272140.0,12175480.0,441750.0,45974931.0,1410419.0,null,787215.0,27808395.0,13191279.0,106845.0,null,375213.0,11426356.0,400136.0,2548663.0,4669775.0,8310934.0,2145194.0,650846.0,287437.0,20997293.0,null,5077411.0,null,897573.0,24346468.0,19211425.0,7293542.0,8004158.0,null,20346106.0,15965848.0,56787.0,11216250.0,48896.0,281191.0,62237.0,13005303.0,98069.0,299958.0,null,542151.0,990447.0,398845.0,3554797.0,98453.0,16502877.0,65854.0,773069.0,77287.0,183774.0,2427782.0,null,4843954.0,33689.0,18109.0,11948454.0,1975718.0,112614.0,689671.0,198643.0,null,null,3497.0,null,10836.0,30266.0,308337.0,872695.0,105901.0,72017.0,null,null,null,15026.0,null,59259.0,17567.0,38147.0,119760.0,4993.0,null,null,6080.0,1628.0,11817.0,null],\"yaxis\":\"y\",\"type\":\"scatter\"}],                        {\"template\":{\"data\":{\"bar\":[{\"error_x\":{\"color\":\"#2a3f5f\"},\"error_y\":{\"color\":\"#2a3f5f\"},\"marker\":{\"line\":{\"color\":\"#E5ECF6\",\"width\":0.5},\"pattern\":{\"fillmode\":\"overlay\",\"size\":10,\"solidity\":0.2}},\"type\":\"bar\"}],\"barpolar\":[{\"marker\":{\"line\":{\"color\":\"#E5ECF6\",\"width\":0.5},\"pattern\":{\"fillmode\":\"overlay\",\"size\":10,\"solidity\":0.2}},\"type\":\"barpolar\"}],\"carpet\":[{\"aaxis\":{\"endlinecolor\":\"#2a3f5f\",\"gridcolor\":\"white\",\"linecolor\":\"white\",\"minorgridcolor\":\"white\",\"startlinecolor\":\"#2a3f5f\"},\"baxis\":{\"endlinecolor\":\"#2a3f5f\",\"gridcolor\":\"white\",\"linecolor\":\"white\",\"minorgridcolor\":\"white\",\"startlinecolor\":\"#2a3f5f\"},\"type\":\"carpet\"}],\"choropleth\":[{\"colorbar\":{\"outlinewidth\":0,\"ticks\":\"\"},\"type\":\"choropleth\"}],\"contour\":[{\"colorbar\":{\"outlinewidth\":0,\"ticks\":\"\"},\"colorscale\":[[0.0,\"#0d0887\"],[0.1111111111111111,\"#46039f\"],[0.2222222222222222,\"#7201a8\"],[0.3333333333333333,\"#9c179e\"],[0.4444444444444444,\"#bd3786\"],[0.5555555555555556,\"#d8576b\"],[0.6666666666666666,\"#ed7953\"],[0.7777777777777778,\"#fb9f3a\"],[0.8888888888888888,\"#fdca26\"],[1.0,\"#f0f921\"]],\"type\":\"contour\"}],\"contourcarpet\":[{\"colorbar\":{\"outlinewidth\":0,\"ticks\":\"\"},\"type\":\"contourcarpet\"}],\"heatmap\":[{\"colorbar\":{\"outlinewidth\":0,\"ticks\":\"\"},\"colorscale\":[[0.0,\"#0d0887\"],[0.1111111111111111,\"#46039f\"],[0.2222222222222222,\"#7201a8\"],[0.3333333333333333,\"#9c179e\"],[0.4444444444444444,\"#bd3786\"],[0.5555555555555556,\"#d8576b\"],[0.6666666666666666,\"#ed7953\"],[0.7777777777777778,\"#fb9f3a\"],[0.8888888888888888,\"#fdca26\"],[1.0,\"#f0f921\"]],\"type\":\"heatmap\"}],\"heatmapgl\":[{\"colorbar\":{\"outlinewidth\":0,\"ticks\":\"\"},\"colorscale\":[[0.0,\"#0d0887\"],[0.1111111111111111,\"#46039f\"],[0.2222222222222222,\"#7201a8\"],[0.3333333333333333,\"#9c179e\"],[0.4444444444444444,\"#bd3786\"],[0.5555555555555556,\"#d8576b\"],[0.6666666666666666,\"#ed7953\"],[0.7777777777777778,\"#fb9f3a\"],[0.8888888888888888,\"#fdca26\"],[1.0,\"#f0f921\"]],\"type\":\"heatmapgl\"}],\"histogram\":[{\"marker\":{\"pattern\":{\"fillmode\":\"overlay\",\"size\":10,\"solidity\":0.2}},\"type\":\"histogram\"}],\"histogram2d\":[{\"colorbar\":{\"outlinewidth\":0,\"ticks\":\"\"},\"colorscale\":[[0.0,\"#0d0887\"],[0.1111111111111111,\"#46039f\"],[0.2222222222222222,\"#7201a8\"],[0.3333333333333333,\"#9c179e\"],[0.4444444444444444,\"#bd3786\"],[0.5555555555555556,\"#d8576b\"],[0.6666666666666666,\"#ed7953\"],[0.7777777777777778,\"#fb9f3a\"],[0.8888888888888888,\"#fdca26\"],[1.0,\"#f0f921\"]],\"type\":\"histogram2d\"}],\"histogram2dcontour\":[{\"colorbar\":{\"outlinewidth\":0,\"ticks\":\"\"},\"colorscale\":[[0.0,\"#0d0887\"],[0.1111111111111111,\"#46039f\"],[0.2222222222222222,\"#7201a8\"],[0.3333333333333333,\"#9c179e\"],[0.4444444444444444,\"#bd3786\"],[0.5555555555555556,\"#d8576b\"],[0.6666666666666666,\"#ed7953\"],[0.7777777777777778,\"#fb9f3a\"],[0.8888888888888888,\"#fdca26\"],[1.0,\"#f0f921\"]],\"type\":\"histogram2dcontour\"}],\"mesh3d\":[{\"colorbar\":{\"outlinewidth\":0,\"ticks\":\"\"},\"type\":\"mesh3d\"}],\"parcoords\":[{\"line\":{\"colorbar\":{\"outlinewidth\":0,\"ticks\":\"\"}},\"type\":\"parcoords\"}],\"pie\":[{\"automargin\":true,\"type\":\"pie\"}],\"scatter\":[{\"marker\":{\"colorbar\":{\"outlinewidth\":0,\"ticks\":\"\"}},\"type\":\"scatter\"}],\"scatter3d\":[{\"line\":{\"colorbar\":{\"outlinewidth\":0,\"ticks\":\"\"}},\"marker\":{\"colorbar\":{\"outlinewidth\":0,\"ticks\":\"\"}},\"type\":\"scatter3d\"}],\"scattercarpet\":[{\"marker\":{\"colorbar\":{\"outlinewidth\":0,\"ticks\":\"\"}},\"type\":\"scattercarpet\"}],\"scattergeo\":[{\"marker\":{\"colorbar\":{\"outlinewidth\":0,\"ticks\":\"\"}},\"type\":\"scattergeo\"}],\"scattergl\":[{\"marker\":{\"colorbar\":{\"outlinewidth\":0,\"ticks\":\"\"}},\"type\":\"scattergl\"}],\"scattermapbox\":[{\"marker\":{\"colorbar\":{\"outlinewidth\":0,\"ticks\":\"\"}},\"type\":\"scattermapbox\"}],\"scatterpolar\":[{\"marker\":{\"colorbar\":{\"outlinewidth\":0,\"ticks\":\"\"}},\"type\":\"scatterpolar\"}],\"scatterpolargl\":[{\"marker\":{\"colorbar\":{\"outlinewidth\":0,\"ticks\":\"\"}},\"type\":\"scatterpolargl\"}],\"scatterternary\":[{\"marker\":{\"colorbar\":{\"outlinewidth\":0,\"ticks\":\"\"}},\"type\":\"scatterternary\"}],\"surface\":[{\"colorbar\":{\"outlinewidth\":0,\"ticks\":\"\"},\"colorscale\":[[0.0,\"#0d0887\"],[0.1111111111111111,\"#46039f\"],[0.2222222222222222,\"#7201a8\"],[0.3333333333333333,\"#9c179e\"],[0.4444444444444444,\"#bd3786\"],[0.5555555555555556,\"#d8576b\"],[0.6666666666666666,\"#ed7953\"],[0.7777777777777778,\"#fb9f3a\"],[0.8888888888888888,\"#fdca26\"],[1.0,\"#f0f921\"]],\"type\":\"surface\"}],\"table\":[{\"cells\":{\"fill\":{\"color\":\"#EBF0F8\"},\"line\":{\"color\":\"white\"}},\"header\":{\"fill\":{\"color\":\"#C8D4E3\"},\"line\":{\"color\":\"white\"}},\"type\":\"table\"}]},\"layout\":{\"annotationdefaults\":{\"arrowcolor\":\"#2a3f5f\",\"arrowhead\":0,\"arrowwidth\":1},\"autotypenumbers\":\"strict\",\"coloraxis\":{\"colorbar\":{\"outlinewidth\":0,\"ticks\":\"\"}},\"colorscale\":{\"diverging\":[[0,\"#8e0152\"],[0.1,\"#c51b7d\"],[0.2,\"#de77ae\"],[0.3,\"#f1b6da\"],[0.4,\"#fde0ef\"],[0.5,\"#f7f7f7\"],[0.6,\"#e6f5d0\"],[0.7,\"#b8e186\"],[0.8,\"#7fbc41\"],[0.9,\"#4d9221\"],[1,\"#276419\"]],\"sequential\":[[0.0,\"#0d0887\"],[0.1111111111111111,\"#46039f\"],[0.2222222222222222,\"#7201a8\"],[0.3333333333333333,\"#9c179e\"],[0.4444444444444444,\"#bd3786\"],[0.5555555555555556,\"#d8576b\"],[0.6666666666666666,\"#ed7953\"],[0.7777777777777778,\"#fb9f3a\"],[0.8888888888888888,\"#fdca26\"],[1.0,\"#f0f921\"]],\"sequentialminus\":[[0.0,\"#0d0887\"],[0.1111111111111111,\"#46039f\"],[0.2222222222222222,\"#7201a8\"],[0.3333333333333333,\"#9c179e\"],[0.4444444444444444,\"#bd3786\"],[0.5555555555555556,\"#d8576b\"],[0.6666666666666666,\"#ed7953\"],[0.7777777777777778,\"#fb9f3a\"],[0.8888888888888888,\"#fdca26\"],[1.0,\"#f0f921\"]]},\"colorway\":[\"#636efa\",\"#EF553B\",\"#00cc96\",\"#ab63fa\",\"#FFA15A\",\"#19d3f3\",\"#FF6692\",\"#B6E880\",\"#FF97FF\",\"#FECB52\"],\"font\":{\"color\":\"#2a3f5f\"},\"geo\":{\"bgcolor\":\"white\",\"lakecolor\":\"white\",\"landcolor\":\"#E5ECF6\",\"showlakes\":true,\"showland\":true,\"subunitcolor\":\"white\"},\"hoverlabel\":{\"align\":\"left\"},\"hovermode\":\"closest\",\"mapbox\":{\"style\":\"light\"},\"paper_bgcolor\":\"white\",\"plot_bgcolor\":\"#E5ECF6\",\"polar\":{\"angularaxis\":{\"gridcolor\":\"white\",\"linecolor\":\"white\",\"ticks\":\"\"},\"bgcolor\":\"#E5ECF6\",\"radialaxis\":{\"gridcolor\":\"white\",\"linecolor\":\"white\",\"ticks\":\"\"}},\"scene\":{\"xaxis\":{\"backgroundcolor\":\"#E5ECF6\",\"gridcolor\":\"white\",\"gridwidth\":2,\"linecolor\":\"white\",\"showbackground\":true,\"ticks\":\"\",\"zerolinecolor\":\"white\"},\"yaxis\":{\"backgroundcolor\":\"#E5ECF6\",\"gridcolor\":\"white\",\"gridwidth\":2,\"linecolor\":\"white\",\"showbackground\":true,\"ticks\":\"\",\"zerolinecolor\":\"white\"},\"zaxis\":{\"backgroundcolor\":\"#E5ECF6\",\"gridcolor\":\"white\",\"gridwidth\":2,\"linecolor\":\"white\",\"showbackground\":true,\"ticks\":\"\",\"zerolinecolor\":\"white\"}},\"shapedefaults\":{\"line\":{\"color\":\"#2a3f5f\"}},\"ternary\":{\"aaxis\":{\"gridcolor\":\"white\",\"linecolor\":\"white\",\"ticks\":\"\"},\"baxis\":{\"gridcolor\":\"white\",\"linecolor\":\"white\",\"ticks\":\"\"},\"bgcolor\":\"#E5ECF6\",\"caxis\":{\"gridcolor\":\"white\",\"linecolor\":\"white\",\"ticks\":\"\"}},\"title\":{\"x\":0.05},\"xaxis\":{\"automargin\":true,\"gridcolor\":\"white\",\"linecolor\":\"white\",\"ticks\":\"\",\"title\":{\"standoff\":15},\"zerolinecolor\":\"white\",\"zerolinewidth\":2},\"yaxis\":{\"automargin\":true,\"gridcolor\":\"white\",\"linecolor\":\"white\",\"ticks\":\"\",\"title\":{\"standoff\":15},\"zerolinecolor\":\"white\",\"zerolinewidth\":2}}},\"xaxis\":{\"anchor\":\"y\",\"domain\":[0.0,1.0],\"title\":{\"text\":\"CO\\u2082 Emission\"},\"type\":\"log\"},\"yaxis\":{\"anchor\":\"x\",\"domain\":[0.0,1.0],\"title\":{\"text\":\"Population\"},\"type\":\"log\"},\"coloraxis\":{\"colorbar\":{\"title\":{\"text\":\"Density\"}},\"colorscale\":[[0.0,\"rgb(0, 147, 146)\"],[0.16666666666666666,\"rgb(57, 177, 133)\"],[0.3333333333333333,\"rgb(156, 203, 134)\"],[0.5,\"rgb(233, 226, 156)\"],[0.6666666666666666,\"rgb(238, 180, 121)\"],[0.8333333333333334,\"rgb(232, 132, 113)\"],[1.0,\"rgb(207, 89, 126)\"]]},\"legend\":{\"tracegroupgap\":0},\"margin\":{\"t\":60},\"title\":{\"text\":\"Population v. CO2 Emission, 2020\",\"x\":0.5}},                        {\"responsive\": true}                    ).then(function(){\n",
       "                            \n",
       "var gd = document.getElementById('f8725fcc-200c-4c17-9454-59ef0509d25b');\n",
       "var x = new MutationObserver(function (mutations, observer) {{\n",
       "        var display = window.getComputedStyle(gd).display;\n",
       "        if (!display || display === 'none') {{\n",
       "            console.log([gd, 'removed!']);\n",
       "            Plotly.purge(gd);\n",
       "            observer.disconnect();\n",
       "        }}\n",
       "}});\n",
       "\n",
       "// Listen for the removal of the full notebook cells\n",
       "var notebookContainer = gd.closest('#notebook-container');\n",
       "if (notebookContainer) {{\n",
       "    x.observe(notebookContainer, {childList: true});\n",
       "}}\n",
       "\n",
       "// Listen for the clearing of the current output cell\n",
       "var outputEl = gd.closest('.output');\n",
       "if (outputEl) {{\n",
       "    x.observe(outputEl, {childList: true});\n",
       "}}\n",
       "\n",
       "                        })                };                });            </script>        </div>"
      ]
     },
     "metadata": {},
     "output_type": "display_data"
    }
   ],
   "source": [
    "df_bubble['Log Scale'] = df_bubble['Density (P/Km²)'].apply(lambda x : math.log2(x+1))\n",
    "bubble = px.scatter(df_bubble, \n",
    "                 x=\"Annual CO₂ emissions (tonnes )\", \n",
    "                 y=\"Population (2020)\", \n",
    "                 color=\"Log Scale\",\n",
    "                 #size='Land Area (Km²)',\n",
    "                 color_continuous_scale=\"Temps\",\n",
    "                 size_max=40,\n",
    "                 hover_name=\"Entity\", \n",
    "                 hover_data=['Entity','Annual CO₂ emissions (tonnes )'],\n",
    "                 labels={'Entity':'Country',\n",
    "                         'Annual CO₂ emissions (tonnes )':'CO₂ Emission',\n",
    "                         'Population (2020)':'Population',\n",
    "                         'Log Scale':'Density'},\n",
    "                 log_x=True,\n",
    "                 log_y=True \n",
    "                 \n",
    "                \n",
    "                   )\n",
    "bubble.update_layout(title=\"Population v. CO2 Emission, 2020\", title_x=0.5)\n",
    "bubble.show()"
   ]
  }
 ],
 "metadata": {
  "kernelspec": {
   "display_name": "Python 3 (ipykernel)",
   "language": "python",
   "name": "python3"
  },
  "language_info": {
   "codemirror_mode": {
    "name": "ipython",
    "version": 3
   },
   "file_extension": ".py",
   "mimetype": "text/x-python",
   "name": "python",
   "nbconvert_exporter": "python",
   "pygments_lexer": "ipython3",
   "version": "3.9.5"
  }
 },
 "nbformat": 4,
 "nbformat_minor": 2
}
