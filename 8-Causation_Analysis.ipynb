{
 "cells": [
  {
   "cell_type": "code",
   "execution_count": 3,
   "metadata": {},
   "outputs": [],
   "source": [
    "import numpy as np\n",
    "import pandas as pd\n",
    "import matplotlib.pyplot as plt\n",
    "from sklearn.cluster import KMeans\n",
    "from scipy.spatial.distance import cdist\n",
    "import plotly.express as px"
   ]
  },
  {
   "cell_type": "code",
   "execution_count": 13,
   "metadata": {},
   "outputs": [
    {
     "data": {
      "application/vnd.plotly.v1+json": {
       "config": {
        "plotlyServerURL": "https://plot.ly"
       },
       "data": [
        {
         "customdata": [
          [
           "Belarus"
          ],
          [
           "Azerbaijan"
          ],
          [
           "Iraq"
          ],
          [
           "Latvia"
          ],
          [
           "Spain"
          ],
          [
           "Egypt"
          ],
          [
           "Slovenia"
          ],
          [
           "Yemen"
          ],
          [
           "Croatia"
          ],
          [
           "Czech Republic"
          ],
          [
           "Algeria"
          ],
          [
           "Mongolia"
          ],
          [
           "Turkey"
          ],
          [
           "Bosnia and Herzegovina"
          ],
          [
           "Morocco"
          ],
          [
           "Ukraine"
          ],
          [
           "Bahamas"
          ],
          [
           "Togo"
          ],
          [
           "Rwanda"
          ],
          [
           "Botswana"
          ],
          [
           "Papua New Guinea"
          ],
          [
           "Tunisia"
          ],
          [
           "Poland"
          ],
          [
           "Greece"
          ],
          [
           "Palestine"
          ],
          [
           "Serbia"
          ],
          [
           "Bulgaria"
          ],
          [
           "Burundi"
          ],
          [
           "New Zealand"
          ],
          [
           "Hungary"
          ],
          [
           "Fiji"
          ],
          [
           "Lesotho"
          ],
          [
           "Georgia"
          ],
          [
           "Canada"
          ],
          [
           "Slovakia"
          ],
          [
           "Senegal"
          ],
          [
           "Chile"
          ],
          [
           "Syria"
          ],
          [
           "South Sudan"
          ],
          [
           "Mali"
          ],
          [
           "Costa Rica"
          ],
          [
           "Niger"
          ],
          [
           "Italy"
          ],
          [
           "Albania"
          ],
          [
           "Iran"
          ],
          [
           "Angola"
          ],
          [
           "Cuba"
          ],
          [
           "France"
          ],
          [
           "Tanzania"
          ],
          [
           "Romania"
          ],
          [
           "North Korea"
          ],
          [
           "Guinea"
          ],
          [
           "Zambia"
          ],
          [
           "Afghanistan"
          ],
          [
           "Kazakhstan"
          ],
          [
           "South Africa"
          ],
          [
           "Uruguay"
          ],
          [
           "Namibia"
          ],
          [
           "Burkina Faso"
          ],
          [
           "Australia"
          ],
          [
           "South Korea"
          ],
          [
           "Somalia"
          ],
          [
           "Jamaica"
          ],
          [
           "Venezuela"
          ],
          [
           "Peru"
          ],
          [
           "Dominican Republic"
          ],
          [
           "Guatemala"
          ],
          [
           "Japan"
          ],
          [
           "Argentina"
          ],
          [
           "Myanmar"
          ],
          [
           "Malaysia"
          ],
          [
           "Sudan"
          ],
          [
           "El Salvador"
          ],
          [
           "Kenya"
          ],
          [
           "Germany"
          ],
          [
           "Bolivia"
          ],
          [
           "Mozambique"
          ],
          [
           "Russia"
          ],
          [
           "Mauritania"
          ],
          [
           "Ecuador"
          ],
          [
           "Haiti"
          ],
          [
           "Guyana"
          ],
          [
           "Ethiopia"
          ],
          [
           "Brazil"
          ],
          [
           "Chad"
          ],
          [
           "Paraguay"
          ],
          [
           "Nigeria"
          ],
          [
           "Uganda"
          ],
          [
           "Ghana"
          ],
          [
           "Indonesia"
          ],
          [
           "Malawi"
          ],
          [
           "Mexico"
          ],
          [
           "Madagascar"
          ],
          [
           "Vietnam"
          ],
          [
           "Cambodia"
          ],
          [
           "Taiwan"
          ],
          [
           "Sri Lanka"
          ],
          [
           "Colombia"
          ],
          [
           "Thailand"
          ],
          [
           "Philippines"
          ],
          [
           "Nepal"
          ],
          [
           "Pakistan"
          ],
          [
           "China"
          ],
          [
           "Bangladesh"
          ],
          [
           "Nicaragua"
          ],
          [
           "India"
          ]
         ],
         "hovertemplate": "Population Group=%{x}<br>Emission Group=%{y}<br>Country Name=%{customdata[0]}<extra></extra>",
         "legendgroup": "",
         "marker": {
          "color": "#636efa",
          "symbol": "circle"
         },
         "mode": "markers",
         "name": "",
         "orientation": "v",
         "showlegend": false,
         "type": "scatter",
         "x": [
          0,
          0,
          1,
          1,
          2,
          2,
          3,
          3,
          4,
          4,
          5,
          5,
          6,
          6,
          7,
          7,
          8,
          8,
          9,
          9,
          10,
          10,
          11,
          11,
          12,
          12,
          13,
          13,
          14,
          14,
          15,
          15,
          16,
          16,
          17,
          17,
          18,
          18,
          19,
          19,
          20,
          20,
          21,
          21,
          22,
          22,
          23,
          23,
          24,
          24,
          25,
          25,
          26,
          26,
          27,
          27,
          28,
          28,
          29,
          29,
          30,
          30,
          31,
          31,
          32,
          32,
          33,
          33,
          34,
          34,
          35,
          35,
          36,
          36,
          37,
          37,
          38,
          38,
          39,
          39,
          40,
          40,
          41,
          41,
          42,
          42,
          43,
          43,
          44,
          44,
          45,
          45,
          46,
          46,
          47,
          47,
          48,
          48,
          49,
          49,
          50,
          50,
          51,
          51,
          52,
          52
         ],
         "xaxis": "x",
         "y": [
          23,
          18,
          30,
          9,
          47,
          30,
          11,
          15,
          2,
          26,
          35,
          0,
          45,
          13,
          33,
          32,
          5,
          3,
          1,
          14,
          21,
          17,
          32,
          40,
          4,
          36,
          33,
          1,
          37,
          21,
          2,
          4,
          6,
          48,
          20,
          22,
          22,
          19,
          0,
          11,
          8,
          7,
          39,
          25,
          43,
          34,
          31,
          46,
          25,
          37,
          36,
          3,
          12,
          16,
          46,
          49,
          26,
          20,
          5,
          50,
          38,
          9,
          10,
          44,
          35,
          29,
          14,
          43,
          45,
          28,
          44,
          28,
          7,
          27,
          51,
          31,
          23,
          51,
          8,
          34,
          13,
          12,
          18,
          48,
          6,
          24,
          41,
          15,
          27,
          49,
          10,
          50,
          19,
          42,
          24,
          41,
          29,
          39,
          47,
          40,
          16,
          42,
          52,
          38,
          17,
          52
         ],
         "yaxis": "y"
        }
       ],
       "layout": {
        "legend": {
         "tracegroupgap": 0
        },
        "margin": {
         "t": 60
        },
        "template": {
         "data": {
          "bar": [
           {
            "error_x": {
             "color": "#2a3f5f"
            },
            "error_y": {
             "color": "#2a3f5f"
            },
            "marker": {
             "line": {
              "color": "#E5ECF6",
              "width": 0.5
             },
             "pattern": {
              "fillmode": "overlay",
              "size": 10,
              "solidity": 0.2
             }
            },
            "type": "bar"
           }
          ],
          "barpolar": [
           {
            "marker": {
             "line": {
              "color": "#E5ECF6",
              "width": 0.5
             },
             "pattern": {
              "fillmode": "overlay",
              "size": 10,
              "solidity": 0.2
             }
            },
            "type": "barpolar"
           }
          ],
          "carpet": [
           {
            "aaxis": {
             "endlinecolor": "#2a3f5f",
             "gridcolor": "white",
             "linecolor": "white",
             "minorgridcolor": "white",
             "startlinecolor": "#2a3f5f"
            },
            "baxis": {
             "endlinecolor": "#2a3f5f",
             "gridcolor": "white",
             "linecolor": "white",
             "minorgridcolor": "white",
             "startlinecolor": "#2a3f5f"
            },
            "type": "carpet"
           }
          ],
          "choropleth": [
           {
            "colorbar": {
             "outlinewidth": 0,
             "ticks": ""
            },
            "type": "choropleth"
           }
          ],
          "contour": [
           {
            "colorbar": {
             "outlinewidth": 0,
             "ticks": ""
            },
            "colorscale": [
             [
              0,
              "#0d0887"
             ],
             [
              0.1111111111111111,
              "#46039f"
             ],
             [
              0.2222222222222222,
              "#7201a8"
             ],
             [
              0.3333333333333333,
              "#9c179e"
             ],
             [
              0.4444444444444444,
              "#bd3786"
             ],
             [
              0.5555555555555556,
              "#d8576b"
             ],
             [
              0.6666666666666666,
              "#ed7953"
             ],
             [
              0.7777777777777778,
              "#fb9f3a"
             ],
             [
              0.8888888888888888,
              "#fdca26"
             ],
             [
              1,
              "#f0f921"
             ]
            ],
            "type": "contour"
           }
          ],
          "contourcarpet": [
           {
            "colorbar": {
             "outlinewidth": 0,
             "ticks": ""
            },
            "type": "contourcarpet"
           }
          ],
          "heatmap": [
           {
            "colorbar": {
             "outlinewidth": 0,
             "ticks": ""
            },
            "colorscale": [
             [
              0,
              "#0d0887"
             ],
             [
              0.1111111111111111,
              "#46039f"
             ],
             [
              0.2222222222222222,
              "#7201a8"
             ],
             [
              0.3333333333333333,
              "#9c179e"
             ],
             [
              0.4444444444444444,
              "#bd3786"
             ],
             [
              0.5555555555555556,
              "#d8576b"
             ],
             [
              0.6666666666666666,
              "#ed7953"
             ],
             [
              0.7777777777777778,
              "#fb9f3a"
             ],
             [
              0.8888888888888888,
              "#fdca26"
             ],
             [
              1,
              "#f0f921"
             ]
            ],
            "type": "heatmap"
           }
          ],
          "heatmapgl": [
           {
            "colorbar": {
             "outlinewidth": 0,
             "ticks": ""
            },
            "colorscale": [
             [
              0,
              "#0d0887"
             ],
             [
              0.1111111111111111,
              "#46039f"
             ],
             [
              0.2222222222222222,
              "#7201a8"
             ],
             [
              0.3333333333333333,
              "#9c179e"
             ],
             [
              0.4444444444444444,
              "#bd3786"
             ],
             [
              0.5555555555555556,
              "#d8576b"
             ],
             [
              0.6666666666666666,
              "#ed7953"
             ],
             [
              0.7777777777777778,
              "#fb9f3a"
             ],
             [
              0.8888888888888888,
              "#fdca26"
             ],
             [
              1,
              "#f0f921"
             ]
            ],
            "type": "heatmapgl"
           }
          ],
          "histogram": [
           {
            "marker": {
             "pattern": {
              "fillmode": "overlay",
              "size": 10,
              "solidity": 0.2
             }
            },
            "type": "histogram"
           }
          ],
          "histogram2d": [
           {
            "colorbar": {
             "outlinewidth": 0,
             "ticks": ""
            },
            "colorscale": [
             [
              0,
              "#0d0887"
             ],
             [
              0.1111111111111111,
              "#46039f"
             ],
             [
              0.2222222222222222,
              "#7201a8"
             ],
             [
              0.3333333333333333,
              "#9c179e"
             ],
             [
              0.4444444444444444,
              "#bd3786"
             ],
             [
              0.5555555555555556,
              "#d8576b"
             ],
             [
              0.6666666666666666,
              "#ed7953"
             ],
             [
              0.7777777777777778,
              "#fb9f3a"
             ],
             [
              0.8888888888888888,
              "#fdca26"
             ],
             [
              1,
              "#f0f921"
             ]
            ],
            "type": "histogram2d"
           }
          ],
          "histogram2dcontour": [
           {
            "colorbar": {
             "outlinewidth": 0,
             "ticks": ""
            },
            "colorscale": [
             [
              0,
              "#0d0887"
             ],
             [
              0.1111111111111111,
              "#46039f"
             ],
             [
              0.2222222222222222,
              "#7201a8"
             ],
             [
              0.3333333333333333,
              "#9c179e"
             ],
             [
              0.4444444444444444,
              "#bd3786"
             ],
             [
              0.5555555555555556,
              "#d8576b"
             ],
             [
              0.6666666666666666,
              "#ed7953"
             ],
             [
              0.7777777777777778,
              "#fb9f3a"
             ],
             [
              0.8888888888888888,
              "#fdca26"
             ],
             [
              1,
              "#f0f921"
             ]
            ],
            "type": "histogram2dcontour"
           }
          ],
          "mesh3d": [
           {
            "colorbar": {
             "outlinewidth": 0,
             "ticks": ""
            },
            "type": "mesh3d"
           }
          ],
          "parcoords": [
           {
            "line": {
             "colorbar": {
              "outlinewidth": 0,
              "ticks": ""
             }
            },
            "type": "parcoords"
           }
          ],
          "pie": [
           {
            "automargin": true,
            "type": "pie"
           }
          ],
          "scatter": [
           {
            "marker": {
             "colorbar": {
              "outlinewidth": 0,
              "ticks": ""
             }
            },
            "type": "scatter"
           }
          ],
          "scatter3d": [
           {
            "line": {
             "colorbar": {
              "outlinewidth": 0,
              "ticks": ""
             }
            },
            "marker": {
             "colorbar": {
              "outlinewidth": 0,
              "ticks": ""
             }
            },
            "type": "scatter3d"
           }
          ],
          "scattercarpet": [
           {
            "marker": {
             "colorbar": {
              "outlinewidth": 0,
              "ticks": ""
             }
            },
            "type": "scattercarpet"
           }
          ],
          "scattergeo": [
           {
            "marker": {
             "colorbar": {
              "outlinewidth": 0,
              "ticks": ""
             }
            },
            "type": "scattergeo"
           }
          ],
          "scattergl": [
           {
            "marker": {
             "colorbar": {
              "outlinewidth": 0,
              "ticks": ""
             }
            },
            "type": "scattergl"
           }
          ],
          "scattermapbox": [
           {
            "marker": {
             "colorbar": {
              "outlinewidth": 0,
              "ticks": ""
             }
            },
            "type": "scattermapbox"
           }
          ],
          "scatterpolar": [
           {
            "marker": {
             "colorbar": {
              "outlinewidth": 0,
              "ticks": ""
             }
            },
            "type": "scatterpolar"
           }
          ],
          "scatterpolargl": [
           {
            "marker": {
             "colorbar": {
              "outlinewidth": 0,
              "ticks": ""
             }
            },
            "type": "scatterpolargl"
           }
          ],
          "scatterternary": [
           {
            "marker": {
             "colorbar": {
              "outlinewidth": 0,
              "ticks": ""
             }
            },
            "type": "scatterternary"
           }
          ],
          "surface": [
           {
            "colorbar": {
             "outlinewidth": 0,
             "ticks": ""
            },
            "colorscale": [
             [
              0,
              "#0d0887"
             ],
             [
              0.1111111111111111,
              "#46039f"
             ],
             [
              0.2222222222222222,
              "#7201a8"
             ],
             [
              0.3333333333333333,
              "#9c179e"
             ],
             [
              0.4444444444444444,
              "#bd3786"
             ],
             [
              0.5555555555555556,
              "#d8576b"
             ],
             [
              0.6666666666666666,
              "#ed7953"
             ],
             [
              0.7777777777777778,
              "#fb9f3a"
             ],
             [
              0.8888888888888888,
              "#fdca26"
             ],
             [
              1,
              "#f0f921"
             ]
            ],
            "type": "surface"
           }
          ],
          "table": [
           {
            "cells": {
             "fill": {
              "color": "#EBF0F8"
             },
             "line": {
              "color": "white"
             }
            },
            "header": {
             "fill": {
              "color": "#C8D4E3"
             },
             "line": {
              "color": "white"
             }
            },
            "type": "table"
           }
          ]
         },
         "layout": {
          "annotationdefaults": {
           "arrowcolor": "#2a3f5f",
           "arrowhead": 0,
           "arrowwidth": 1
          },
          "autotypenumbers": "strict",
          "coloraxis": {
           "colorbar": {
            "outlinewidth": 0,
            "ticks": ""
           }
          },
          "colorscale": {
           "diverging": [
            [
             0,
             "#8e0152"
            ],
            [
             0.1,
             "#c51b7d"
            ],
            [
             0.2,
             "#de77ae"
            ],
            [
             0.3,
             "#f1b6da"
            ],
            [
             0.4,
             "#fde0ef"
            ],
            [
             0.5,
             "#f7f7f7"
            ],
            [
             0.6,
             "#e6f5d0"
            ],
            [
             0.7,
             "#b8e186"
            ],
            [
             0.8,
             "#7fbc41"
            ],
            [
             0.9,
             "#4d9221"
            ],
            [
             1,
             "#276419"
            ]
           ],
           "sequential": [
            [
             0,
             "#0d0887"
            ],
            [
             0.1111111111111111,
             "#46039f"
            ],
            [
             0.2222222222222222,
             "#7201a8"
            ],
            [
             0.3333333333333333,
             "#9c179e"
            ],
            [
             0.4444444444444444,
             "#bd3786"
            ],
            [
             0.5555555555555556,
             "#d8576b"
            ],
            [
             0.6666666666666666,
             "#ed7953"
            ],
            [
             0.7777777777777778,
             "#fb9f3a"
            ],
            [
             0.8888888888888888,
             "#fdca26"
            ],
            [
             1,
             "#f0f921"
            ]
           ],
           "sequentialminus": [
            [
             0,
             "#0d0887"
            ],
            [
             0.1111111111111111,
             "#46039f"
            ],
            [
             0.2222222222222222,
             "#7201a8"
            ],
            [
             0.3333333333333333,
             "#9c179e"
            ],
            [
             0.4444444444444444,
             "#bd3786"
            ],
            [
             0.5555555555555556,
             "#d8576b"
            ],
            [
             0.6666666666666666,
             "#ed7953"
            ],
            [
             0.7777777777777778,
             "#fb9f3a"
            ],
            [
             0.8888888888888888,
             "#fdca26"
            ],
            [
             1,
             "#f0f921"
            ]
           ]
          },
          "colorway": [
           "#636efa",
           "#EF553B",
           "#00cc96",
           "#ab63fa",
           "#FFA15A",
           "#19d3f3",
           "#FF6692",
           "#B6E880",
           "#FF97FF",
           "#FECB52"
          ],
          "font": {
           "color": "#2a3f5f"
          },
          "geo": {
           "bgcolor": "white",
           "lakecolor": "white",
           "landcolor": "#E5ECF6",
           "showlakes": true,
           "showland": true,
           "subunitcolor": "white"
          },
          "hoverlabel": {
           "align": "left"
          },
          "hovermode": "closest",
          "mapbox": {
           "style": "light"
          },
          "paper_bgcolor": "white",
          "plot_bgcolor": "#E5ECF6",
          "polar": {
           "angularaxis": {
            "gridcolor": "white",
            "linecolor": "white",
            "ticks": ""
           },
           "bgcolor": "#E5ECF6",
           "radialaxis": {
            "gridcolor": "white",
            "linecolor": "white",
            "ticks": ""
           }
          },
          "scene": {
           "xaxis": {
            "backgroundcolor": "#E5ECF6",
            "gridcolor": "white",
            "gridwidth": 2,
            "linecolor": "white",
            "showbackground": true,
            "ticks": "",
            "zerolinecolor": "white"
           },
           "yaxis": {
            "backgroundcolor": "#E5ECF6",
            "gridcolor": "white",
            "gridwidth": 2,
            "linecolor": "white",
            "showbackground": true,
            "ticks": "",
            "zerolinecolor": "white"
           },
           "zaxis": {
            "backgroundcolor": "#E5ECF6",
            "gridcolor": "white",
            "gridwidth": 2,
            "linecolor": "white",
            "showbackground": true,
            "ticks": "",
            "zerolinecolor": "white"
           }
          },
          "shapedefaults": {
           "line": {
            "color": "#2a3f5f"
           }
          },
          "ternary": {
           "aaxis": {
            "gridcolor": "white",
            "linecolor": "white",
            "ticks": ""
           },
           "baxis": {
            "gridcolor": "white",
            "linecolor": "white",
            "ticks": ""
           },
           "bgcolor": "#E5ECF6",
           "caxis": {
            "gridcolor": "white",
            "linecolor": "white",
            "ticks": ""
           }
          },
          "title": {
           "x": 0.05
          },
          "xaxis": {
           "automargin": true,
           "gridcolor": "white",
           "linecolor": "white",
           "ticks": "",
           "title": {
            "standoff": 15
           },
           "zerolinecolor": "white",
           "zerolinewidth": 2
          },
          "yaxis": {
           "automargin": true,
           "gridcolor": "white",
           "linecolor": "white",
           "ticks": "",
           "title": {
            "standoff": 15
           },
           "zerolinecolor": "white",
           "zerolinewidth": 2
          }
         }
        },
        "xaxis": {
         "anchor": "y",
         "domain": [
          0,
          1
         ],
         "title": {
          "text": "Population Group"
         }
        },
        "yaxis": {
         "anchor": "x",
         "domain": [
          0,
          1
         ],
         "title": {
          "text": "Emission Group"
         }
        }
       }
      }
     },
     "metadata": {},
     "output_type": "display_data"
    },
    {
     "data": {
      "image/png": "[encoded data removed]",
      "text/plain": [
       "<Figure size 432x288 with 1 Axes>"
      ]
     },
     "metadata": {
      "needs_background": "light"
     },
     "output_type": "display_data"
    },
    {
     "data": {
      "application/vnd.plotly.v1+json": {
       "config": {
        "plotlyServerURL": "https://plot.ly"
       },
       "data": [
        {
         "customdata": [
          [
           "Belarus"
          ],
          [
           "Azerbaijan"
          ],
          [
           "Iraq"
          ],
          [
           "Latvia"
          ],
          [
           "Spain"
          ],
          [
           "Egypt"
          ],
          [
           "Slovenia"
          ],
          [
           "Yemen"
          ],
          [
           "Croatia"
          ],
          [
           "Czech Republic"
          ],
          [
           "Algeria"
          ],
          [
           "Mongolia"
          ],
          [
           "Turkey"
          ],
          [
           "Bosnia and Herzegovina"
          ],
          [
           "Morocco"
          ],
          [
           "Ukraine"
          ],
          [
           "Bahamas"
          ],
          [
           "Togo"
          ],
          [
           "Rwanda"
          ],
          [
           "Botswana"
          ],
          [
           "Papua New Guinea"
          ],
          [
           "Tunisia"
          ],
          [
           "Poland"
          ],
          [
           "Greece"
          ],
          [
           "Palestine"
          ],
          [
           "Serbia"
          ],
          [
           "Bulgaria"
          ],
          [
           "Burundi"
          ],
          [
           "New Zealand"
          ],
          [
           "Hungary"
          ],
          [
           "Fiji"
          ],
          [
           "Lesotho"
          ],
          [
           "Georgia"
          ],
          [
           "Canada"
          ],
          [
           "Slovakia"
          ],
          [
           "Senegal"
          ],
          [
           "Chile"
          ],
          [
           "Syria"
          ],
          [
           "South Sudan"
          ],
          [
           "Mali"
          ],
          [
           "Costa Rica"
          ],
          [
           "Niger"
          ],
          [
           "Italy"
          ],
          [
           "Albania"
          ],
          [
           "Iran"
          ],
          [
           "Angola"
          ],
          [
           "Cuba"
          ],
          [
           "France"
          ],
          [
           "Tanzania"
          ],
          [
           "Romania"
          ],
          [
           "North Korea"
          ],
          [
           "Guinea"
          ],
          [
           "Zambia"
          ],
          [
           "Afghanistan"
          ],
          [
           "Kazakhstan"
          ],
          [
           "South Africa"
          ],
          [
           "Uruguay"
          ],
          [
           "Namibia"
          ],
          [
           "Burkina Faso"
          ],
          [
           "Australia"
          ],
          [
           "South Korea"
          ],
          [
           "Somalia"
          ],
          [
           "Jamaica"
          ],
          [
           "Venezuela"
          ],
          [
           "Peru"
          ],
          [
           "Dominican Republic"
          ],
          [
           "Guatemala"
          ],
          [
           "Japan"
          ],
          [
           "Argentina"
          ],
          [
           "Myanmar"
          ],
          [
           "Malaysia"
          ],
          [
           "Sudan"
          ],
          [
           "El Salvador"
          ],
          [
           "Kenya"
          ],
          [
           "Germany"
          ],
          [
           "Bolivia"
          ],
          [
           "Mozambique"
          ],
          [
           "Russia"
          ],
          [
           "Mauritania"
          ],
          [
           "Ecuador"
          ],
          [
           "Haiti"
          ],
          [
           "Guyana"
          ],
          [
           "Ethiopia"
          ],
          [
           "Brazil"
          ],
          [
           "Chad"
          ],
          [
           "Paraguay"
          ],
          [
           "Nigeria"
          ],
          [
           "Uganda"
          ],
          [
           "Ghana"
          ],
          [
           "Indonesia"
          ],
          [
           "Malawi"
          ],
          [
           "Mexico"
          ],
          [
           "Madagascar"
          ],
          [
           "Vietnam"
          ],
          [
           "Cambodia"
          ],
          [
           "Taiwan"
          ],
          [
           "Sri Lanka"
          ],
          [
           "Colombia"
          ],
          [
           "Thailand"
          ],
          [
           "Philippines"
          ],
          [
           "Nepal"
          ],
          [
           "Pakistan"
          ],
          [
           "China"
          ],
          [
           "Bangladesh"
          ],
          [
           "Nicaragua"
          ],
          [
           "India"
          ]
         ],
         "hovertemplate": "Population Group=%{x}<br>Emission Group=%{y}<br>Ratio=%{marker.size}<br>Country Name=%{customdata[0]}<br>color=%{marker.color}<extra></extra>",
         "legendgroup": "",
         "marker": {
          "color": [
           1,
           1,
           0,
           1,
           0,
           0,
           1,
           1,
           1,
           0,
           0,
           1,
           0,
           1,
           0,
           0,
           1,
           1,
           1,
           1,
           1,
           1,
           0,
           0,
           1,
           0,
           0,
           1,
           0,
           1,
           1,
           1,
           1,
           0,
           1,
           1,
           1,
           1,
           1,
           1,
           1,
           1,
           0,
           0,
           0,
           0,
           0,
           0,
           0,
           0,
           0,
           1,
           2,
           2,
           3,
           3,
           2,
           2,
           2,
           3,
           3,
           2,
           2,
           3,
           3,
           2,
           2,
           3,
           3,
           2,
           3,
           2,
           2,
           2,
           3,
           2,
           2,
           3,
           2,
           3,
           2,
           2,
           2,
           3,
           2,
           2,
           3,
           2,
           2,
           3,
           2,
           3,
           2,
           3,
           2,
           3,
           2,
           3,
           3,
           3,
           2,
           3,
           3,
           3,
           2,
           3
          ],
          "coloraxis": "coloraxis",
          "size": [
           24,
           19,
           15.5,
           5,
           16,
           10.333333333333334,
           3,
           4,
           0.6,
           5.4,
           6,
           0.16666666666666666,
           6.571428571428571,
           2,
           4.25,
           4.125,
           0.6666666666666666,
           0.4444444444444444,
           0.2,
           1.5,
           2,
           1.6363636363636365,
           2.75,
           3.4166666666666665,
           0.38461538461538464,
           2.8461538461538463,
           2.4285714285714284,
           0.14285714285714285,
           2.533333333333333,
           1.4666666666666666,
           0.1875,
           0.3125,
           0.4117647058823529,
           2.8823529411764706,
           1.1666666666666667,
           1.2777777777777777,
           1.2105263157894737,
           1.0526315789473684,
           0.05,
           0.6,
           0.42857142857142855,
           0.38095238095238093,
           1.8181818181818181,
           1.1818181818181819,
           1.9130434782608696,
           1.5217391304347827,
           1.3333333333333333,
           1.9583333333333333,
           1.04,
           1.52,
           1.4230769230769231,
           0.15384615384615385,
           0.48148148148148145,
           0.6296296296296297,
           1.6785714285714286,
           1.7857142857142858,
           0.9310344827586207,
           0.7241379310344828,
           0.2,
           1.7,
           1.2580645161290323,
           0.3225806451612903,
           0.34375,
           1.40625,
           1.0909090909090908,
           0.9090909090909091,
           0.4411764705882353,
           1.2941176470588236,
           1.3142857142857143,
           0.8285714285714286,
           1.25,
           0.8055555555555556,
           0.21621621621621623,
           0.7567567567567568,
           1.368421052631579,
           0.8421052631578947,
           0.6153846153846154,
           1.3333333333333333,
           0.225,
           0.875,
           0.34146341463414637,
           0.3170731707317073,
           0.4523809523809524,
           1.1666666666666667,
           0.16279069767441862,
           0.5813953488372093,
           0.9545454545454546,
           0.36363636363636365,
           0.6222222222222222,
           1.1111111111111112,
           0.2391304347826087,
           1.108695652173913,
           0.425531914893617,
           0.9148936170212766,
           0.5208333333333334,
           0.875,
           0.6122448979591837,
           0.8163265306122449,
           0.96,
           0.82,
           0.3333333333333333,
           0.8431372549019608,
           1.0192307692307692,
           0.75,
           0.33962264150943394,
           1
          ],
          "sizemode": "area",
          "sizeref": 0.06,
          "symbol": "circle"
         },
         "mode": "markers",
         "name": "",
         "orientation": "v",
         "showlegend": false,
         "type": "scatter",
         "x": [
          0,
          0,
          1,
          1,
          2,
          2,
          3,
          3,
          4,
          4,
          5,
          5,
          6,
          6,
          7,
          7,
          8,
          8,
          9,
          9,
          10,
          10,
          11,
          11,
          12,
          12,
          13,
          13,
          14,
          14,
          15,
          15,
          16,
          16,
          17,
          17,
          18,
          18,
          19,
          19,
          20,
          20,
          21,
          21,
          22,
          22,
          23,
          23,
          24,
          24,
          25,
          25,
          26,
          26,
          27,
          27,
          28,
          28,
          29,
          29,
          30,
          30,
          31,
          31,
          32,
          32,
          33,
          33,
          34,
          34,
          35,
          35,
          36,
          36,
          37,
          37,
          38,
          38,
          39,
          39,
          40,
          40,
          41,
          41,
          42,
          42,
          43,
          43,
          44,
          44,
          45,
          45,
          46,
          46,
          47,
          47,
          48,
          48,
          49,
          49,
          50,
          50,
          51,
          51,
          52,
          52
         ],
         "xaxis": "x",
         "y": [
          23,
          18,
          30,
          9,
          47,
          30,
          11,
          15,
          2,
          26,
          35,
          0,
          45,
          13,
          33,
          32,
          5,
          3,
          1,
          14,
          21,
          17,
          32,
          40,
          4,
          36,
          33,
          1,
          37,
          21,
          2,
          4,
          6,
          48,
          20,
          22,
          22,
          19,
          0,
          11,
          8,
          7,
          39,
          25,
          43,
          34,
          31,
          46,
          25,
          37,
          36,
          3,
          12,
          16,
          46,
          49,
          26,
          20,
          5,
          50,
          38,
          9,
          10,
          44,
          35,
          29,
          14,
          43,
          45,
          28,
          44,
          28,
          7,
          27,
          51,
          31,
          23,
          51,
          8,
          34,
          13,
          12,
          18,
          48,
          6,
          24,
          41,
          15,
          27,
          49,
          10,
          50,
          19,
          42,
          24,
          41,
          29,
          39,
          47,
          40,
          16,
          42,
          52,
          38,
          17,
          52
         ],
         "yaxis": "y"
        }
       ],
       "layout": {
        "coloraxis": {
         "colorbar": {
          "title": {
           "text": "color"
          }
         },
         "colorscale": [
          [
           0,
           "#0d0887"
          ],
          [
           0.1111111111111111,
           "#46039f"
          ],
          [
           0.2222222222222222,
           "#7201a8"
          ],
          [
           0.3333333333333333,
           "#9c179e"
          ],
          [
           0.4444444444444444,
           "#bd3786"
          ],
          [
           0.5555555555555556,
           "#d8576b"
          ],
          [
           0.6666666666666666,
           "#ed7953"
          ],
          [
           0.7777777777777778,
           "#fb9f3a"
          ],
          [
           0.8888888888888888,
           "#fdca26"
          ],
          [
           1,
           "#f0f921"
          ]
         ]
        },
        "legend": {
         "itemsizing": "constant",
         "tracegroupgap": 0
        },
        "margin": {
         "t": 60
        },
        "template": {
         "data": {
          "bar": [
           {
            "error_x": {
             "color": "#2a3f5f"
            },
            "error_y": {
             "color": "#2a3f5f"
            },
            "marker": {
             "line": {
              "color": "#E5ECF6",
              "width": 0.5
             },
             "pattern": {
              "fillmode": "overlay",
              "size": 10,
              "solidity": 0.2
             }
            },
            "type": "bar"
           }
          ],
          "barpolar": [
           {
            "marker": {
             "line": {
              "color": "#E5ECF6",
              "width": 0.5
             },
             "pattern": {
              "fillmode": "overlay",
              "size": 10,
              "solidity": 0.2
             }
            },
            "type": "barpolar"
           }
          ],
          "carpet": [
           {
            "aaxis": {
             "endlinecolor": "#2a3f5f",
             "gridcolor": "white",
             "linecolor": "white",
             "minorgridcolor": "white",
             "startlinecolor": "#2a3f5f"
            },
            "baxis": {
             "endlinecolor": "#2a3f5f",
             "gridcolor": "white",
             "linecolor": "white",
             "minorgridcolor": "white",
             "startlinecolor": "#2a3f5f"
            },
            "type": "carpet"
           }
          ],
          "choropleth": [
           {
            "colorbar": {
             "outlinewidth": 0,
             "ticks": ""
            },
            "type": "choropleth"
           }
          ],
          "contour": [
           {
            "colorbar": {
             "outlinewidth": 0,
             "ticks": ""
            },
            "colorscale": [
             [
              0,
              "#0d0887"
             ],
             [
              0.1111111111111111,
              "#46039f"
             ],
             [
              0.2222222222222222,
              "#7201a8"
             ],
             [
              0.3333333333333333,
              "#9c179e"
             ],
             [
              0.4444444444444444,
              "#bd3786"
             ],
             [
              0.5555555555555556,
              "#d8576b"
             ],
             [
              0.6666666666666666,
              "#ed7953"
             ],
             [
              0.7777777777777778,
              "#fb9f3a"
             ],
             [
              0.8888888888888888,
              "#fdca26"
             ],
             [
              1,
              "#f0f921"
             ]
            ],
            "type": "contour"
           }
          ],
          "contourcarpet": [
           {
            "colorbar": {
             "outlinewidth": 0,
             "ticks": ""
            },
            "type": "contourcarpet"
           }
          ],
          "heatmap": [
           {
            "colorbar": {
             "outlinewidth": 0,
             "ticks": ""
            },
            "colorscale": [
             [
              0,
              "#0d0887"
             ],
             [
              0.1111111111111111,
              "#46039f"
             ],
             [
              0.2222222222222222,
              "#7201a8"
             ],
             [
              0.3333333333333333,
              "#9c179e"
             ],
             [
              0.4444444444444444,
              "#bd3786"
             ],
             [
              0.5555555555555556,
              "#d8576b"
             ],
             [
              0.6666666666666666,
              "#ed7953"
             ],
             [
              0.7777777777777778,
              "#fb9f3a"
             ],
             [
              0.8888888888888888,
              "#fdca26"
             ],
             [
              1,
              "#f0f921"
             ]
            ],
            "type": "heatmap"
           }
          ],
          "heatmapgl": [
           {
            "colorbar": {
             "outlinewidth": 0,
             "ticks": ""
            },
            "colorscale": [
             [
              0,
              "#0d0887"
             ],
             [
              0.1111111111111111,
              "#46039f"
             ],
             [
              0.2222222222222222,
              "#7201a8"
             ],
             [
              0.3333333333333333,
              "#9c179e"
             ],
             [
              0.4444444444444444,
              "#bd3786"
             ],
             [
              0.5555555555555556,
              "#d8576b"
             ],
             [
              0.6666666666666666,
              "#ed7953"
             ],
             [
              0.7777777777777778,
              "#fb9f3a"
             ],
             [
              0.8888888888888888,
              "#fdca26"
             ],
             [
              1,
              "#f0f921"
             ]
            ],
            "type": "heatmapgl"
           }
          ],
          "histogram": [
           {
            "marker": {
             "pattern": {
              "fillmode": "overlay",
              "size": 10,
              "solidity": 0.2
             }
            },
            "type": "histogram"
           }
          ],
          "histogram2d": [
           {
            "colorbar": {
             "outlinewidth": 0,
             "ticks": ""
            },
            "colorscale": [
             [
              0,
              "#0d0887"
             ],
             [
              0.1111111111111111,
              "#46039f"
             ],
             [
              0.2222222222222222,
              "#7201a8"
             ],
             [
              0.3333333333333333,
              "#9c179e"
             ],
             [
              0.4444444444444444,
              "#bd3786"
             ],
             [
              0.5555555555555556,
              "#d8576b"
             ],
             [
              0.6666666666666666,
              "#ed7953"
             ],
             [
              0.7777777777777778,
              "#fb9f3a"
             ],
             [
              0.8888888888888888,
              "#fdca26"
             ],
             [
              1,
              "#f0f921"
             ]
            ],
            "type": "histogram2d"
           }
          ],
          "histogram2dcontour": [
           {
            "colorbar": {
             "outlinewidth": 0,
             "ticks": ""
            },
            "colorscale": [
             [
              0,
              "#0d0887"
             ],
             [
              0.1111111111111111,
              "#46039f"
             ],
             [
              0.2222222222222222,
              "#7201a8"
             ],
             [
              0.3333333333333333,
              "#9c179e"
             ],
             [
              0.4444444444444444,
              "#bd3786"
             ],
             [
              0.5555555555555556,
              "#d8576b"
             ],
             [
              0.6666666666666666,
              "#ed7953"
             ],
             [
              0.7777777777777778,
              "#fb9f3a"
             ],
             [
              0.8888888888888888,
              "#fdca26"
             ],
             [
              1,
              "#f0f921"
             ]
            ],
            "type": "histogram2dcontour"
           }
          ],
          "mesh3d": [
           {
            "colorbar": {
             "outlinewidth": 0,
             "ticks": ""
            },
            "type": "mesh3d"
           }
          ],
          "parcoords": [
           {
            "line": {
             "colorbar": {
              "outlinewidth": 0,
              "ticks": ""
             }
            },
            "type": "parcoords"
           }
          ],
          "pie": [
           {
            "automargin": true,
            "type": "pie"
           }
          ],
          "scatter": [
           {
            "marker": {
             "colorbar": {
              "outlinewidth": 0,
              "ticks": ""
             }
            },
            "type": "scatter"
           }
          ],
          "scatter3d": [
           {
            "line": {
             "colorbar": {
              "outlinewidth": 0,
              "ticks": ""
             }
            },
            "marker": {
             "colorbar": {
              "outlinewidth": 0,
              "ticks": ""
             }
            },
            "type": "scatter3d"
           }
          ],
          "scattercarpet": [
           {
            "marker": {
             "colorbar": {
              "outlinewidth": 0,
              "ticks": ""
             }
            },
            "type": "scattercarpet"
           }
          ],
          "scattergeo": [
           {
            "marker": {
             "colorbar": {
              "outlinewidth": 0,
              "ticks": ""
             }
            },
            "type": "scattergeo"
           }
          ],
          "scattergl": [
           {
            "marker": {
             "colorbar": {
              "outlinewidth": 0,
              "ticks": ""
             }
            },
            "type": "scattergl"
           }
          ],
          "scattermapbox": [
           {
            "marker": {
             "colorbar": {
              "outlinewidth": 0,
              "ticks": ""
             }
            },
            "type": "scattermapbox"
           }
          ],
          "scatterpolar": [
           {
            "marker": {
             "colorbar": {
              "outlinewidth": 0,
              "ticks": ""
             }
            },
            "type": "scatterpolar"
           }
          ],
          "scatterpolargl": [
           {
            "marker": {
             "colorbar": {
              "outlinewidth": 0,
              "ticks": ""
             }
            },
            "type": "scatterpolargl"
           }
          ],
          "scatterternary": [
           {
            "marker": {
             "colorbar": {
              "outlinewidth": 0,
              "ticks": ""
             }
            },
            "type": "scatterternary"
           }
          ],
          "surface": [
           {
            "colorbar": {
             "outlinewidth": 0,
             "ticks": ""
            },
            "colorscale": [
             [
              0,
              "#0d0887"
             ],
             [
              0.1111111111111111,
              "#46039f"
             ],
             [
              0.2222222222222222,
              "#7201a8"
             ],
             [
              0.3333333333333333,
              "#9c179e"
             ],
             [
              0.4444444444444444,
              "#bd3786"
             ],
             [
              0.5555555555555556,
              "#d8576b"
             ],
             [
              0.6666666666666666,
              "#ed7953"
             ],
             [
              0.7777777777777778,
              "#fb9f3a"
             ],
             [
              0.8888888888888888,
              "#fdca26"
             ],
             [
              1,
              "#f0f921"
             ]
            ],
            "type": "surface"
           }
          ],
          "table": [
           {
            "cells": {
             "fill": {
              "color": "#EBF0F8"
             },
             "line": {
              "color": "white"
             }
            },
            "header": {
             "fill": {
              "color": "#C8D4E3"
             },
             "line": {
              "color": "white"
             }
            },
            "type": "table"
           }
          ]
         },
         "layout": {
          "annotationdefaults": {
           "arrowcolor": "#2a3f5f",
           "arrowhead": 0,
           "arrowwidth": 1
          },
          "autotypenumbers": "strict",
          "coloraxis": {
           "colorbar": {
            "outlinewidth": 0,
            "ticks": ""
           }
          },
          "colorscale": {
           "diverging": [
            [
             0,
             "#8e0152"
            ],
            [
             0.1,
             "#c51b7d"
            ],
            [
             0.2,
             "#de77ae"
            ],
            [
             0.3,
             "#f1b6da"
            ],
            [
             0.4,
             "#fde0ef"
            ],
            [
             0.5,
             "#f7f7f7"
            ],
            [
             0.6,
             "#e6f5d0"
            ],
            [
             0.7,
             "#b8e186"
            ],
            [
             0.8,
             "#7fbc41"
            ],
            [
             0.9,
             "#4d9221"
            ],
            [
             1,
             "#276419"
            ]
           ],
           "sequential": [
            [
             0,
             "#0d0887"
            ],
            [
             0.1111111111111111,
             "#46039f"
            ],
            [
             0.2222222222222222,
             "#7201a8"
            ],
            [
             0.3333333333333333,
             "#9c179e"
            ],
            [
             0.4444444444444444,
             "#bd3786"
            ],
            [
             0.5555555555555556,
             "#d8576b"
            ],
            [
             0.6666666666666666,
             "#ed7953"
            ],
            [
             0.7777777777777778,
             "#fb9f3a"
            ],
            [
             0.8888888888888888,
             "#fdca26"
            ],
            [
             1,
             "#f0f921"
            ]
           ],
           "sequentialminus": [
            [
             0,
             "#0d0887"
            ],
            [
             0.1111111111111111,
             "#46039f"
            ],
            [
             0.2222222222222222,
             "#7201a8"
            ],
            [
             0.3333333333333333,
             "#9c179e"
            ],
            [
             0.4444444444444444,
             "#bd3786"
            ],
            [
             0.5555555555555556,
             "#d8576b"
            ],
            [
             0.6666666666666666,
             "#ed7953"
            ],
            [
             0.7777777777777778,
             "#fb9f3a"
            ],
            [
             0.8888888888888888,
             "#fdca26"
            ],
            [
             1,
             "#f0f921"
            ]
           ]
          },
          "colorway": [
           "#636efa",
           "#EF553B",
           "#00cc96",
           "#ab63fa",
           "#FFA15A",
           "#19d3f3",
           "#FF6692",
           "#B6E880",
           "#FF97FF",
           "#FECB52"
          ],
          "font": {
           "color": "#2a3f5f"
          },
          "geo": {
           "bgcolor": "white",
           "lakecolor": "white",
           "landcolor": "#E5ECF6",
           "showlakes": true,
           "showland": true,
           "subunitcolor": "white"
          },
          "hoverlabel": {
           "align": "left"
          },
          "hovermode": "closest",
          "mapbox": {
           "style": "light"
          },
          "paper_bgcolor": "white",
          "plot_bgcolor": "#E5ECF6",
          "polar": {
           "angularaxis": {
            "gridcolor": "white",
            "linecolor": "white",
            "ticks": ""
           },
           "bgcolor": "#E5ECF6",
           "radialaxis": {
            "gridcolor": "white",
            "linecolor": "white",
            "ticks": ""
           }
          },
          "scene": {
           "xaxis": {
            "backgroundcolor": "#E5ECF6",
            "gridcolor": "white",
            "gridwidth": 2,
            "linecolor": "white",
            "showbackground": true,
            "ticks": "",
            "zerolinecolor": "white"
           },
           "yaxis": {
            "backgroundcolor": "#E5ECF6",
            "gridcolor": "white",
            "gridwidth": 2,
            "linecolor": "white",
            "showbackground": true,
            "ticks": "",
            "zerolinecolor": "white"
           },
           "zaxis": {
            "backgroundcolor": "#E5ECF6",
            "gridcolor": "white",
            "gridwidth": 2,
            "linecolor": "white",
            "showbackground": true,
            "ticks": "",
            "zerolinecolor": "white"
           }
          },
          "shapedefaults": {
           "line": {
            "color": "#2a3f5f"
           }
          },
          "ternary": {
           "aaxis": {
            "gridcolor": "white",
            "linecolor": "white",
            "ticks": ""
           },
           "baxis": {
            "gridcolor": "white",
            "linecolor": "white",
            "ticks": ""
           },
           "bgcolor": "#E5ECF6",
           "caxis": {
            "gridcolor": "white",
            "linecolor": "white",
            "ticks": ""
           }
          },
          "title": {
           "x": 0.05
          },
          "xaxis": {
           "automargin": true,
           "gridcolor": "white",
           "linecolor": "white",
           "ticks": "",
           "title": {
            "standoff": 15
           },
           "zerolinecolor": "white",
           "zerolinewidth": 2
          },
          "yaxis": {
           "automargin": true,
           "gridcolor": "white",
           "linecolor": "white",
           "ticks": "",
           "title": {
            "standoff": 15
           },
           "zerolinecolor": "white",
           "zerolinewidth": 2
          }
         }
        },
        "xaxis": {
         "anchor": "y",
         "domain": [
          0,
          1
         ],
         "title": {
          "text": "Population Group"
         }
        },
        "yaxis": {
         "anchor": "x",
         "domain": [
          0,
          1
         ],
         "title": {
          "text": "Emission Group"
         }
        }
       }
      }
     },
     "metadata": {},
     "output_type": "display_data"
    }
   ],
   "source": [
    "# Reading data and renaming columns\n",
    "co2_data = pd.read_csv(\"Datasets/co2_emission.csv\")\n",
    "flood_data = pd.read_csv(\"Datasets/gfd_event_stats_20215_13_error_fixed_2.csv\")\n",
    "co2_data.rename(columns={'Annual CO₂ emissions (tonnes )':'Emission'} ,inplace=True)\n",
    "flood_data['totalPopulation'] = flood_data['dfo_dead'] + flood_data['dfo_displaced']\n",
    "\n",
    "def getCommons():\n",
    "    country_list = np.unique(flood_data['dfo_country'])\n",
    "    co2_country = np.unique(co2_data['Entity'])\n",
    "    country_list.sort()\n",
    "    co2_country.sort()\n",
    "    common_countries = []\n",
    "    count = 0\n",
    "    for countryName in country_list:\n",
    "        for country in co2_country:\n",
    "            if(countryName == country):\n",
    "                count = count + 1\n",
    "                common_countries.append(countryName)\n",
    "    return common_countries\n",
    "\n",
    "def getTimeRange(countryName):\n",
    "    split_list = []\n",
    "    for info in flood_data[flood_data['dfo_country'] == countryName]['system:index']:\n",
    "        splitted = info.split('_')\n",
    "        split_list.append(splitted[-1][0:4])\n",
    "    return (split_list[0] ,split_list[-1])\n",
    "common_countries = getCommons()\n",
    "\n",
    "def getTotalPop(countryName):\n",
    "    return flood_data[flood_data['dfo_country'] == countryName]['totalPopulation'].sum()\n",
    "\n",
    "def getCO2Pollution(dates ,countryName):\n",
    "    countryData = co2_data[co2_data['Entity'] == countryName]\n",
    "    times = list(np.arange(int(dates[0]) ,(int(dates[1])+1)))\n",
    "    total = countryData[countryData['Year'].isin(times)]['Emission'].sum()\n",
    "    return total\n",
    "\n",
    "country_data_co2 = co2_data[ (co2_data['Entity'] == common_countries[0])]\n",
    "country_data_flood = flood_data[ flood_data['dfo_country'] == common_countries[0] ]\n",
    "country_data_flood = flood_data[['dfo_began' ,'dfo_ended' ,'totalPopulation']]\n",
    "\n",
    "data = []\n",
    "formatted_data = []\n",
    "for countryName in common_countries:\n",
    "    data.append([countryName ,getTotalPop(countryName) ,getCO2Pollution(getTimeRange(countryName) ,countryName)])\n",
    "\n",
    "for row in data:\n",
    "    formatted_data.append([float(row[1]),float(row[2])])\n",
    "\n",
    "arr = np.array(formatted_data)\n",
    "names = np.array(data)\n",
    "\n",
    "d = {'Country Name' : names[:,0] ,'Total Population' :arr[:,0] ,'Emission' : arr[:,1]}\n",
    "df = pd.DataFrame(data=d)\n",
    "df['Ratio'] = df['Total Population'] / df['Emission'] \n",
    "\n",
    "df['Emission Group'] = 0\n",
    "df['Population Group'] = 0\n",
    "df = df.sort_values(by=['Emission'])\n",
    "emission_indexes = df['Emission'].index\n",
    "index = 0\n",
    "for i in emission_indexes:\n",
    "    df.at[emission_indexes[index] ,'Emission Group'] = index / 2\n",
    "    index = index + 1\n",
    "\n",
    "df = df.sort_values(by=['Total Population'])\n",
    "pop_indexes = df['Emission'].index\n",
    "index = 0\n",
    "for i in pop_indexes:\n",
    "    df.at[pop_indexes[index] ,'Population Group'] = index / 2\n",
    "    index = index + 1\n",
    "\n",
    "df['Ratio'] = (df['Emission Group']+1) / (df['Population Group']+1) \n",
    "\n",
    "df.replace(np.inf ,0 ,inplace=True)\n",
    "\n",
    "fig = px.scatter(df,x='Population Group',y='Emission Group',hover_data=['Country Name'])\n",
    "fig.show()\n",
    "\n",
    "kmeans_df = df[['Population Group','Emission Group']]\n",
    "kmeans_df = kmeans_df.to_numpy()\n",
    "\n",
    "# Using elbow method to find optimal cluster number.\n",
    "inertias = []\n",
    "mapping1 = {}\n",
    "mapping2 = {}\n",
    "K = range(1, 10)\n",
    " \n",
    "for k in K:\n",
    "    # Building and fitting the model\n",
    "    kmeanModel = KMeans(n_clusters=k).fit(kmeans_df)\n",
    "    kmeanModel.fit(kmeans_df)\n",
    "    inertias.append(kmeanModel.inertia_)\n",
    " \n",
    "    mapping1[k] = sum(np.min(cdist(kmeans_df, kmeanModel.cluster_centers_,\n",
    "                                   'euclidean'), axis=1)) / kmeans_df.shape[0]\n",
    "    mapping2[k] = kmeanModel.inertia_\n",
    "\n",
    "plt.plot(K, inertias, 'bx-')\n",
    "plt.xlabel('Values of K')\n",
    "plt.ylabel('Inertia')\n",
    "plt.title('The Elbow Method using Inertia')\n",
    "plt.show()\n",
    "\n",
    "last_df = pd.DataFrame(df, columns = ['Population Group','Emission Group','Country Name','Ratio'])\n",
    "kmeans = KMeans(n_clusters=4, random_state=0)\n",
    "\n",
    "kmeans = kmeans.fit(kmeans_df)\n",
    "\n",
    "fig2 = px.scatter(last_df, x='Population Group',y='Emission Group', color=kmeans.labels_, \n",
    "                 hover_data=['Country Name'] ,size='Ratio')  \n",
    "fig2.show()"
   ]
  }
 ],
 "metadata": {
  "interpreter": {
   "hash": "a21643d6a30958fc5855091cb7dfa067be78a8192b877b086d16665778ebb1c4"
  },
  "kernelspec": {
   "display_name": "Python 3.9.9 64-bit (windows store)",
   "language": "python",
   "name": "python3"
  },
  "language_info": {
   "codemirror_mode": {
    "name": "ipython",
    "version": 3
   },
   "file_extension": ".py",
   "mimetype": "text/x-python",
   "name": "python",
   "nbconvert_exporter": "python",
   "pygments_lexer": "ipython3",
   "version": "3.9.5"
  },
  "orig_nbformat": 4
 },
 "nbformat": 4,
 "nbformat_minor": 2
}
